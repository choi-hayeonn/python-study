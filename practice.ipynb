{
 "cells": [
  {
   "cell_type": "code",
   "execution_count": 32,
   "id": "967ec59a",
   "metadata": {},
   "outputs": [
    {
     "name": "stdout",
     "output_type": "stream",
     "text": [
      "True\n",
      "9\n"
     ]
    }
   ],
   "source": [
    "# 문제. 하샤드 수 (방법.1)\n",
    "# 양의 정수 x가 하샤드 수이려면 x의 자릿수의 합으로 x가 나누어져야 합니다. \n",
    "# 예를 들어 18의 자릿수 합은 1+8=9이고, 18은 9로 나누어 떨어지므로 18은 하샤드 수입니다. \n",
    "# 자연수 x를 입력받아 x가 하샤드 수인지 아닌지 검사하는 함수, solution을 완성해주세요\n",
    "\n",
    "x = int(input(\"정수를 입력하세요.\"))\n",
    "a = 0\n",
    "converted = str(x)\n",
    "for s in converted:\n",
    "    a += int(s)\n",
    "\n",
    "if x % a == 0:\n",
    "    print(True)\n",
    "else:\n",
    "    print(False)\n",
    "\n",
    "print(a)\n"
   ]
  },
  {
   "cell_type": "code",
   "execution_count": 23,
   "id": "c38981d2",
   "metadata": {},
   "outputs": [
    {
     "name": "stdout",
     "output_type": "stream",
     "text": [
      "비밀코드를 입력하세요: \n",
      "비밀코드를 입력하세요: \n",
      "비밀코드를 입력하세요: \n",
      "입장이 허용되었습니다.\n"
     ]
    }
   ],
   "source": [
    "# 비밀코드 맞추기 1\n",
    "secret_code = \"codingonre3\"\n",
    "user_input = 0\n",
    "\n",
    "\n",
    "while user_input != secret_code:\n",
    "    user_input = input(\"비밀 코드를 입력하세요: \")\n",
    "    print(\"비밀코드를 입력하세요: \")\n",
    "\n",
    "print(\"입장이 허용되었습니다.\")\n"
   ]
  },
  {
   "cell_type": "code",
   "execution_count": 27,
   "id": "60f78c67",
   "metadata": {},
   "outputs": [
    {
     "name": "stdout",
     "output_type": "stream",
     "text": [
      "50보다는 작아요\n",
      "40보다는 작아요\n",
      "30보다는 작아요\n",
      "32보다는 작아요\n",
      "20보다는 작아요\n",
      "10보다는 작아요\n",
      "8보다는 작아요\n",
      "8번 만에 정답을 맞혔습니다.\n"
     ]
    }
   ],
   "source": [
    "# 업다운 게임\n",
    "import random\n",
    "answer = random.randint(1,100)\n",
    "\n",
    "a = 0\n",
    "time = 0\n",
    "while a != answer:\n",
    "    a = int(input(\"0~100 범위의 정수를 입력하세요:\"))\n",
    "    time += 1\n",
    "    if a > answer:\n",
    "        print(f\"{a}보다는 작아요\")\n",
    "    if a < answer:\n",
    "        print(f\"{a}보다는 커요\")\n",
    "\n",
    "print(f\"{time}번 만에 정답을 맞혔습니다.\")"
   ]
  },
  {
   "cell_type": "code",
   "execution_count": null,
   "id": "d3963da5",
   "metadata": {},
   "outputs": [
    {
     "name": "stdout",
     "output_type": "stream",
     "text": [
      "비밀코드를 입력하세요: \n",
      "비밀코드가 틀렸습니다. 다시 도전하세요. \n",
      "비밀코드가 틀렸습니다. 다시 도전하세요. \n",
      "입장 완료! 환영합니다.\n"
     ]
    }
   ],
   "source": [
    "# 비밀코드 맞추기 2\n",
    "secret_code = \"codingonre3\"\n",
    "user_input = 0\n",
    "\n",
    "print(\"비밀코드를 입력하세요: \")\n",
    "\n",
    "while True:\n",
    "    user_input = input(\"비밀 코드를 입력하세요: \")\n",
    "    \n",
    "    if user_input == secret_code:    \n",
    "        break \n",
    "    \n",
    "    print(\"비밀코드가 틀렸습니다. 다시 도전하세요. \")\n",
    "\n",
    "print(\"입장 완료! 환영합니다.\")"
   ]
  },
  {
   "cell_type": "code",
   "execution_count": 52,
   "id": "7a1bda14",
   "metadata": {},
   "outputs": [
    {
     "name": "stdout",
     "output_type": "stream",
     "text": [
      "나이를 입력하세요: 54\n",
      "나이를 입력하세요: 78\n",
      "나이를 입력하세요: 7\n",
      "나이를 입력하세요: 5\n",
      "나이를 입력하세요: 39\n",
      "총 나이의 합계는 183, 평균은 36.6\n"
     ]
    }
   ],
   "source": [
    "# 유효한 나이만 평균 내기\n",
    "age_list = []\n",
    "time = 1\n",
    "\n",
    "while True:\n",
    "    age = int(input(\"나이를 입력하세요: \"))\n",
    "    print(f\"나이를 입력하세요: {age}\")\n",
    "    age_list.append(age)\n",
    "    time += 1\n",
    "    if age > 120:\n",
    "        continue\n",
    "    if age <= 0:\n",
    "        continue\n",
    "\n",
    "    if time > 5:\n",
    "        break\n",
    "\n",
    "print(f\"총 나이의 합계는 {sum(age_list)}, 평균은 {sum(age_list)/5}\")"
   ]
  },
  {
   "cell_type": "code",
   "execution_count": 53,
   "id": "ffc4183b",
   "metadata": {},
   "outputs": [
    {
     "name": "stdout",
     "output_type": "stream",
     "text": [
      "로그인 성공!\n"
     ]
    }
   ],
   "source": [
    "# 로그인 시스템 구현\n",
    "\n",
    "correct_ID = \"do\"\n",
    "user_ID = 0\n",
    "correct_pass = \"will\"\n",
    "user_pass = 0\n",
    "\n",
    "while True:\n",
    "    user_ID = input(\"ID를 입력하세요: \")\n",
    "    if user_ID != correct_ID:\n",
    "        ptint(\"ID가 존재하지 않습니다\")\n",
    "        continue\n",
    "    while True:\n",
    "        user_pass = input(\"비밀번호를 입력하세요: \")\n",
    "        if user_pass != correct_pass:\n",
    "            print(\"비밀번호가 틀렸습니다.\")\n",
    "            continue\n",
    "        print(\"로그인 성공!\")\n",
    "        break\n",
    "    break"
   ]
  },
  {
   "cell_type": "code",
   "execution_count": 1,
   "id": "2e7fcf22",
   "metadata": {},
   "outputs": [],
   "source": [
    "# 실습. 컨트롤 제트 (programmers)\n",
    "\n",
    "def solution(s):\n",
    "    # 입력받은 문자열을 split으로 쪼개서 리스트로 만듦\n",
    "    my_list = s.split( )\n",
    "    \n",
    "    # 방법1. my_list의 원소를 순회하며 answer에 하나씩 더한다.\n",
    "    # Z를 만나면 answer에서 n-1의 요소를 뺀다.\n",
    "    answer = 0\n",
    "    \n",
    "    for i in range(len(my_list)):\n",
    "        if my_list[i] == \"Z\":\n",
    "            answer -= int(my_list[i-1])\n",
    "            \n",
    "        else:\n",
    "            answer += int(my_list[i])\n",
    "            \n",
    "    return answer"
   ]
  },
  {
   "cell_type": "code",
   "execution_count": 2,
   "id": "c6def4a5",
   "metadata": {},
   "outputs": [],
   "source": [
    "def solution(s):\n",
    "    my_list = s.split( )\n",
    "\n",
    "    # 방법2. my_list의 원소를 순회하며 하나씩 answer에 추가한다.\n",
    "    # Z를 만나면 answer에서 n-1의 요소를 제거한다.\n",
    "    # 최종적으로 남아있는 answer의 요소를 다 더한다.\n",
    "    answer = []\n",
    "    for i in my_list:\n",
    "        if i == \"Z\":\n",
    "            answer.pop()\n",
    "        else:\n",
    "            answer.append(int(i))\n",
    "            \n",
    "    return sum(answer)"
   ]
  },
  {
   "cell_type": "code",
   "execution_count": 3,
   "id": "f85bb101",
   "metadata": {},
   "outputs": [],
   "source": [
    "def solution(s):\n",
    "    my_list = s.split( )\n",
    "\n",
    "    # 삼항연산자 활용\n",
    "    answer = 0\n",
    "    \n",
    "    for i, n in enumerate(my_list):\n",
    "        answer += -int(my_list[i-1]) if n == \"Z\" else int(n)\n",
    "    \n",
    "    return answer"
   ]
  },
  {
   "cell_type": "code",
   "execution_count": 3,
   "id": "aa7cc49c",
   "metadata": {},
   "outputs": [
    {
     "data": {
      "text/plain": [
       "2"
      ]
     },
     "execution_count": 3,
     "metadata": {},
     "output_type": "execute_result"
    }
   ],
   "source": [
    "len(\"We\")"
   ]
  },
  {
   "cell_type": "code",
   "execution_count": 12,
   "id": "15a7ac21",
   "metadata": {},
   "outputs": [
    {
     "data": {
      "text/plain": [
       "{'6', 'C', 'D'}"
      ]
     },
     "execution_count": 12,
     "metadata": {},
     "output_type": "execute_result"
    }
   ],
   "source": [
    "str1 = \"ab6CDE443fgh22iJKlmn1o\"\n",
    "str2 = \"6CD\"\n",
    "set(str1) & set(str2)"
   ]
  },
  {
   "cell_type": "code",
   "execution_count": 13,
   "id": "9bb84ebe",
   "metadata": {},
   "outputs": [
    {
     "data": {
      "text/plain": [
       "set()"
      ]
     },
     "execution_count": 13,
     "metadata": {},
     "output_type": "execute_result"
    }
   ],
   "source": [
    "a = {1,2,3}\n",
    "b = {4}\n",
    "a&b"
   ]
  },
  {
   "cell_type": "code",
   "execution_count": null,
   "id": "6b9090da",
   "metadata": {},
   "outputs": [],
   "source": [
    "# 하샤드 수 \n",
    "def solution(x):\n",
    "    converted = str(x)\n",
    "    result = 0\n",
    "    for i in x:\n",
    "        result += int(i)\n",
    "    \n",
    "    \n",
    "    return x % result == 0"
   ]
  },
  {
   "cell_type": "code",
   "execution_count": null,
   "id": "e2c4e8ba",
   "metadata": {},
   "outputs": [],
   "source": [
    "# 하샤드 수 \n",
    "def solution(x):\n",
    "    result = sum(map(int, list(str(x))))\n",
    "    return x % result == 0"
   ]
  },
  {
   "cell_type": "code",
   "execution_count": null,
   "id": "e477f947",
   "metadata": {},
   "outputs": [],
   "source": [
    "# 콜라츠 수\n",
    "def collatz(x):\n",
    "    count = 0\n",
    "\n",
    "    while num != 1 or count <= 500:\n",
    "        if x % 2 ==0:\n",
    "            num = x / 2\n",
    "            count += 1\n",
    "        else:\n",
    "            num = 3 * x + 1\n",
    "            count += 1\n",
    "\n",
    "    if count > 500:\n",
    "        return -1\n",
    "    return count"
   ]
  },
  {
   "cell_type": "code",
   "execution_count": null,
   "id": "6274d343",
   "metadata": {},
   "outputs": [],
   "source": [
    "def solution(emergency):\n",
    "    # 응급도를 내림차순으로 정렬한 리스트 생성\n",
    "    sorted_emergency = sorted(emergency, reverse=True)\n",
    "    \n",
    "    # 각 환자의 진료 순서를 저장할 리스트\n",
    "    answer = []\n",
    "    \n",
    "    # 원본 배열의 각 응급도에 대해\n",
    "    for urgent in emergency:\n",
    "        # 정렬된 배열에서의 인덱스를 찾아서 +1 (순서는 1부터 시작)\n",
    "        order = sorted_emergency.index(urgent) + 1\n",
    "        answer.append(order)\n",
    "    \n",
    "    return answer"
   ]
  }
 ],
 "metadata": {
  "kernelspec": {
   "display_name": "python-study",
   "language": "python",
   "name": "python3"
  },
  "language_info": {
   "codemirror_mode": {
    "name": "ipython",
    "version": 3
   },
   "file_extension": ".py",
   "mimetype": "text/x-python",
   "name": "python",
   "nbconvert_exporter": "python",
   "pygments_lexer": "ipython3",
   "version": "3.13.5"
  }
 },
 "nbformat": 4,
 "nbformat_minor": 5
}
