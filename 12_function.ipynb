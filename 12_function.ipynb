{
 "cells": [
  {
   "cell_type": "markdown",
   "id": "4693f524",
   "metadata": {},
   "source": [
    "### 함수(function)\n",
    " - 특정 작업을 수행하는 코드들의 모음\n",
    " - 복잡한 코드를 작은 단위로 나눌 수 있게 도와줌\n",
    " - 특정한 코드들을 재사용 할 수 있게 함"
   ]
  },
  {
   "cell_type": "code",
   "execution_count": null,
   "id": "5a80652e",
   "metadata": {},
   "outputs": [],
   "source": [
    "# 사용자 정의 함수 기본 문법\n",
    "# 함수의 정의 : define의 약자로 def 사용\n",
    "def 함수이름(매개변수):\n",
    "    # 실행 할 코드\n",
    "    print(매개변수)\n",
    "    return \"반환값\"   \n",
    "\n",
    "# 함수의 실행(호출 call)\n",
    "함수이름(\"인자\")\n",
    "\n",
    "# 매개변수(Parameter) : 매개 + 변수\n",
    "# 매개 : 둘 사이를 연결해줌\n",
    "# 함수가 실행될 때 인자로부터 값을 함수의 코드블록으로 전달하는 역할\n",
    "# 매개변수는 입력의 역할\n",
    "# return은 출력의 역할\n",
    "\n",
    "# 인자(Argument) :\n",
    "# 함수의 실행 시 매개변수로 전달하는 실제 값"
   ]
  },
  {
   "cell_type": "code",
   "execution_count": 3,
   "id": "0b09ce2e",
   "metadata": {},
   "outputs": [
    {
     "name": "stdout",
     "output_type": "stream",
     "text": [
      "30\n",
      "50\n",
      "30\n",
      "10\n"
     ]
    }
   ],
   "source": [
    "# 함수의 필요성\n",
    "\n",
    "def my_func(a,b):\n",
    "\n",
    "    if a > b:\n",
    "        return a - b\n",
    "    else:\n",
    "        return a + b\n",
    "\n",
    "print(my_func(10, 20))\n",
    "print(my_func(20, 30))\n",
    "print(my_func(100, 70))\n",
    "print(my_func(50, 40))\n"
   ]
  },
  {
   "cell_type": "code",
   "execution_count": null,
   "id": "5b2538d7",
   "metadata": {},
   "outputs": [
    {
     "name": "stdout",
     "output_type": "stream",
     "text": [
      "안녕하세요. 처음뵙겠습니다.\n"
     ]
    }
   ],
   "source": [
    "# 예제1. \n",
    "# 프로그램의 함수에서 매개변수와 return이 없어도 됨의 예시\n",
    "def introduce():\n",
    "    print(\"안녕하세요. 처음뵙겠습니다.\")\n",
    "\n",
    "introduce()"
   ]
  },
  {
   "cell_type": "code",
   "execution_count": 2,
   "id": "710632d7",
   "metadata": {},
   "outputs": [
    {
     "name": "stdout",
     "output_type": "stream",
     "text": [
      "안녕하세요. 처음뵙겠습니다. 최하연입니다.\n"
     ]
    }
   ],
   "source": [
    "def introduce(name):\n",
    "    print(f\"안녕하세요. 처음뵙겠습니다. {name}입니다.\")\n",
    "\n",
    "introduce(\"최하연\")"
   ]
  },
  {
   "cell_type": "code",
   "execution_count": 4,
   "id": "e0b6dd61",
   "metadata": {},
   "outputs": [
    {
     "name": "stdout",
     "output_type": "stream",
     "text": [
      "30\n",
      "300\n"
     ]
    }
   ],
   "source": [
    "# 예제2.\n",
    "def add(x , y):\n",
    "    return x + y\n",
    "\n",
    "print(add(10 , 20))\n",
    "print(add(100 , 200))"
   ]
  },
  {
   "cell_type": "code",
   "execution_count": null,
   "id": "5d4b071d",
   "metadata": {},
   "outputs": [
    {
     "name": "stdout",
     "output_type": "stream",
     "text": [
      "50\n",
      "20\n",
      "600\n",
      "33.333333333333336\n",
      "지원하지 않는 연산입니다.\n",
      "650\n"
     ]
    }
   ],
   "source": [
    "# 실습. 사칙연산 계산기 함수 만들기\n",
    "def calculate(a, b, operator):\n",
    "    if operator == \"+\":\n",
    "        return a + b\n",
    "    elif operator == \"-\":\n",
    "        return a - b\n",
    "    elif operator == \"*\":\n",
    "        return a * b\n",
    "    elif operator == \"/\":\n",
    "        return float(a / b)\n",
    "    else:\n",
    "        return \"지원하지 않는 연산입니다.\"\n",
    "    \n",
    "print(calculate(20, 30, \"+\"))\n",
    "print(calculate(50, 30, \"-\"))\n",
    "print(calculate(20, 30, \"*\"))\n",
    "print(calculate(100, 3, \"/\"))\n",
    "print(calculate(100, 3, \"$\"))\n",
    "\n",
    "print(calculate(20, 30, \"+\") + calculate(20, 30, \"*\"))    "
   ]
  },
  {
   "cell_type": "code",
   "execution_count": 29,
   "id": "ed09bd6d",
   "metadata": {},
   "outputs": [
    {
     "name": "stdout",
     "output_type": "stream",
     "text": [
      "안녕하세요-반갑습니다 / Hi-Nice to meet you / "
     ]
    },
    {
     "data": {
      "text/plain": [
       "30"
      ]
     },
     "execution_count": 29,
     "metadata": {},
     "output_type": "execute_result"
    }
   ],
   "source": [
    "# 위치 인자\n",
    "\n",
    "# 키워드 인자\n",
    "# 예시 1.\n",
    "print(\"안녕하세요\", \"반갑습니다\", sep=\"-\", end=\" / \")\n",
    "print(\"Hi\", \"Nice to meet you\", sep=\"-\", end=\" / \")\n",
    "\n",
    "# 예시 2. \n",
    "def my_func(a, b, c=None, operator=None):\n",
    "    if operator == \"+\":\n",
    "        return a + b\n",
    "    else:\n",
    "        return c\n",
    "my_func(10, 20, operator=\"+\")"
   ]
  },
  {
   "cell_type": "code",
   "execution_count": null,
   "id": "ab824ec9",
   "metadata": {},
   "outputs": [
    {
     "name": "stdout",
     "output_type": "stream",
     "text": [
      "ian님, 안녕하세요.\n",
      "ian님, 반갑습니다.\n"
     ]
    }
   ],
   "source": [
    "# 기본값 인자\n",
    "def greet(name, message=\"안녕하세요.\"):\n",
    "    print(f\"{name}님, {message}\")\n",
    "\n",
    "greet(\"ian\") # 호출시 인자 생략 → 기본값 사용\n",
    "greet(\"ian\", \"반갑습니다.\") # 기본값 무시하고 새 인자 전달\n"
   ]
  },
  {
   "cell_type": "code",
   "execution_count": null,
   "id": "947873e8",
   "metadata": {},
   "outputs": [
    {
     "ename": "SyntaxError",
     "evalue": "parameter without a default follows parameter with a default (973542890.py, line 1)",
     "output_type": "error",
     "traceback": [
      "  \u001b[36mCell\u001b[39m\u001b[36m \u001b[39m\u001b[32mIn[28]\u001b[39m\u001b[32m, line 1\u001b[39m\n\u001b[31m    \u001b[39m\u001b[31mdef greet(message=\"안녕하세요.\", name):\u001b[39m\n                                ^\n\u001b[31mSyntaxError\u001b[39m\u001b[31m:\u001b[39m parameter without a default follows parameter with a default\n"
     ]
    }
   ],
   "source": [
    "def greet(message=\"안녕하세요.\", name):\n",
    "    print(f\"{name}님, {message}\")\n",
    "\n",
    "greet(\"ian\")\n",
    "greet(\"ian\", \"반갑습니다.\")\n",
    "\n",
    "# 단, 기본값 매개변수는 반드시 뒤쪽에 위치해야 함"
   ]
  },
  {
   "cell_type": "code",
   "execution_count": 31,
   "id": "958121df",
   "metadata": {},
   "outputs": [
    {
     "data": {
      "text/plain": [
       "15"
      ]
     },
     "execution_count": 31,
     "metadata": {},
     "output_type": "execute_result"
    }
   ],
   "source": [
    "# 위치 가변 인자\n",
    "# 여러 개의 값을 유동적으로 받을 수 있음\n",
    "# 값이 튜플형태로 받아짐\n",
    "\n",
    "def add_all(*args):\n",
    "    return sum(args)\n",
    "\n",
    "add_all(1,2,3,4,5)"
   ]
  },
  {
   "cell_type": "code",
   "execution_count": 38,
   "id": "bb2f1734",
   "metadata": {},
   "outputs": [
    {
     "name": "stdout",
     "output_type": "stream",
     "text": [
      "{'name': 'ian', 'age': '15', 'city': 'Seoul', 'job': 'developer'}\n",
      "\n",
      "name : ian\n",
      "age : 15\n",
      "city : Seoul\n",
      "job : developer\n"
     ]
    }
   ],
   "source": [
    "# 키워드 가변 인자 (ppt 잘 못 되어 있음)\n",
    "# 여러 키워드 인자를 유동적으로 받을 수 있음\n",
    "# 딕셔너리 형태로 값이 입력됨\n",
    "def print_info(**kwargs):\n",
    "    print(kwargs)\n",
    "print_info(name=\"ian\", age=\"15\", city=\"Seoul\", job = \"developer\")\n",
    "print()\n",
    "\n",
    "def print_info(**kwargs):\n",
    "    for key, value in kwargs.items():\n",
    "        print(f\"{key} : {value}\")\n",
    "\n",
    "print_info(name=\"ian\", age=\"15\", city=\"Seoul\", job = \"developer\")"
   ]
  },
  {
   "cell_type": "code",
   "execution_count": null,
   "id": "51c5a2e1",
   "metadata": {},
   "outputs": [
    {
     "name": "stdout",
     "output_type": "stream",
     "text": [
      "10\n",
      "20\n",
      "(30, 40, 50)\n",
      "{'name': 'ian', 'age': 15}\n"
     ]
    }
   ],
   "source": [
    "# 여러가지 가변 인자를 섞어서 사용할 수 있음\n",
    "# 단, 가변인자의 순서가 맞아야 함!!! \n",
    "# 📌위치인자 → 키워드인자 → 위치가변인자 → 키워드가변인자\n",
    "\n",
    "def my_func(a, b=None, *args, **kwargs):\n",
    "    print(a)\n",
    "    print(b)\n",
    "    print(args)\n",
    "    print(kwargs)\n",
    "\n",
    "my_func(10 , 20, 30, 40, 50, name=\"ian\", age=15)\n"
   ]
  },
  {
   "cell_type": "code",
   "execution_count": 83,
   "id": "8bcb88ec",
   "metadata": {},
   "outputs": [],
   "source": [
    "# 매개변수 전달 방식\n",
    "# 가변 자료형(mutable): 함수 내 변경 → 외부에도 영향\n",
    "# 불변(immutable): 함수 내 변경 → 외부 영향 없음\n",
    "\n",
    "def add_to_list(my_list):\n",
    "    my_list.append(100)\n",
    "\n",
    "    test_list = [1,2,3]\n",
    "    add_to_list(test_list)\n",
    "    print(test_list)"
   ]
  },
  {
   "cell_type": "code",
   "execution_count": 45,
   "id": "b35da744",
   "metadata": {},
   "outputs": [
    {
     "name": "stdout",
     "output_type": "stream",
     "text": [
      "4.5\n"
     ]
    }
   ],
   "source": [
    "# 실습. 가변인자 연습하기\n",
    "\n",
    "# 문제 1. 숫자 여러 개의 평균 구하기\n",
    "def averge(*args):\n",
    "    return sum(args) / len(args)\n",
    "\n",
    "print(averge(1,2,3,4,5,6,7,8))"
   ]
  },
  {
   "cell_type": "code",
   "execution_count": 72,
   "id": "d072b533",
   "metadata": {},
   "outputs": [
    {
     "name": "stdout",
     "output_type": "stream",
     "text": [
      "입력값이 없습니다\n"
     ]
    }
   ],
   "source": [
    "def averge(*args):\n",
    "    # 예외처리\n",
    "    if len(args) == 0:\n",
    "        return \"입력값이 없습니다\"\n",
    "    return sum(args) / len(args)\n",
    "\n",
    "print(averge())"
   ]
  },
  {
   "cell_type": "code",
   "execution_count": null,
   "id": "06d64eed",
   "metadata": {},
   "outputs": [
    {
     "name": "stdout",
     "output_type": "stream",
     "text": [
      "pineapple\n"
     ]
    }
   ],
   "source": [
    "# 문제 2. 가장 긴 문자열 찾기\n",
    "# 방법 1.\n",
    "def longgest(*args):\n",
    "    answer = \"\"\n",
    "    for s in args:\n",
    "        if len(s) > len(answer):\n",
    "            answer = s\n",
    "    return answer \n",
    "\n",
    "print(longgest(\"apple\", \"banana\", \"peach\", \"pineapple\"))"
   ]
  },
  {
   "cell_type": "code",
   "execution_count": 71,
   "id": "fdab5ae5",
   "metadata": {},
   "outputs": [
    {
     "name": "stdout",
     "output_type": "stream",
     "text": [
      "warermelon\n"
     ]
    }
   ],
   "source": [
    "# 문제 2. 가장 긴 문자열 찾기\n",
    "# 방법 2.\n",
    "def longgest2(*args):\n",
    "    return max(args, key=len) \n",
    "\n",
    "print(longgest2(\"apple\", \"banana\", \"peach\", \"pineapple\", \"warermelon\"))"
   ]
  },
  {
   "cell_type": "code",
   "execution_count": 73,
   "id": "84b08bc9",
   "metadata": {},
   "outputs": [
    {
     "name": "stdout",
     "output_type": "stream",
     "text": [
      "입력값이 없습니다\n"
     ]
    }
   ],
   "source": [
    "def longgest2(*args):\n",
    "    # 예외처리\n",
    "    if len(args) == 0:\n",
    "        return \"입력값이 없습니다\"\n",
    "    return max(args, key=len) \n",
    "\n",
    "print(longgest2())"
   ]
  },
  {
   "cell_type": "code",
   "execution_count": 68,
   "id": "49fb5e85",
   "metadata": {},
   "outputs": [
    {
     "name": "stdout",
     "output_type": "stream",
     "text": [
      "name : ian\n",
      "age : 15\n",
      "city : Seoul\n",
      "job : developer\n",
      "email : codingon.com\n"
     ]
    }
   ],
   "source": [
    "# 문제 3. 사용자 정보 출력 함수\n",
    "def print_info(**kwargs):\n",
    "    for key, value in kwargs.items():\n",
    "        print(f\"{key} : {value}\")\n",
    "\n",
    "print_info(name=\"ian\", age=\"15\", \n",
    "city=\"Seoul\", \n",
    "job = \"developer\", \n",
    "email = \"codingon.com\")    "
   ]
  },
  {
   "cell_type": "code",
   "execution_count": 53,
   "id": "66b508e2",
   "metadata": {},
   "outputs": [
    {
     "name": "stdout",
     "output_type": "stream",
     "text": [
      "상품: 고기\n",
      "가격: 10000\n",
      "→ 할인된 가격 9000.0\n",
      "\n",
      "상품: 우유\n",
      "가격: 3000\n",
      "→ 할인된 가격 2700.0\n",
      "\n",
      "상품: 과자\n",
      "가격: 1000\n",
      "→ 할인된 가격 900.0\n"
     ]
    }
   ],
   "source": [
    "# 문제 4. 할인 계산기\n",
    "def price(**kwargs):\n",
    "    for key, value in kwargs.items():\n",
    "        print(f\"{key}: {value}\")\n",
    "    print(f\"→ 할인된 가격 {value*0.9}\")\n",
    "\n",
    "\n",
    "price(상품 = \"고기\", 가격 = 10000)\n",
    "print()\n",
    "price(상품 = \"우유\", 가격 = 3000)\n",
    "print()\n",
    "price(상품 = \"과자\", 가격 = 1000)\n"
   ]
  },
  {
   "cell_type": "code",
   "execution_count": 77,
   "id": "07fdfbb1",
   "metadata": {},
   "outputs": [
    {
     "name": "stdout",
     "output_type": "stream",
     "text": [
      "apple: 할인가: 1800.0, (원가2000)\n",
      "watermelon: 할인가: 18000.0, (원가20000)\n",
      "banana: 할인가: 3600.0, (원가4000)\n"
     ]
    }
   ],
   "source": [
    "def discount_price(**kwargs):\n",
    "    for key, value in kwargs.items():\n",
    "        discounted = value * 0.9\n",
    "        print(f\"{key}: 할인가: {discounted}, (원가{value})\")\n",
    "\n",
    "\n",
    "discount_price(apple = 2000, watermelon = 20000, banana = 4000)\n"
   ]
  },
  {
   "cell_type": "code",
   "execution_count": null,
   "id": "62d322d5",
   "metadata": {},
   "outputs": [],
   "source": [
    "# 전역변수 : 함수 밖에 선언된 변수\n",
    "# 지역변수 : 함수 안에 선언된 변수\n",
    "\n",
    "\n",
    "# 예제\n",
    "x = 100    # 전역변수\n",
    "\n",
    "def my_func():    \n",
    "    x = 10       # 지역변수\n",
    "    print(x)\n",
    "\n",
    "def any_func():    \n",
    "    x = 20      # 지역변수\n",
    "    print(x)\n",
    "    def inner_func():\n",
    "        x = 50      # 지역변수\n",
    "        print(x)\n",
    "\n",
    "print(\"함수밖\")"
   ]
  },
  {
   "cell_type": "code",
   "execution_count": null,
   "id": "24ca851c",
   "metadata": {},
   "outputs": [
    {
     "ename": "UnboundLocalError",
     "evalue": "cannot access local variable 'x' where it is not associated with a value",
     "output_type": "error",
     "traceback": [
      "\u001b[31m---------------------------------------------------------------------------\u001b[39m",
      "\u001b[31mUnboundLocalError\u001b[39m                         Traceback (most recent call last)",
      "\u001b[36mCell\u001b[39m\u001b[36m \u001b[39m\u001b[32mIn[84]\u001b[39m\u001b[32m, line 6\u001b[39m\n\u001b[32m      3\u001b[39m \u001b[38;5;28;01mdef\u001b[39;00m\u001b[38;5;250m \u001b[39m\u001b[34mmy_func\u001b[39m():\n\u001b[32m      4\u001b[39m     x += \u001b[32m5\u001b[39m\n\u001b[32m----> \u001b[39m\u001b[32m6\u001b[39m \u001b[43mmy_func\u001b[49m\u001b[43m(\u001b[49m\u001b[43m)\u001b[49m\n\u001b[32m      7\u001b[39m \u001b[38;5;28mprint\u001b[39m(x)\n",
      "\u001b[36mCell\u001b[39m\u001b[36m \u001b[39m\u001b[32mIn[84]\u001b[39m\u001b[32m, line 4\u001b[39m, in \u001b[36mmy_func\u001b[39m\u001b[34m()\u001b[39m\n\u001b[32m      3\u001b[39m \u001b[38;5;28;01mdef\u001b[39;00m\u001b[38;5;250m \u001b[39m\u001b[34mmy_func\u001b[39m():\n\u001b[32m----> \u001b[39m\u001b[32m4\u001b[39m     \u001b[43mx\u001b[49m += \u001b[32m5\u001b[39m\n",
      "\u001b[31mUnboundLocalError\u001b[39m: cannot access local variable 'x' where it is not associated with a value"
     ]
    }
   ],
   "source": [
    "# 전역변수와 지역변수 오류 예제\n",
    "x = 10\n",
    "\n",
    "def my_func():\n",
    "    x += 5\n",
    "\n",
    "my_func()\n",
    "print(x)"
   ]
  },
  {
   "cell_type": "code",
   "execution_count": 86,
   "id": "8a6738ec",
   "metadata": {},
   "outputs": [
    {
     "name": "stdout",
     "output_type": "stream",
     "text": [
      "지역변수 25\n",
      "전역변수 10\n"
     ]
    }
   ],
   "source": [
    "# 전역변수와 지역변수 예제1\n",
    "x = 10\n",
    "\n",
    "def my_func():\n",
    "    x = 20\n",
    "    x += 5\n",
    "    print(\"지역변수\", x)\n",
    "\n",
    "my_func()\n",
    "print(\"전역변수\", x)"
   ]
  },
  {
   "cell_type": "code",
   "execution_count": null,
   "id": "4d3743d1",
   "metadata": {},
   "outputs": [
    {
     "name": "stdout",
     "output_type": "stream",
     "text": [
      "지역변수 15\n",
      "전역변수 15\n"
     ]
    }
   ],
   "source": [
    "# 전역변수와 지역변수 예제1\n",
    "x = 10\n",
    "\n",
    "def my_func():\n",
    "    global x # 전역변수 사용을 선언\n",
    "    x += 5\n",
    "    print(\"지역변수\", x)\n",
    "\n",
    "my_func()\n",
    "print(\"전역변수\", x)"
   ]
  },
  {
   "cell_type": "code",
   "execution_count": null,
   "id": "bcbda8c0",
   "metadata": {},
   "outputs": [
    {
     "name": "stdout",
     "output_type": "stream",
     "text": [
      "전역변수 15\n"
     ]
    }
   ],
   "source": [
    "# 전역변수와 지역변수 예제1 - 권장되는 패턴\n",
    "# 함수형 프로그래밍\n",
    "# 부수효과(Side effect)를 발생시키지 않는 함수(순수함수)를 위주로 프로그래밍을 하는 것\n",
    "x = 10\n",
    "\n",
    "def my_func(x): # 매개변수는 지역에 존재\n",
    "    x += 5\n",
    "    return x\n",
    "\n",
    "x = my_func(x)\n",
    "\n",
    "print(\"전역변수\", x)"
   ]
  },
  {
   "cell_type": "code",
   "execution_count": null,
   "id": "8487f178",
   "metadata": {},
   "outputs": [],
   "source": [
    "# 예제2\n",
    "# 보통의 경우, 변수의 변경을 시도하는 것은 하나의 경로를 따라서 변경하게 한다.\n",
    "\n",
    "x = 10\n",
    " \n",
    "def func1():\n",
    "    global x\n",
    "    x += 10\n",
    "\n",
    "def func2():\n",
    "    global x\n",
    "    x *= 2\n",
    "\n",
    "func1()\n",
    "func2()\n",
    "\n",
    "print(x)\n"
   ]
  },
  {
   "cell_type": "code",
   "execution_count": null,
   "id": "d8f66a51",
   "metadata": {},
   "outputs": [
    {
     "name": "stdout",
     "output_type": "stream",
     "text": [
      "홍길동님이 로그인했습니다\n",
      "이미 로그인되어 있습니다\n",
      "김철수님이 로그인했습니다\n",
      "김철수님이 로그아웃했습니다\n",
      "로그인되어 있지 않습니다\n",
      "None님이 로그아웃했습니다\n"
     ]
    }
   ],
   "source": [
    "current_user = None\n",
    "\n",
    "def login(name):\n",
    "    global current_user\n",
    "    if current_user is not None:\n",
    "        print(\"이미 로그인되어 있습니다\")\n",
    "        return False\n",
    "    \n",
    "    current_user = name\n",
    "    print(f\"{name}님이 로그인했습니다\")\n",
    "    return True\n",
    "\n",
    "def logout():\n",
    "    global current_user\n",
    "    if current_user is None:\n",
    "        print(\"로그인되어 있지 않습니다\")\n",
    "        return False\n",
    "    \n",
    "    print(f\"{current_user}님이 로그아웃했습니다\")\n",
    "    current_user = None\n",
    "    return True\n",
    "\n",
    "\n",
    "\n",
    "login(\"홍길동\")\n",
    "login(\"김철수\") \n",
    "logout()\n",
    "logout()  \n"
   ]
  },
  {
   "cell_type": "code",
   "execution_count": 115,
   "id": "77eae0d4",
   "metadata": {},
   "outputs": [
    {
     "name": "stdout",
     "output_type": "stream",
     "text": [
      "로그인 상태가 아닙니다.\n",
      "홍길동님 로그인 성공!\n",
      "이미 로그인되어 있습니다.\n",
      "로그아웃 되었습니다.\n",
      "길동이님 로그인 성공!\n"
     ]
    }
   ],
   "source": [
    "# 실습. 전역 변수 연습하기\n",
    "current_user = None\n",
    "\n",
    "def login(name):\n",
    "    global current_user\n",
    " \n",
    "    if current_user == None:\n",
    "        current_user = name\n",
    "        print(f\"{name}님 로그인 성공!\")\n",
    "    else:\n",
    "        print(\"이미 로그인되어 있습니다.\")\n",
    "\n",
    "\n",
    "def logout():\n",
    "    global current_user\n",
    "\n",
    "    if current_user == None:\n",
    "        print(\"로그인 상태가 아닙니다.\")\n",
    "    else:\n",
    "        print(\"로그아웃 되었습니다.\")\n",
    "        current_user = None\n",
    "        \n",
    "\n",
    "logout()\n",
    "login(\"홍길동\")\n",
    "login(\"길동쓰\")\n",
    "logout()\n",
    "login(\"길동이\")\n"
   ]
  },
  {
   "cell_type": "code",
   "execution_count": 120,
   "id": "45af75b9",
   "metadata": {},
   "outputs": [
    {
     "name": "stdout",
     "output_type": "stream",
     "text": [
      "⚠️아이디는 네글자 이상이어야 해요.\n",
      "🤗asdfssdf님 로그인 성공!\n",
      "🚨이미 로그인되어 있습니다.\n",
      "✅로그아웃 되었습니다!\n",
      "🤗casfsf님 로그인 성공!\n",
      "✅로그아웃 되었습니다!\n",
      "🤗asdfssdf님 로그인 성공!\n",
      "✅로그아웃 되었습니다!\n",
      "🤗sddfdfssdf님 로그인 성공!\n",
      "✅로그아웃 되었습니다!\n",
      "🤗sddfdfsdfsdfsdf님 로그인 성공!\n",
      "✅로그아웃 되었습니다!\n",
      "🤗sddff님 로그인 성공!\n"
     ]
    }
   ],
   "source": [
    "# 실습 3. 전역 변수 연습하기\n",
    "# ✅ 요구사항\n",
    "# 전역 변수 current_user는 로그인한 사용자의 이름을 저장합니다.\n",
    "# login(name) 함수는 사용자를 로그인시키고, logout() 함수는 로그아웃 상태로 만듭니다.\n",
    "# 이미 로그인된 상태에서 다시 로그인하면 \"이미 로그인되어 있습니다\"를 출력합니다.\n",
    "# 로그아웃하지 않고 로그인을 여러 번 시도할 수 없도록 합니다.\n",
    "\n",
    "current_user = None\n",
    "login_count = 0\n",
    "\n",
    "def login(name):\n",
    "  global current_user\n",
    "  global login_count\n",
    "\n",
    "  if current_user == None:\n",
    "    if len(name) > 4:\n",
    "      current_user = name\n",
    "      print(f\"🤗{name}님 로그인 성공!\")\n",
    "    # 예외처리\n",
    "    else:\n",
    "      print(\"⚠️아이디는 네글자 이상이어야 해요.\")\n",
    "      \n",
    "      login_count += 1\n",
    "      if login_count > 4:\n",
    "        print(\"더이상 로그인 시도를 할 수 없습니다.\")\n",
    "  else:\n",
    "    print(\"🚨이미 로그인되어 있습니다.\")\n",
    "\n",
    "    login_count += 1\n",
    "    if login_count > 4:\n",
    "      print(\"더이상 로그인 시도를 할 수 없습니다.\")\n",
    "\n",
    "\n",
    "def logout():\n",
    "  global current_user\n",
    "  global login_count \n",
    "  if current_user == None:\n",
    "    print(\"⚠️로그인 상태가 아닙니다.\")\n",
    "  else:\n",
    "    print(\"✅로그아웃 되었습니다!\")\n",
    "    current_user = None\n",
    "    login_count = 0\n",
    "\n",
    "login(\"\")\n",
    "login(\"asdfssdf\")\n",
    "login(\"b\")\n",
    "logout()\n",
    "login(\"casfsf\")\n",
    "logout()\n",
    "login(\"asdfssdf\")\n",
    "logout()\n",
    "login(\"sddfdfssdf\")\n",
    "logout()\n",
    "login(\"sddfdfsdfsdfsdf\")\n",
    "logout()\n",
    "login(\"sddff\")\n"
   ]
  }
 ],
 "metadata": {
  "kernelspec": {
   "display_name": "python-study",
   "language": "python",
   "name": "python3"
  },
  "language_info": {
   "codemirror_mode": {
    "name": "ipython",
    "version": 3
   },
   "file_extension": ".py",
   "mimetype": "text/x-python",
   "name": "python",
   "nbconvert_exporter": "python",
   "pygments_lexer": "ipython3",
   "version": "3.13.5"
  }
 },
 "nbformat": 4,
 "nbformat_minor": 5
}
