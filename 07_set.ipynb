{
 "cells": [
  {
   "cell_type": "markdown",
   "id": "f9d9cb6a",
   "metadata": {},
   "source": [
    "### 07. set(집합)\n",
    " - 원소의 중복을 허용하지 않는 여러 데이터의 모음\n",
    " - 순서가 없는 컬렉션 자료형"
   ]
  },
  {
   "cell_type": "code",
   "execution_count": null,
   "id": "b1682514",
   "metadata": {},
   "outputs": [
    {
     "name": "stdout",
     "output_type": "stream",
     "text": [
      "{1, 2, 3} <class 'set'>\n",
      "{1, 2, 3, 4}\n",
      "<class 'dict'>\n",
      "set() <class 'set'>\n",
      "{1, 2, 3, 4} <class 'set'>\n",
      "[1, 2, 3, 4] <class 'list'>\n"
     ]
    }
   ],
   "source": [
    "# set 만들기\n",
    "s1 = {1, 2, 3}\n",
    "print(s1, type(s1))\n",
    "\n",
    "s2 = {1, 1, 1, 2, 2, 2, 3, 3, 4, 4, 4, 4}\n",
    "print(s2)\n",
    "\n",
    "# 빈 set 만들기\n",
    "s3 = {}               # 🚨 유의 사항: 중괄호에 원소를 넣지 않고 선언하면 빈 dict로 인식됨\n",
    "print(type(s3))\n",
    "\n",
    "s4 = set()            # set 함수로 생성\n",
    "print(s4, type(s4))\n",
    "\n",
    "# 💡 set 함수의 활용 : 원소의 중복 제거\n",
    "my_list = [1, 1, 1, 2, 2, 2, 3, 3, 4, 4, 4, 4]\n",
    "s5 = set(my_list)     # set으로 변환 → 중복 원소 제거\n",
    "print(s5, type(s5))\n",
    "my_list = list(s5)\n",
    "print(my_list, type(my_list))"
   ]
  },
  {
   "cell_type": "code",
   "execution_count": null,
   "id": "3f48298b",
   "metadata": {},
   "outputs": [
    {
     "data": {
      "text/plain": [
       "20"
      ]
     },
     "execution_count": 10,
     "metadata": {},
     "output_type": "execute_result"
    }
   ],
   "source": [
    "# 인덱싱\n",
    "s1 = {10,20,30}\n",
    "# s1[1]  # → 에러\n",
    "\n",
    "# 인덱싱하려면 리스트로 변환해서 인덱싱 해줘야 함\n",
    "s_list = list(s1)  . # 변환하는 과정에서 순서가 보장되지 않을 수 있음\n",
    "s_list[1]"
   ]
  },
  {
   "cell_type": "code",
   "execution_count": 11,
   "id": "6d546ee0",
   "metadata": {},
   "outputs": [
    {
     "ename": "TypeError",
     "evalue": "unhashable type: 'list'",
     "output_type": "error",
     "traceback": [
      "\u001b[31m---------------------------------------------------------------------------\u001b[39m",
      "\u001b[31mTypeError\u001b[39m                                 Traceback (most recent call last)",
      "\u001b[36mCell\u001b[39m\u001b[36m \u001b[39m\u001b[32mIn[11]\u001b[39m\u001b[32m, line 3\u001b[39m\n\u001b[32m      1\u001b[39m \u001b[38;5;66;03m# 자료형 제한\u001b[39;00m\n\u001b[32m      2\u001b[39m \u001b[38;5;66;03m# 가변 자료형은 원소로 사용할 수 없음.\u001b[39;00m\n\u001b[32m----> \u001b[39m\u001b[32m3\u001b[39m s1 = {\u001b[32m1\u001b[39m, \u001b[32m2\u001b[39m, \u001b[32m3\u001b[39m, [\u001b[32m1\u001b[39m, \u001b[32m2\u001b[39m, \u001b[32m3\u001b[39m], [\u001b[32m4\u001b[39m, \u001b[32m5\u001b[39m, \u001b[32m6\u001b[39m]}\n",
      "\u001b[31mTypeError\u001b[39m: unhashable type: 'list'"
     ]
    }
   ],
   "source": [
    "# 자료형 제한\n",
    "# 가변 자료형은 원소로 사용할 수 없음.\n",
    "s1 = {1, 2, 3, [1, 2, 3], [4, 5, 6]}"
   ]
  },
  {
   "cell_type": "code",
   "execution_count": 48,
   "id": "1a937c91",
   "metadata": {},
   "outputs": [
    {
     "name": "stdout",
     "output_type": "stream",
     "text": [
      "합집합1: {1, 2, 3, 4, 5}\n",
      "합집합2: {1, 2, 3, 4, 5}\n",
      "교집합1: {3}\n",
      "교집합2: {3}\n",
      "차집합1: {1, 2}\n",
      "차집합2: {1, 2}\n",
      "대칭차집합1: {1, 2, 4, 5}\n",
      "대칭차집합2: {1, 2, 4, 5}\n",
      "대칭차집합3: {1, 2, 4, 5}\n"
     ]
    }
   ],
   "source": [
    "# set 연산\n",
    "# 집합의 연산 : 합집합, 교집합, 차집합, 대칭차집합\n",
    "\n",
    "a = {1,2,3}\n",
    "b = {3,4,5}\n",
    "\n",
    "# 합집합 \n",
    "s_union1 = a | b\n",
    "s_union12 = a.union(b)\n",
    "print (\"합집합1:\", s_union1)\n",
    "print (\"합집합2:\", s_union12)\n",
    "\n",
    "# 교집합\n",
    "s_inter1 = a & b\n",
    "s_inter2 = a.intersection(b)\n",
    "print(\"교집합1:\", s_inter1)\n",
    "print(\"교집합2:\", s_inter2)\n",
    "\n",
    "# 차집합\n",
    "s_diff1 = a - b\n",
    "s_diff2 = a.difference(b)\n",
    "print(\"차집합1:\", s_diff1)\n",
    "print(\"차집합2:\", s_diff2)\n",
    "\n",
    "# 대칭차집합\n",
    "s_symm1 = (a | b) - (a & b)\n",
    "s_symm2 = a ^ b \n",
    "s_symm3 = a.symmetric_difference(b)\n",
    "\n",
    "print(\"대칭차집합1:\", s_symm1)\n",
    "print(\"대칭차집합2:\", s_symm2)\n",
    "print(\"대칭차집합3:\", s_symm3)"
   ]
  },
  {
   "cell_type": "code",
   "execution_count": 38,
   "id": "f7917afe",
   "metadata": {},
   "outputs": [
    {
     "name": "stdout",
     "output_type": "stream",
     "text": [
      "원소 추가: {1, 2, 3, 4}\n",
      "여러 원소 추가1: {1, 2, 3, 4, 5, 6, 7}\n",
      "여러 원소 추가2: {1, 2, 3, 4, 5, 6, 7, 8, 9, 10}\n",
      "여러 원소 추가3: {1, 2, 3, 4, 5, 6, 7, 8, 9, 10, '온', '코', '딩'}\n",
      "원소 제거1: {1, 2, 3, 5, 6, 7, 8, 9, 10, '온', '코', '딩'}\n",
      "원소 제거2: {1, 2, 3, 5, 7, 8, 9, 10, '온', '코', '딩'}\n",
      "원소 제거3: {2, 3, 5, 7, 8, 9, 10, '온', '코', '딩'} 1\n"
     ]
    }
   ],
   "source": [
    "# set 메서드\n",
    "s1 = {1, 2, 3}\n",
    "\n",
    "# 원소의 추가\n",
    "s1.add(4)\n",
    "print(\"원소 추가:\", s1)\n",
    "\n",
    "# 여러 원소 추가\n",
    "s1.update([5,6,7])\n",
    "print(\"여러 원소 추가1:\", s1)\n",
    "s1.update((8,9,10))\n",
    "print(\"여러 원소 추가2:\", s1)\n",
    "s1.update(\"코딩온\")\n",
    "print(\"여러 원소 추가3:\", s1)\n",
    "\n",
    "# 원소 제거\n",
    "s1.remove(4)\n",
    "print(\"원소 제거1:\", s1)\n",
    "# s1.remove(100) # 존재하지 않는 원소 삭제 시도 시 에러\n",
    "s1.discard(100)\n",
    "s1.discard(6)\n",
    "print(\"원소 제거2:\", s1) \n",
    "deleted = s1.pop()   # 임의의 값 하나 제거\n",
    "print(\"원소 제거3:\", s1, deleted)"
   ]
  },
  {
   "cell_type": "code",
   "execution_count": null,
   "id": "86e7fb83",
   "metadata": {},
   "outputs": [
    {
     "name": "stdout",
     "output_type": "stream",
     "text": [
      "True\n",
      "False\n",
      "True\n",
      "False\n",
      "False\n",
      "True\n",
      "True\n",
      "False\n",
      "True\n",
      "False\n"
     ]
    }
   ],
   "source": [
    "# 부분집합(subset) 관련 메서드\n",
    "a = {10, 20, 30, 40, 50}    # 상위집합(superset)\n",
    "b = {20, 30, 40}            # 부분집합(subset)\n",
    "c = {100, 200, 300, 400}\n",
    "d = {10, 200, 300, 400}\n",
    "\n",
    "# 부분집합 여부 판단\n",
    "print(b.issubset(a))\n",
    "print(a.issubset(b))\n",
    "\n",
    "# 상위집합 여부 판단\n",
    "print(a.issuperset(b))\n",
    "print(b.issuperset(a))\n",
    "\n",
    "# 공통 원소가 없는지 확인\n",
    "print(a.isdisjoint(b))\n",
    "print(a.isdisjoint(c))\n",
    "print(b.isdisjoint(c))\n",
    "print(a.isdisjoint(d))\n",
    "print(b.isdisjoint(d))\n",
    "print(d.isdisjoint(c))"
   ]
  },
  {
   "cell_type": "code",
   "execution_count": 49,
   "id": "7a3b23bc",
   "metadata": {},
   "outputs": [
    {
     "name": "stdout",
     "output_type": "stream",
     "text": [
      "제출한 학생 수: 4\n",
      "제출자 명단: {'park', 'lee', 'choi', 'kim'}\n",
      "\n",
      "공통 관심 장르: {'Action', 'Drama'}\n",
      "서로 다른 장르: {'SF', 'Romance'}\n",
      "전체 장르: {'Romance', 'Drama', 'Action', 'SF'}\n",
      "\n",
      "지원 자격 충족 여부: True\n"
     ]
    }
   ],
   "source": [
    "# 실습. set 종합연습\n",
    "\n",
    "# 문제 1. 중복 제거 및 개수 세기\n",
    "submissions = ['kim', 'lee', 'kim', 'park', 'choi', 'lee', 'lee']\n",
    "s = set(submissions)\n",
    "print(\"제출한 학생 수:\", len(s))\n",
    "print(\"제출자 명단:\", s)\n",
    "print()\n",
    "\n",
    "# 문제 2. 공통 관심사 찾기\n",
    "user1 = {'SF', 'Action', 'Drama'}\n",
    "user2 = {'Drama', 'Romance', 'Action'}\n",
    "print(\"공통 관심 장르:\", user1 & user2)\n",
    "print(\"서로 다른 장르:\", user1 ^ user2)\n",
    "print(\"전체 장르:\", user1 | user2)\n",
    "print()\n",
    "\n",
    "# 문제 3. 부분집합 관계 판단\n",
    "my_certificates = {'SQL', 'Python', 'Linux'}\n",
    "job_required = {'SQL', 'Python'}\n",
    "print(\"지원 자격 충족 여부:\", job_required.issubset(my_certificates))\n"
   ]
  }
 ],
 "metadata": {
  "kernelspec": {
   "display_name": "python-study",
   "language": "python",
   "name": "python3"
  },
  "language_info": {
   "codemirror_mode": {
    "name": "ipython",
    "version": 3
   },
   "file_extension": ".py",
   "mimetype": "text/x-python",
   "name": "python",
   "nbconvert_exporter": "python",
   "pygments_lexer": "ipython3",
   "version": "3.13.5"
  }
 },
 "nbformat": 4,
 "nbformat_minor": 5
}
