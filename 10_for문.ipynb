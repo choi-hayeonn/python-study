{
 "cells": [
  {
   "cell_type": "markdown",
   "id": "439cc9fd",
   "metadata": {},
   "source": [
    "### 10. for문\n",
    " - 이터러블의 요소를 하나씩 꺼내서 실행 블록에 전달하는 반복문"
   ]
  },
  {
   "cell_type": "code",
   "execution_count": null,
   "id": "e59ed098",
   "metadata": {},
   "outputs": [
    {
     "name": "stdout",
     "output_type": "stream",
     "text": [
      "가\n",
      "나\n",
      "다\n",
      "라\n"
     ]
    }
   ],
   "source": [
    "import time\n",
    "\n",
    "# for문 기본 문법\n",
    "for 반복변수 in [\"가\", \"나\", \"다\", \"라\"]:\n",
    "    # 반복할 코드\n",
    "    print(반복변수)\n",
    "    time.sleep(1)"
   ]
  },
  {
   "cell_type": "code",
   "execution_count": null,
   "id": "c0020138",
   "metadata": {},
   "outputs": [
    {
     "name": "stdout",
     "output_type": "stream",
     "text": [
      "사과🍎\n",
      "딸기🍓\n",
      "복숭아🍑\n",
      "포도🍇\n",
      "수박🍉\n"
     ]
    }
   ],
   "source": [
    "# 리스트로 반복\n",
    "\n",
    "fruits = [\"사과🍎\", \"딸기🍓\", \"복숭아🍑\", \"포도🍇\", \"수박🍉\"]\n",
    "\n",
    "for fruit in fruits:\n",
    "    print(fruit)\n",
    "    time.sleep(0.5)"
   ]
  },
  {
   "cell_type": "code",
   "execution_count": null,
   "id": "2abb9c31",
   "metadata": {},
   "outputs": [
    {
     "name": "stdout",
     "output_type": "stream",
     "text": [
      "C\n",
      "o\n",
      "d\n",
      "i\n",
      "n\n",
      "O\n",
      "n\n"
     ]
    }
   ],
   "source": [
    "# 문자열로 반복\n",
    "\n",
    "my_str = \"CodinOn\"\n",
    "\n",
    "for char in my_str:\n",
    "    print(char)"
   ]
  },
  {
   "cell_type": "code",
   "execution_count": 8,
   "id": "0b626b67",
   "metadata": {},
   "outputs": [
    {
     "name": "stdout",
     "output_type": "stream",
     "text": [
      "x좌표: 1, y좌표: 2\n",
      "x좌표: 10, y좌표: 20\n",
      "x좌표: -6, y좌표: 8\n"
     ]
    }
   ],
   "source": [
    "# 튜플을 활용한 반복\n",
    "\n",
    "좌표 = [(1,2), (10,20), (-6,8)]\n",
    "\n",
    "for x,y in 좌표:\n",
    "    print(f\"x좌표: {x}, y좌표: {y}\")\n",
    "    time.sleep(1)"
   ]
  },
  {
   "cell_type": "code",
   "execution_count": 9,
   "id": "1dd0b2d1",
   "metadata": {},
   "outputs": [
    {
     "name": "stdout",
     "output_type": "stream",
     "text": [
      "x좌표: 1, y좌표: 2\n",
      "x좌표: 10, y좌표: 20\n",
      "x좌표: -6, y좌표: 8\n"
     ]
    }
   ],
   "source": [
    "좌표 = [[1,2], [10,20], [-6,8]]\n",
    "\n",
    "for x,y in 좌표:\n",
    "    print(f\"x좌표: {x}, y좌표: {y}\")\n",
    "    time.sleep(1)"
   ]
  },
  {
   "cell_type": "code",
   "execution_count": 43,
   "id": "fe0a0638",
   "metadata": {},
   "outputs": [
    {
     "name": "stdout",
     "output_type": "stream",
     "text": [
      "\n",
      "key: name, value: ian\n",
      "key: age, value: 15\n",
      "key: address, value: 창동\n",
      "\n",
      "value: ian\n",
      "value: 15\n",
      "value: 창동\n",
      "\n",
      "key: name, value: ian\n",
      "key: age, value: 15\n",
      "key: address, value: 창동\n"
     ]
    }
   ],
   "source": [
    "# 딕셔너리를 이용한 반복\n",
    "person = {\n",
    "    \"name\" : \"ian\", \n",
    "    \"age\": 15, \n",
    "    \"address\" : \"창동\"\n",
    "}\n",
    "print()\n",
    "\n",
    "# 기본적인 활용\n",
    "for key in person:\n",
    "    print(f\"key: {key}, value: {person[key]}\")\n",
    "print()\n",
    "# value만 가져오기\n",
    "for value in person.values():\n",
    "    print(f\"value: {value}\")\n",
    "print() \n",
    "# item 가져오기\n",
    "for key, value in person.items():\n",
    "    print(f\"key: {key}, value: {value}\")"
   ]
  },
  {
   "cell_type": "code",
   "execution_count": null,
   "id": "61e906c7",
   "metadata": {},
   "outputs": [
    {
     "name": "stdout",
     "output_type": "stream",
     "text": [
      "[6, 12, 2, 16, 8]\n",
      "[5, 6, 4, 5]\n",
      "x좌표: [1, 3, 5, 7]\n",
      "y좌표: [2, 4, 6, 8]\n"
     ]
    }
   ],
   "source": [
    "# 실습. for문 기본 문법 문제\n",
    "# 문제1. 리스트의 값을 두 배로 변환하기\n",
    "numbers = [3, 6, 1, 8, 4]\n",
    "doubled = []\n",
    "for number in numbers:\n",
    "    doubled.append(number * 2) \n",
    "print(doubled)\n",
    "\n",
    "\n",
    "# 문제2. 문자열의 길이 구해서 새 리스트 만들기\n",
    "words = [\"apple\", \"banana\", \"kiwi\", \"grape\"]\n",
    "lengths = []\n",
    "for word in words:\n",
    "    lengths.append(len(word))\n",
    "print(lengths)\n",
    "   \n",
    "# 문제3. 좌표 튜플에서 x, y 좌표 나누기\n",
    "coordinates = [(1, 2), (3, 4), (5, 6), (7, 8)]\n",
    "x_values = []\n",
    "y_values = []\n",
    "for x,y in coordinates:\n",
    "    x_values.append(x)\n",
    "    y_values.append(y)\n",
    "print(f\"x좌표: {x_values}\")\n",
    "print(f\"y좌표: {y_values}\")"
   ]
  },
  {
   "cell_type": "code",
   "execution_count": null,
   "id": "f0f594a7",
   "metadata": {},
   "outputs": [
    {
     "name": "stdout",
     "output_type": "stream",
     "text": [
      "1\n",
      "2\n",
      "3\n",
      "4\n",
      "0\n",
      "1\n",
      "2\n",
      "3\n",
      "4\n",
      "안녕~\n",
      "안녕~\n",
      "안녕~\n",
      "안녕~\n",
      "안녕~\n"
     ]
    }
   ],
   "source": [
    "# for문과 range()\n",
    "# range 함수 : 지정된 범위의 정수 시퀀스\n",
    "# range 자료형 (시퀀스 자료형)  \n",
    "# 정수에 대한 슬라이싱으로 볼 수 있다.\n",
    "# 반복문에서 많이 쓰임.\n",
    "\n",
    "# 기본 문법\n",
    "# range(start, end, step)\n",
    "list(range(1,5))\n",
    "\n",
    "for i in range(1,5):\n",
    "    print(i)\n",
    "# for i in [1,2,3,4]:\n",
    "#     print(i)\n",
    "\n",
    "# start를 생략 → 0 부터 출발\n",
    "range(5)\n",
    "\n",
    "for i in range(5):\n",
    "    print(i)\n",
    "# for i in [0,1,2,3,4]:\n",
    "#     print(i)\n",
    "\n",
    "# 반복문의 반복변수는 꼭 써야할까? \n",
    "for i in range(5):\n",
    "    print(\"안녕~\")       # 반복문을 쓸 떄 반복변수를 굳이 쓰지 않으려 할 때 range를 써줌. "
   ]
  },
  {
   "cell_type": "code",
   "execution_count": 90,
   "id": "a1ae4fdd",
   "metadata": {},
   "outputs": [
    {
     "name": "stdout",
     "output_type": "stream",
     "text": [
      "0\n",
      "2\n",
      "4\n",
      "6\n",
      "8\n",
      "\n",
      "10\n",
      "9\n",
      "8\n",
      "7\n",
      "6\n",
      "5\n",
      "4\n",
      "3\n",
      "2\n",
      "1\n"
     ]
    }
   ],
   "source": [
    "# 간격(step) 지정\n",
    "for i in range(0, 10, 2):\n",
    "    print(i)\n",
    "print()\n",
    "\n",
    "# 역순 반복\n",
    "# 카운트다운\n",
    "for i in range(10, 0,-1):\n",
    "    print(i)\n",
    "    time.sleep(1)"
   ]
  },
  {
   "cell_type": "code",
   "execution_count": null,
   "id": "d054ec24",
   "metadata": {},
   "outputs": [
    {
     "name": "stdout",
     "output_type": "stream",
     "text": [
      "[1, 2, 3, 4, 5, 6, 7, 8, 9]\n",
      "[0, 1, 2, 3, 4, 5, 6, 7, 8, 9]\n",
      "[1, 3, 5, 7, 9]\n",
      "[3, 6, 9, 12, 15, 18, 21, 24, 27, 30, 33, 36, 39, 42, 45, 48, 51, 54, 57, 60, 63, 66, 69, 72, 75, 78, 81, 84, 87, 90, 93, 96, 99]\n",
      "[10, 9, 8, 7, 6, 5, 4, 3, 2, 1]\n"
     ]
    }
   ],
   "source": [
    "# range의 다양한 활용\n",
    "print(list(range(1,10)))\n",
    "print(list(range(10)))\n",
    "print(list(range(1,10,2)))\n",
    "print(list(range(3,100,3)))\n",
    "print(list(range(10,0,-1)))"
   ]
  },
  {
   "cell_type": "code",
   "execution_count": null,
   "id": "776c12d6",
   "metadata": {},
   "outputs": [
    {
     "name": "stdout",
     "output_type": "stream",
     "text": [
      "15\n"
     ]
    }
   ],
   "source": [
    "# 실습. for문과 range\n",
    "\n",
    "# 문제1. 입력 받은 수의 합 구하기\n",
    "# for 문과 range()를 사용하여 1부터 사용자가 입력한 수까지의 합을 구해보세요.\n",
    "\n",
    "num = int(input(\"숫자를 입력해주세요:\"))\n",
    "sum_num = 0\n",
    "for i in range(1, num + 1):\n",
    "    sum_num += i\n",
    "print(sum_num)"
   ]
  },
  {
   "cell_type": "code",
   "execution_count": 92,
   "id": "ea30b1b3",
   "metadata": {},
   "outputs": [
    {
     "name": "stdout",
     "output_type": "stream",
     "text": [
      "3 x 1 = 3\n",
      "3 x 2 = 6\n",
      "3 x 3 = 9\n",
      "3 x 4 = 12\n",
      "3 x 5 = 15\n",
      "3 x 6 = 18\n",
      "3 x 7 = 21\n",
      "3 x 8 = 24\n",
      "3 x 9 = 27\n"
     ]
    }
   ],
   "source": [
    "# 문제2. 구구단 만들기\n",
    "# 사용자로부터 정수 하나를 입력 받아, 해당 숫자의 구구단을 출력하는 프로그램을 작성하세요.\n",
    "dan = int(input(\"출력하고 싶은 단을 입력하세요.\"))\n",
    "for i in range(1,10):\n",
    "    print(f\"{dan} x {i} = {i*dan}\")"
   ]
  },
  {
   "cell_type": "code",
   "execution_count": null,
   "id": "161ad804",
   "metadata": {},
   "outputs": [
    {
     "name": "stdout",
     "output_type": "stream",
     "text": [
      "1683\n"
     ]
    }
   ],
   "source": [
    "# 문제3. 3의 배수의 합 구하기\n",
    "# for 문과 range()를 사용하여 1부터 100까지의 수 중 3의 배수만 골라 합을 구해 출력하세요.\n",
    "print(sum(list(range(3,100,3))))"
   ]
  },
  {
   "cell_type": "code",
   "execution_count": 123,
   "id": "d428367e",
   "metadata": {},
   "outputs": [
    {
     "name": "stdout",
     "output_type": "stream",
     "text": [
      "1683\n"
     ]
    }
   ],
   "source": [
    "result = 0\n",
    "for i in range(3,101,3):\n",
    "    result += i\n",
    "print(result)\n",
    "\n",
    "for i in range(1,101):\n",
    "    if i % 3 == 0:\n",
    "        result += i"
   ]
  },
  {
   "cell_type": "code",
   "execution_count": 89,
   "id": "3f6a3c72",
   "metadata": {},
   "outputs": [
    {
     "name": "stdout",
     "output_type": "stream",
     "text": [
      "{100, 70, 40, 10, 80, 50, 20, 90, 60, 30}\n"
     ]
    }
   ],
   "source": [
    "# 문제4. 짝수이면서 5의 배수인 수 출력하기\n",
    "n = int(input(\"숫자를 입력해주세요.\"))\n",
    "a = set(range(2,n+1,2))\n",
    "b = set(range(0,n+1,5))\n",
    "s_inter = a & b\n",
    "print(s_inter)"
   ]
  },
  {
   "cell_type": "code",
   "execution_count": null,
   "id": "5b039359",
   "metadata": {},
   "outputs": [
    {
     "name": "stdout",
     "output_type": "stream",
     "text": [
      "10\n",
      "20\n",
      "30\n",
      "40\n",
      "50\n",
      "60\n",
      "70\n",
      "80\n",
      "90\n",
      "100\n"
     ]
    }
   ],
   "source": [
    "n = int(input())\n",
    "for i in range(1, n+1):\n",
    "    if i % 2 == 0 and i % 5 ==0:\n",
    "        print(i)\n",
    "\n",
    "for i in range(2, n+1, 2):\n",
    "    if i % 5 ==0:\n",
    "        print(i)\n",
    "\n",
    " for i in range(1, n+1):\n",
    "    if i % 2 == 0:\n",
    "        if i % 5 ==0:\n",
    "            print(i)       "
   ]
  },
  {
   "cell_type": "code",
   "execution_count": 102,
   "id": "cc934c41",
   "metadata": {},
   "outputs": [
    {
     "name": "stdout",
     "output_type": "stream",
     "text": [
      "0\n",
      "1\n",
      "2\n",
      "3\n",
      "4\n",
      "반복 종료\n"
     ]
    }
   ],
   "source": [
    "# 루프 제어문\n",
    "# 특정 조건 하에서만 작동하도록 구현\n",
    "# break : 반복을 즉시 중단\n",
    "\n",
    "for i in range(10):\n",
    "    if i == 5:\n",
    "        break\n",
    "    print(i)\n",
    "    time.sleep(0.3)\n",
    "\n",
    "print(\"반복 종료\")"
   ]
  },
  {
   "cell_type": "code",
   "execution_count": null,
   "id": "85f774c9",
   "metadata": {},
   "outputs": [
    {
     "name": "stdout",
     "output_type": "stream",
     "text": [
      "0\n",
      "1\n",
      "건너뜀\n",
      "3\n",
      "4\n",
      "반복 종료\n"
     ]
    }
   ],
   "source": [
    "# continue : 현재 반복을 넘어감\n",
    "\n",
    "for i in range(5):\n",
    "    if i == 2:\n",
    "        print(\"건너뜀\")\n",
    "        continue\n",
    "    print(i)\n",
    "    time.sleep(1)\n",
    "\n",
    "print(\"반복 종료\")"
   ]
  },
  {
   "cell_type": "code",
   "execution_count": null,
   "id": "9f58aac7",
   "metadata": {},
   "outputs": [],
   "source": [
    "# pass: 반복문 실행 블록 구현 전 에러 방지용으로 사용\n",
    "\n",
    "for i in range(10):\n",
    "    pass"
   ]
  },
  {
   "cell_type": "code",
   "execution_count": 109,
   "id": "7e7cd626",
   "metadata": {},
   "outputs": [
    {
     "name": "stdout",
     "output_type": "stream",
     "text": [
      "0\n",
      "1\n",
      "2\n",
      "3\n",
      "4\n",
      "반복 종료\n",
      "0\n",
      "1\n"
     ]
    }
   ],
   "source": [
    "# for - else  구문\n",
    "for i in range(5):\n",
    "    print(i)\n",
    "else:\n",
    "    print(\"반복 종료\")\n",
    "\n",
    "for i in range(5):\n",
    "    if i == 2:\n",
    "        break\n",
    "    print(i)\n",
    "else:\n",
    "    print(\"반복 종료\")"
   ]
  },
  {
   "cell_type": "code",
   "execution_count": 112,
   "id": "658742e3",
   "metadata": {},
   "outputs": [
    {
     "name": "stdout",
     "output_type": "stream",
     "text": [
      "🌟🌟🌟🌟🌟\n",
      "🌟🌟🌟🌟🌟\n",
      "🌟🌟🌟🌟🌟\n",
      "🌟🌟🌟🌟🌟\n",
      "🌟🌟🌟🌟🌟\n"
     ]
    }
   ],
   "source": [
    "# 중첩 for문\n",
    "# 하나의 for문 안에 다른 for문이 들어있는 구조\n",
    "\n",
    "# 이중 for문\n",
    "for i in range(5):\n",
    "    for j in range(5):\n",
    "        print(\"🌟\", end=\"\")\n",
    "        time.sleep(0.5)\n",
    "    print()\n",
    "    time.sleep(1)"
   ]
  },
  {
   "cell_type": "code",
   "execution_count": null,
   "id": "618c3431",
   "metadata": {},
   "outputs": [
    {
     "name": "stdout",
     "output_type": "stream",
     "text": [
      "0, 0/ 0, 1/ 0, 2/ 0, 3/ \n",
      "1, 0/ 1, 1/ 1, 2/ 1, 3/ \n",
      "2, 0/ 2, 1/ 2, 2/ 2, 3/ \n",
      "3, 0/ 3, 1/ 3, 2/ 3, 3/ \n"
     ]
    }
   ],
   "source": [
    "for i in range(4):\n",
    "    for j in range(4):\n",
    "        print(f\"{i}, {j}/\", end=\" \")\n",
    "        time.sleep(0.5)\n",
    "    print()\n",
    "    time.sleep(1)"
   ]
  },
  {
   "cell_type": "code",
   "execution_count": 122,
   "id": "d576779d",
   "metadata": {},
   "outputs": [
    {
     "name": "stdout",
     "output_type": "stream",
     "text": [
      "[ 2단 ]\n",
      "2 x 1 = 2\n",
      "2 x 2 = 4\n",
      "2 x 3 = 6\n",
      "2 x 4 = 8\n",
      "2 x 5 = 10\n",
      "2 x 6 = 12\n",
      "2 x 7 = 14\n",
      "2 x 8 = 16\n",
      "2 x 9 = 18\n",
      "\n",
      "[ 3단 ]\n",
      "3 x 1 = 3\n",
      "3 x 2 = 6\n",
      "3 x 3 = 9\n",
      "3 x 4 = 12\n",
      "3 x 5 = 15\n",
      "3 x 6 = 18\n",
      "3 x 7 = 21\n",
      "3 x 8 = 24\n",
      "3 x 9 = 27\n",
      "\n",
      "[ 4단 ]\n",
      "4 x 1 = 4\n",
      "4 x 2 = 8\n",
      "4 x 3 = 12\n",
      "4 x 4 = 16\n",
      "4 x 5 = 20\n",
      "4 x 6 = 24\n",
      "4 x 7 = 28\n",
      "4 x 8 = 32\n",
      "4 x 9 = 36\n",
      "\n",
      "[ 5단 ]\n",
      "5 x 1 = 5\n",
      "5 x 2 = 10\n",
      "5 x 3 = 15\n",
      "5 x 4 = 20\n",
      "5 x 5 = 25\n",
      "5 x 6 = 30\n",
      "5 x 7 = 35\n",
      "5 x 8 = 40\n",
      "5 x 9 = 45\n",
      "\n",
      "[ 6단 ]\n",
      "6 x 1 = 6\n",
      "6 x 2 = 12\n",
      "6 x 3 = 18\n",
      "6 x 4 = 24\n",
      "6 x 5 = 30\n",
      "6 x 6 = 36\n",
      "6 x 7 = 42\n",
      "6 x 8 = 48\n",
      "6 x 9 = 54\n",
      "\n",
      "[ 7단 ]\n",
      "7 x 1 = 7\n",
      "7 x 2 = 14\n",
      "7 x 3 = 21\n",
      "7 x 4 = 28\n",
      "7 x 5 = 35\n",
      "7 x 6 = 42\n",
      "7 x 7 = 49\n",
      "7 x 8 = 56\n",
      "7 x 9 = 63\n",
      "\n",
      "[ 8단 ]\n",
      "8 x 1 = 8\n",
      "8 x 2 = 16\n",
      "8 x 3 = 24\n",
      "8 x 4 = 32\n",
      "8 x 5 = 40\n",
      "8 x 6 = 48\n",
      "8 x 7 = 56\n",
      "8 x 8 = 64\n",
      "8 x 9 = 72\n",
      "\n",
      "[ 9단 ]\n",
      "9 x 1 = 9\n",
      "9 x 2 = 18\n",
      "9 x 3 = 27\n",
      "9 x 4 = 36\n",
      "9 x 5 = 45\n",
      "9 x 6 = 54\n",
      "9 x 7 = 63\n",
      "9 x 8 = 72\n",
      "9 x 9 = 81\n",
      "\n"
     ]
    }
   ],
   "source": [
    "# 실습. 중첩 for문 연습 문제\n",
    "# 문제1. 구구단 만들기(2)\n",
    "# for 문을 중첩하여 2단부터 9단까지의 구구단 전체를 아래와 같은 형태로 출력해보세요.\n",
    "for i in range(2,10):\n",
    "    print(f\"[ {i}단 ]\")\n",
    "    for j in range(1,10):\n",
    "        print(f\"{i} x {j} = {i*j}\")\n",
    "    print()"
   ]
  },
  {
   "cell_type": "code",
   "execution_count": 172,
   "id": "877b4acf",
   "metadata": {},
   "outputs": [
    {
     "name": "stdout",
     "output_type": "stream",
     "text": [
      "왼쪽 정렬\n",
      "*\n",
      "**\n",
      "***\n",
      "****\n",
      "*****\n"
     ]
    }
   ],
   "source": [
    "# 문제2. 중첩 for문 별찍기\n",
    "# 사용자로부터 정수 n을 입력받아, 별(*) 문자를 n줄에 걸쳐 출력하는 프로그램을 작성하세요.\n",
    "# 3가지 정렬 방식(왼쪽 정렬, 가운데 정렬, 오른쪽 정렬)으로 각각 구현해보세요.\n",
    "\n",
    "n = int(input(\"몇 줄?\"))\n",
    "print(\"왼쪽 정렬\")\n",
    "for i in range(1, n+1):\n",
    "    for j in range(i):\n",
    "        print(\"*\", end=\"\")\n",
    "    print()"
   ]
  },
  {
   "cell_type": "code",
   "execution_count": 176,
   "id": "a321b23b",
   "metadata": {},
   "outputs": [
    {
     "name": "stdout",
     "output_type": "stream",
     "text": [
      "가운데 정렬\n",
      "    *\n",
      "   ***\n",
      "  *****\n",
      " *******\n",
      "*********\n"
     ]
    }
   ],
   "source": [
    "n = int(input(\"몇 줄?\"))\n",
    "print(\"가운데 정렬\")\n",
    "for i in range(1, n+1, 2):\n",
    "    for j in range((n-i)//2):\n",
    "        print(\" \", end=\"\")\n",
    "    for j in range(i):\n",
    "        print(\"*\", end=\"\")\n",
    "    print()\n"
   ]
  },
  {
   "cell_type": "code",
   "execution_count": 175,
   "id": "0229a0e2",
   "metadata": {},
   "outputs": [
    {
     "name": "stdout",
     "output_type": "stream",
     "text": [
      "가운데 정렬\n",
      "    *\n",
      "   ***\n",
      "  *****\n",
      " *******\n",
      "*********\n"
     ]
    }
   ],
   "source": [
    "n = int(input(\"몇 줄?\"))\n",
    "print(\"가운데 정렬\")\n",
    "for i in range(1, n+1):\n",
    "    for j in range(n-i):\n",
    "        print(\" \", end=\"\")\n",
    "    for j in range(2*i-1):\n",
    "        print(\"*\", end=\"\")\n",
    "    print()"
   ]
  },
  {
   "cell_type": "code",
   "execution_count": 170,
   "id": "0761e461",
   "metadata": {},
   "outputs": [
    {
     "name": "stdout",
     "output_type": "stream",
     "text": [
      "오른쪽 정렬\n",
      "    *\n",
      "   **\n",
      "  ***\n",
      " ****\n",
      "*****\n"
     ]
    }
   ],
   "source": [
    "n = int(input(\"몇 줄?\"))\n",
    "print(\"오른쪽 정렬\")\n",
    "for i in range(1, n+1):\n",
    "    for j in range(n-i):\n",
    "        print(\" \", end=\"\")\n",
    "    for j in range(i):\n",
    "        print(\"*\", end=\"\")\n",
    "    print()\n"
   ]
  },
  {
   "cell_type": "code",
   "execution_count": 181,
   "id": "4c1c69f7",
   "metadata": {},
   "outputs": [
    {
     "name": "stdout",
     "output_type": "stream",
     "text": [
      "[1, 4, 9, 16, 25]\n",
      "[1, 4, 9, 16, 25]\n"
     ]
    }
   ],
   "source": [
    "# 리스트 컴프리헨션(List Comprehension)\n",
    "# for문을 리스트에 한줄로 축약하여 새 리스트를 생성하는 문법\n",
    "# [표현식(리스트의 원소) for 변수 in 반복대상 if 조건]\n",
    "# 표현식 : 값을 유도하는 식(표현)\n",
    "\n",
    "# for문 이용\n",
    "squares = []\n",
    "for x in range(1,6):\n",
    "    squares.append(x**2)\n",
    "print(squares)\n",
    "\n",
    "# 리스트 컴프리헨션\n",
    "squares_2 = [x**2 for x in range(1,6)]\n",
    "print(squares_2)"
   ]
  },
  {
   "cell_type": "code",
   "execution_count": 182,
   "id": "06753c7f",
   "metadata": {},
   "outputs": [
    {
     "data": {
      "text/plain": [
       "[4, 16, 36, 64, 100]"
      ]
     },
     "execution_count": 182,
     "metadata": {},
     "output_type": "execute_result"
    }
   ],
   "source": [
    "# 조건문 추가하기\n",
    "squares_3 = [x**2 for x in range(1,11) if x % 2 == 0]\n",
    "squares_3 "
   ]
  },
  {
   "cell_type": "code",
   "execution_count": 190,
   "id": "208ef8b5",
   "metadata": {},
   "outputs": [
    {
     "name": "stdout",
     "output_type": "stream",
     "text": [
      "[5, 6, 4, 5]\n",
      "[6, 12, 2, 16, 8]\n"
     ]
    }
   ],
   "source": [
    "words = [\"apple\", \"banana\", \"kiwi\", \"grape\"]\n",
    "lengths = [len(word) for word in words]\n",
    "print(lengths)\n",
    "\n",
    "numbers = [3, 6, 1, 8, 4]\n",
    "doubled = [x*2 for x in numbers]\n",
    "print(doubled) "
   ]
  },
  {
   "cell_type": "code",
   "execution_count": null,
   "id": "40195920",
   "metadata": {},
   "outputs": [
    {
     "data": {
      "text/plain": [
       "[('red', '사과'), ('red', '수박'), ('blue', '사과'), ('blue', '수박')]"
      ]
     },
     "execution_count": 186,
     "metadata": {},
     "output_type": "execute_result"
    }
   ],
   "source": [
    "# 중첩 for문\n",
    "colors = [\"red\", \"blue\"]\n",
    "fruits = [\"사과\", \"수박\"]\n",
    "\n",
    "pairs = [(color, fruit) for color in colors for fruit in fruits]\n",
    "pairs"
   ]
  },
  {
   "cell_type": "code",
   "execution_count": null,
   "id": "2b35286e",
   "metadata": {},
   "outputs": [
    {
     "name": "stdout",
     "output_type": "stream",
     "text": [
      "[1, 4, 9, 16, 25, 36, 49, 64, 81, 100]\n"
     ]
    }
   ],
   "source": [
    "# 실습. 리스트 컴프리헨션 연습 문제\n",
    "# 문제 1. 제곱값 리스트 만들기\n",
    "# 1부터 10까지의 숫자에 대해, 각 수의 제곱값을 요소로 갖는 리스트를 리스트 컴프리헨션으로 생성하세요.\n",
    "squares = [x**2 for x in range(1,11)]\n",
    "print(squares)"
   ]
  },
  {
   "cell_type": "code",
   "execution_count": 191,
   "id": "058a2c5e",
   "metadata": {},
   "outputs": [
    {
     "name": "stdout",
     "output_type": "stream",
     "text": [
      "[3, 6, 9, 12, 15, 18, 21, 24, 27, 30, 33, 36, 39, 42, 45, 48]\n"
     ]
    }
   ],
   "source": [
    "# 문제 2. 3의 배수만 리스트로 만들기\n",
    "# 1부터 50까지의 수 중에서 3의 배수만 포함된 리스트를 리스트 컴프리헨션으로 만들어 출력하세요. (조건문 활용)\n",
    "result = [x for x in range(1, 50) if x % 3 == 0]\n",
    "print(result)"
   ]
  },
  {
   "cell_type": "code",
   "execution_count": 192,
   "id": "2a6b79c2",
   "metadata": {},
   "outputs": [
    {
     "name": "stdout",
     "output_type": "stream",
     "text": [
      "['apple', 'banana', 'cherry', 'orange']\n"
     ]
    }
   ],
   "source": [
    "# 문제 3. 문자열 리스트에서 길이가 5 이상인 단어만 뽑기\n",
    "# 리스트에서 글자 수가 5 이상인 단어들만 리스트 컴프리헨션으로 추출하여 출력하세요.\n",
    "fruits = [\"apple\", \"fig\", \"banana\", \"plum\", \"cherry\", \"pear\", \"orange\"]\n",
    "words = [fruit for fruit in fruits if len(fruit) >= 5]\n",
    "print(words)"
   ]
  }
 ],
 "metadata": {
  "kernelspec": {
   "display_name": "python-study",
   "language": "python",
   "name": "python3"
  },
  "language_info": {
   "codemirror_mode": {
    "name": "ipython",
    "version": 3
   },
   "file_extension": ".py",
   "mimetype": "text/x-python",
   "name": "python",
   "nbconvert_exporter": "python",
   "pygments_lexer": "ipython3",
   "version": "3.13.5"
  }
 },
 "nbformat": 4,
 "nbformat_minor": 5
}
