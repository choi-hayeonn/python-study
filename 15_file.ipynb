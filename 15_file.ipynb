{
 "cells": [
  {
   "cell_type": "markdown",
   "id": "a1520773",
   "metadata": {},
   "source": [
    "## 15. 파일 입출력\n",
    "- 저장장치에 저장된 파일을 읽어오거나 저장하는 작업"
   ]
  },
  {
   "cell_type": "code",
   "execution_count": 2,
   "id": "506ae011",
   "metadata": {},
   "outputs": [],
   "source": [
    "# 파일 열기와 닫기\n",
    "# 파일 열기 : open()\n",
    "# open(\"파일경로\", mode=\"r\", encoding=\"원하는 인코딩\")\n",
    "# open으로 파일을 읽으면 '파일객체'를 반환함\n",
    "f = open(\"example.txt\", \"w\", encoding=\"utf-8\")\n",
    "f.write(\"파이썬 파일 입출력 예제입니다.\\n\")\n",
    "f.write(\"파이썬 공부 재밌어요.🙂\")\n",
    "# 파일 닫기 : close()\n",
    "# 열린 파일을 닫아 시스템 자원을 해제함\n",
    "f.close()"
   ]
  },
  {
   "cell_type": "code",
   "execution_count": 3,
   "id": "7dd90c53",
   "metadata": {},
   "outputs": [
    {
     "name": "stdout",
     "output_type": "stream",
     "text": [
      "파이썬 파일 입출력 예제입니다.\n",
      "파이썬 공부 재밌어요.🙂\n"
     ]
    }
   ],
   "source": [
    "# 파일 읽기\n",
    "# read() : 전체 내용을 한번에 읽기\n",
    "f = open(\"example.txt\", \"r\", encoding = \"utf-8\")\n",
    "content = f.read()\n",
    "print(content)\n",
    "f.close()\n"
   ]
  }
 ],
 "metadata": {
  "kernelspec": {
   "display_name": "python-study",
   "language": "python",
   "name": "python3"
  },
  "language_info": {
   "codemirror_mode": {
    "name": "ipython",
    "version": 3
   },
   "file_extension": ".py",
   "mimetype": "text/x-python",
   "name": "python",
   "nbconvert_exporter": "python",
   "pygments_lexer": "ipython3",
   "version": "3.13.5"
  }
 },
 "nbformat": 4,
 "nbformat_minor": 5
}
