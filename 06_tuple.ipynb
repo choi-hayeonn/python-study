{
 "cells": [
  {
   "cell_type": "markdown",
   "id": "267213de",
   "metadata": {},
   "source": [
    "### 06. 튜플(Tuple)\n",
    " - 순서가 존재하는 여러 데이터의 모음\n",
    " - 불변(immutable) 자료형 → 원소에 대한 수정과 삭제가 불가"
   ]
  },
  {
   "cell_type": "code",
   "execution_count": null,
   "id": "542e39dd",
   "metadata": {},
   "outputs": [
    {
     "name": "stdout",
     "output_type": "stream",
     "text": [
      "(1, 2, 3, 4)\n",
      "\n",
      "(5, 6, 7, 8) <class 'tuple'>\n",
      "\n",
      "100 <class 'int'>\n",
      "\n",
      "(100,) <class 'tuple'>\n",
      "\n",
      "()\n",
      "('C', 'o', 'd', 'i', 'n', 'g', 'O', 'n')\n"
     ]
    }
   ],
   "source": [
    "# 튜플 생성\n",
    "my_tuple = (1,2,3,4)\n",
    "print(my_tuple)\n",
    "print()\n",
    "\n",
    "# 소괄호 없이 튜플 생성\n",
    "no_paren_tuple = 5,6,7,8  # 콤마를 넣어서 원소를 나열하면 튜플로 됨.\n",
    "print(no_paren_tuple, type(no_paren_tuple))\n",
    "print()\n",
    "\n",
    "# 원소가 하나의 튜플 생성\n",
    "single_el_tuple1 = (100)\n",
    "print(single_el_tuple1, type(single_el_tuple1))   # 튜플이 아님.\n",
    "print()\n",
    "single_el_tuple = (100,)\n",
    "print(single_el_tuple, type(single_el_tuple))  # 콤마를 반드시 붙여야 함. \n",
    "print()\n",
    "\n",
    "# 튜플 생성 함수로 생성\n",
    "my_tuple2 = tuple()\n",
    "print(my_tuple2)\n",
    "my_tuple3 = tuple(\"CodingOn\")  # 문자열을 튜플로\n",
    "print(my_tuple3)"
   ]
  },
  {
   "cell_type": "code",
   "execution_count": 1,
   "id": "6eb44bcd",
   "metadata": {},
   "outputs": [
    {
     "name": "stdout",
     "output_type": "stream",
     "text": [
      "사과\n",
      "농구\n",
      "코\n",
      "딩\n",
      "온\n"
     ]
    }
   ],
   "source": [
    "# 언패킹(Unpacking)\n",
    "# 시퀀스에 저장된 여러 값을 여러 변수에 나누어 저장하는 것\n",
    "# 구조 분해 할당(Destruction)\n",
    "과일1, 과일2, 과일3 = \"사과\", \"수박\", \"참외\"\n",
    "print(과일1) \n",
    "운동1, 운동2, 운동3 = [\"축구\", \"농구\", \"야구\"] \n",
    "print(운동2)\n",
    "문, 자, 열 = \"코딩온\"\n",
    "print(문)\n",
    "print(자)\n",
    "print(열)"
   ]
  },
  {
   "cell_type": "code",
   "execution_count": 2,
   "id": "1c989c70",
   "metadata": {},
   "outputs": [
    {
     "ename": "TypeError",
     "evalue": "'tuple' object does not support item assignment",
     "output_type": "error",
     "traceback": [
      "\u001b[31m---------------------------------------------------------------------------\u001b[39m",
      "\u001b[31mTypeError\u001b[39m                                 Traceback (most recent call last)",
      "\u001b[36mCell\u001b[39m\u001b[36m \u001b[39m\u001b[32mIn[2]\u001b[39m\u001b[32m, line 6\u001b[39m\n\u001b[32m      1\u001b[39m \u001b[38;5;66;03m# 튜플의 불변성\u001b[39;00m\n\u001b[32m      2\u001b[39m \u001b[38;5;66;03m# 불변성 : 객체가 생성된 이후 내부 데이터를 변경할 수 없는 것\u001b[39;00m\n\u001b[32m      3\u001b[39m \n\u001b[32m      4\u001b[39m \u001b[38;5;66;03m# 튜플 수정 시도\u001b[39;00m\n\u001b[32m      5\u001b[39m my_tuple = (\u001b[32m1\u001b[39m,\u001b[32m2\u001b[39m,\u001b[32m3\u001b[39m)\n\u001b[32m----> \u001b[39m\u001b[32m6\u001b[39m \u001b[43mmy_tuple\u001b[49m\u001b[43m[\u001b[49m\u001b[32;43m0\u001b[39;49m\u001b[43m]\u001b[49m = \u001b[32m100\u001b[39m\n\u001b[32m      8\u001b[39m \u001b[38;5;66;03m# 튜플 삭제 시도 \u001b[39;00m\n\u001b[32m      9\u001b[39m \u001b[38;5;28;01mdel\u001b[39;00m my_tuple[\u001b[32m1\u001b[39m]\n",
      "\u001b[31mTypeError\u001b[39m: 'tuple' object does not support item assignment"
     ]
    }
   ],
   "source": [
    "# 튜플의 불변성\n",
    "# 불변성 : 객체가 생성된 이후 내부 데이터를 변경할 수 없는 것\n",
    "\n",
    "# 튜플 수정 시도\n",
    "my_tuple = (1,2,3)\n",
    "my_tuple[0] = 100\n",
    "\n",
    "# 튜플 삭제 시도 \n",
    "del my_tuple[1]\n",
    "\n",
    "# 튜플 추가 시도 \n",
    "my_tuple.append(4)"
   ]
  },
  {
   "cell_type": "code",
   "execution_count": 16,
   "id": "e7679097",
   "metadata": {},
   "outputs": [
    {
     "name": "stdout",
     "output_type": "stream",
     "text": [
      "원본 튜플: (10, 20, 30)\n",
      "새로운 튜플: (100, 20, 30)\n"
     ]
    }
   ],
   "source": [
    "# 튜플의 수정\n",
    "my_tuple2 = (10, 20, 30)\n",
    "new_tuple = (100,) + my_tuple2[1:]\n",
    "print(\"원본 튜플:\", my_tuple2)\n",
    "print(\"새로운 튜플:\", new_tuple)"
   ]
  },
  {
   "cell_type": "code",
   "execution_count": null,
   "id": "38836998",
   "metadata": {},
   "outputs": [
    {
     "ename": "NameError",
     "evalue": "name 'my_tuple' is not defined",
     "output_type": "error",
     "traceback": [
      "\u001b[31m---------------------------------------------------------------------------\u001b[39m",
      "\u001b[31mNameError\u001b[39m                                 Traceback (most recent call last)",
      "\u001b[36mCell\u001b[39m\u001b[36m \u001b[39m\u001b[32mIn[17]\u001b[39m\u001b[32m, line 4\u001b[39m\n\u001b[32m      1\u001b[39m \u001b[38;5;66;03m# 튜플의 삭제\u001b[39;00m\n\u001b[32m      2\u001b[39m \u001b[38;5;66;03m# 튜플의 원소는 삭제할 수 x, 튜플 자체는 삭제 가능\u001b[39;00m\n\u001b[32m      3\u001b[39m \u001b[38;5;28;01mdel\u001b[39;00m my_tuple\n\u001b[32m----> \u001b[39m\u001b[32m4\u001b[39m \u001b[38;5;28mprint\u001b[39m(\u001b[43mmy_tuple\u001b[49m)\n",
      "\u001b[31mNameError\u001b[39m: name 'my_tuple' is not defined"
     ]
    }
   ],
   "source": [
    "# 튜플의 삭제\n",
    "# 튜플의 원소는 삭제할 수 x, 튜플 자체는 삭제 가능\n",
    "del my_tuple\n",
    "print(my_tuple) # 튜플이 삭제되어 NameError 발생"
   ]
  },
  {
   "cell_type": "code",
   "execution_count": null,
   "id": "a07c252e",
   "metadata": {},
   "outputs": [
    {
     "name": "stdout",
     "output_type": "stream",
     "text": [
      "복원된 고객 정보: ('eunji', 25, 'Seoul')\n",
      "\n",
      "eunji님의 나이는 25세이며, 거주 도시는 Seoul입니다.\n",
      "\n",
      "서울 지역 보안 정책 적용 대상입니다.\n",
      "\n",
      "'minji'는 3번 등장합니다.\n",
      "\n",
      "'soojin'은 2번 인덱스에 있습니다.\n",
      "\n",
      "정렬된 고객 리스트: ['eunji', 'minji', 'minji', 'minji', 'soojin']\n",
      "\n"
     ]
    }
   ],
   "source": [
    "# Step 1. 해킹된 고객 이름 복구하기\n",
    "user = (\"minji\", 25, \"Seoul\")\n",
    "restored_user = (\"eunji\",) + user[1:]\n",
    "print(\"복원된 고객 정보:\", restored_user)\n",
    "print()\n",
    "# Step 2. 언패킹\n",
    "name, age, city = restored_user\n",
    "print(f\"{name}님의 나이는 {age}세이며, 거주 도시는 {city}입니다.\")\n",
    "print()\n",
    "# Step 3. 지역에 따라 보안 메시지 다르게 출력\n",
    "if city == \"Seoul\":\n",
    "    print(\"서울 지역 보안 정책 적용 대상입니다.\")\n",
    "else:\n",
    "    print(\"일반 지역 보안 정책 적용 대상입니다.\")\n",
    "print()\n",
    "# Step 4. 고객 데이터 분석\n",
    "users = (\"minji\", \"eunji\", \"soojin\", \"minji\", \"minji\")\n",
    "count_minji = users.count(\"minji\")\n",
    "print(f\"'minji'는 {count_minji}번 등장합니다.\")\n",
    "print()\n",
    "index_soojin = users.index(\"soojin\")\n",
    "print(f\"'soojin'은 {index_soojin}번 인덱스에 있습니다.\")\n",
    "print()\n",
    "# Step 5. 고객 리스트 정렬 \n",
    "sorted_users = sorted(users)\n",
    "print(\"정렬된 고객 리스트:\", sorted_users)\n",
    "print()"
   ]
  }
 ],
 "metadata": {
  "kernelspec": {
   "display_name": "python-study",
   "language": "python",
   "name": "python3"
  },
  "language_info": {
   "codemirror_mode": {
    "name": "ipython",
    "version": 3
   },
   "file_extension": ".py",
   "mimetype": "text/x-python",
   "name": "python",
   "nbconvert_exporter": "python",
   "pygments_lexer": "ipython3",
   "version": "3.13.5"
  }
 },
 "nbformat": 4,
 "nbformat_minor": 5
}
