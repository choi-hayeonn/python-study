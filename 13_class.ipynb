{
 "cells": [
  {
   "cell_type": "markdown",
   "id": "5115b288",
   "metadata": {},
   "source": [
    "### 13. 클래스(class)\n",
    " - 데이터와 기능을 하나로 묶는 구조\n",
    " - 개념적(기능적)으로 유사한 관계에 있는 것들을 묶어줌"
   ]
  },
  {
   "cell_type": "code",
   "execution_count": null,
   "id": "c46ca758",
   "metadata": {},
   "outputs": [
    {
     "name": "stdout",
     "output_type": "stream",
     "text": [
      "이 인스턴스의 이름은 내 인스턴스입니다.\n",
      "이 인스턴스의 이름은 다른 인스턴스입니다.\n"
     ]
    }
   ],
   "source": [
    "# 클래스 기본 문법\n",
    "\n",
    "# 클래스의 정의 \n",
    "class ClassName:        # 클래스 이름 : 주로 PascalCase 사용\n",
    "    # 생성자(Constructor): 인스턴스가 생성될 때 호출\n",
    "    # 인스턴스 변수를 초기화, 기본 상태 설정\n",
    "    # 하나의 클래스에서 하나만 정의 가능\n",
    "    def __init__(self, name):\n",
    "        # 인스턴스 변수\n",
    "        # self : 인스턴스 자기 자신을 가리킴\n",
    "        self.name = name\n",
    "        self.age = 0\n",
    "    # (인스턴스) 메서드\n",
    "    def method_name(self):\n",
    "        print(f\"이 인스턴스의 이름은 {self.name}입니다.\")\n",
    "\n",
    "# 인스턴스의 생성\n",
    "my_instance = ClassName(\"내 인스턴스\")\n",
    "my_instance.name\n",
    "my_instance.method_name()\n",
    "\n",
    "another_instance = ClassName(\"다른 인스턴스\")\n",
    "another_instance.method_name()"
   ]
  },
  {
   "cell_type": "code",
   "execution_count": null,
   "id": "15f5f1f7",
   "metadata": {},
   "outputs": [
    {
     "name": "stdout",
     "output_type": "stream",
     "text": [
      "안녕하세요, 저는 ian입니다. 나이는 15살입니다.\n",
      "사는 곳은 창동이구요, 취미는 책읽기입니다.\n",
      "나이를 한 살 더 먹었습니다. 현재나이: 16\n",
      "안녕하세요, 저는 ian입니다. 나이는 16살입니다.\n",
      "사는 곳은 창동이구요, 취미는 책읽기입니다.\n",
      "\n",
      "안녕하세요, 저는 codingowl입니다. 나이는 5살입니다.\n",
      "사는 곳은 염리동이구요, 취미는 코딩입니다.\n",
      "나이를 한 살 더 먹었습니다. 현재나이: 6\n",
      "안녕하세요, 저는 codingowl입니다. 나이는 6살입니다.\n",
      "사는 곳은 염리동이구요, 취미는 코딩입니다.\n"
     ]
    }
   ],
   "source": [
    "class Person:\n",
    "    def __init__(self, name, age, address, hobby):\n",
    "        self.name = name\n",
    "        self.age = age\n",
    "        self.address = address\n",
    "        self.hobby = hobby\n",
    "\n",
    "    def inroduce(self):\n",
    "        print(f\"안녕하세요, 저는 {self.name}입니다. 나이는 {self.age}살입니다.\")\n",
    "        print(f\"사는 곳은 {self.address}이구요, 취미는 {self.hobby}입니다.\")\n",
    "\n",
    "    def add_age(self):\n",
    "        self.age += 1 \n",
    "        print(f\"나이를 한 살 더 먹었습니다. 현재나이: {self.age}\")\n",
    "\n",
    "p1 = Person(\"ian\", 15 , \"창동\", \"책읽기\")\n",
    "p1.inroduce()\n",
    "p1.add_age()\n",
    "p1.inroduce()\n",
    "print()\n",
    "\n",
    "p2 = Person(\"codingowl\", 5 , \"염리동\", \"코딩\")\n",
    "p2.inroduce()\n",
    "p2.add_age()\n",
    "p2.inroduce()       "
   ]
  },
  {
   "cell_type": "code",
   "execution_count": null,
   "id": "3f049616",
   "metadata": {},
   "outputs": [
    {
     "name": "stdout",
     "output_type": "stream",
     "text": [
      "📕 책 제목: 🌌COSMOS🌟\n",
      "✍ 작가: 🌏Carl Sagon🪐\n",
      "👓 300페이지를 읽었습니다. (현재 300/365페이지)\n",
      "📖 읽기 진행률: 82.2%\n"
     ]
    }
   ],
   "source": [
    "\n",
    "# 실습. class 기본 문법 연습\n",
    "\n",
    "# 문제1. 책 클래스 만들기\n",
    "class Book:\n",
    "    def __init__(self, title, author, total_pages, current_pages):        \n",
    "        self.title = title\n",
    "        self.author = author\n",
    "        self.total_pages = total_pages\n",
    "        self.current_page = current_pages  \n",
    "    \n",
    "    def read_page(self, pages):\n",
    "        self.current_page += pages\n",
    "        if pages < 0:\n",
    "            print(\"읽을 페이지 수는 0 이상이어야 합니다.\")\n",
    "            return        \n",
    "        if self.current_page > self.total_pages:\n",
    "            self.current_page = self.total_pages\n",
    "            print(f\"책을 끝까지 다 읽었어요.\")\n",
    "            return        \n",
    "        else:\n",
    "            print(f\"👓 {pages}페이지를 읽었습니다. (현재 {self.current_page}/{self.total_pages}페이지)\")\n",
    "    \n",
    "    def progress(self):\n",
    "        percentage = (self.current_page / self.total_pages) * 100        \n",
    "        print(f\"📖 읽기 진행률: {percentage:.1f}%\")\n",
    "    \n",
    "B1 = Book(\"🌌COSMOS🌟\", \"🌏Carl Sagon🪐\" , 365, 0)\n",
    "print(f\"📕 책 제목: {B1.title}\")\n",
    "print(f\"✍ 작가: {B1.author}\")\n",
    "B1.read_page(300)\n",
    "B1.progress()   "
   ]
  },
  {
   "cell_type": "code",
   "execution_count": 31,
   "id": "57008fbe",
   "metadata": {},
   "outputs": [
    {
     "name": "stdout",
     "output_type": "stream",
     "text": [
      "사각형의 넓이는 20입니다.\n"
     ]
    }
   ],
   "source": [
    "# 문제2. Rectangle 클래스 구현\n",
    "class Rectangle:\n",
    "    def __init__(self, width, height):        \n",
    "        self.width = width\n",
    "        self.height = height\n",
    "\n",
    "    def area(self):\n",
    "        return self.width * self.height\n",
    "    \n",
    "w = int(input(\"너비를 입력하세요.\"))\n",
    "h = int(input(\"높이를 입력하세요.\"))\n",
    "\n",
    "my_rect = Rectangle(w,h)\n",
    "\n",
    "print(f\"사각형의 넓이는 {my_rect.area()}입니다.\")"
   ]
  },
  {
   "cell_type": "code",
   "execution_count": 8,
   "id": "fde1e9bb",
   "metadata": {},
   "outputs": [
    {
     "name": "stdout",
     "output_type": "stream",
     "text": [
      "인스턴스1: 강아지\n",
      "인스턴스2: 강아지\n",
      "클래스: 강아지\n"
     ]
    }
   ],
   "source": [
    "# 클래스 변수\n",
    "# 클래스가 가지고 있는 변수\n",
    "# 모든 인스턴스가 공유할 수 있음\n",
    "\n",
    "class Dog:\n",
    "    kind = \"강아지\"     # ← 클래스 변수\n",
    "\n",
    "    def __init__(self, species, name, age):\n",
    "        self.species = species\n",
    "        self.name = name\n",
    "        self.age = age\n",
    "\n",
    "dog1 = Dog(\"포메라니안\", \"리치\", 12)\n",
    "dog2 = Dog(\"비숑\", \"구름\", 10)\n",
    "\n",
    "print(\"인스턴스1:\", dog1.kind)\n",
    "print(\"인스턴스2:\", dog2.kind)\n",
    "print(\"클래스:\", Dog.kind)"
   ]
  },
  {
   "cell_type": "code",
   "execution_count": null,
   "id": "d30245b8",
   "metadata": {},
   "outputs": [
    {
     "name": "stdout",
     "output_type": "stream",
     "text": [
      "1\n",
      "2\n",
      "현재 2권의 책을 가지고 계십니다.\n"
     ]
    }
   ],
   "source": [
    "# 클래스 메서드\n",
    "# 클래스 자체를 대상으로 동작하는 메서드\n",
    "# 클래스의 데이터를 조작하는데 사용\n",
    "\n",
    "class Book:\n",
    "    book_count = 0\n",
    "\n",
    "    def __init__(self, title, author):        \n",
    "        Book.book_count += 1 \n",
    "        self.title = title\n",
    "        self.author = author\n",
    "    \n",
    "    @classmethod    # 데코레이터\n",
    "    def get_count(cls):\n",
    "        print(f\"현재 {cls.book_count}권의 책을 가지고 계십니다.\")\n",
    "\n",
    "book1 = Book(\"넥서스\", \"유발 하라리\")\n",
    "print(Book.book_count)\n",
    "book2 = Book(\"맹자\", \"맹자\")\n",
    "print(Book.book_count)\n",
    "Book.get_count()\n",
    "       "
   ]
  },
  {
   "cell_type": "code",
   "execution_count": 39,
   "id": "26d3c145",
   "metadata": {},
   "outputs": [
    {
     "data": {
      "text/plain": [
       "30"
      ]
     },
     "execution_count": 39,
     "metadata": {},
     "output_type": "execute_result"
    }
   ],
   "source": [
    "# 정적 메서드\n",
    "# 클래스나 인스턴스의 데이터를 조작하지 않는 클래스 함수\n",
    "# 클래스나 인스턴스의 상태에 의존하지 않는 일반 함수\n",
    "# 개념적으로는 클래스와 연관이 있으나, 클래스나 인스턴스의 데이터를 조작하지 않는 함수를 정의\n",
    "\n",
    "class OperationTool:\n",
    "    @staticmethod  # 데코레이터\n",
    "    def add(a, b):\n",
    "        return a + b\n",
    "    \n",
    "OperationTool.add(10,20)"
   ]
  },
  {
   "cell_type": "code",
   "execution_count": null,
   "id": "063a7457",
   "metadata": {},
   "outputs": [
    {
     "name": "stdout",
     "output_type": "stream",
     "text": [
      "😎Username: 👸Queen\n",
      "💰Points: 70\n",
      "💵포인트 30 추가\n",
      "🌟레벨: Silver🥈\n",
      "👾총 유저 수: 1\n",
      "\n",
      "😎Username: 🥛Wilk\n",
      "💰Points: 400\n",
      "💵포인트 150 추가\n",
      "🌟레벨: Gold🥇\n",
      "👾총 유저 수: 2\n"
     ]
    }
   ],
   "source": [
    "# 문제1. User 클래스 구현\n",
    "class User :\n",
    "    total_users = 0\n",
    "\n",
    "    def __init__(self, username, points):        \n",
    "        User. total_users += 1 \n",
    "        self.username = username\n",
    "        self.points = points\n",
    "    \n",
    "    def add_points(self, amount):\n",
    "        self.points += amount\n",
    "        print(f\"💵포인트 {amount} 추가\")\n",
    "        return self.points\n",
    "        \n",
    "\n",
    "    def get_level(self):\n",
    "        if self.points <= 99:\n",
    "            print(\"🌟레벨: Bronze🥉\")\n",
    "            return \"Bronze\"\n",
    "        elif self.points <= 499:\n",
    "            print(\"🌟레벨: Silver🥈\")\n",
    "            return \"Silver\"     \n",
    "        else:\n",
    "            print(\"🌟레벨: Gold🥇\")\n",
    "            return \"Gold\"\n",
    "        \n",
    "        \n",
    "    @classmethod    # 데코레이터\n",
    "    def  get_total_users(cls):\n",
    "        print(f\"👾총 유저 수: {cls. total_users}\")\n",
    "\n",
    "U1 = User(\"👸Queen\", 70)\n",
    "print(f\"😎Username: {U1.username}\")\n",
    "print(f\"💰Points: {U1.points}\")\n",
    "U1.add_points(30)\n",
    "U1.get_level()\n",
    "User.get_total_users()\n",
    "print()\n",
    "\n",
    "U2 = User(\"🥛Wilk\", 400)\n",
    "print(f\"😎Username: {U2.username}\")\n",
    "print(f\"💰Points: {U2.points}\")\n",
    "U2.add_points(150)\n",
    "U2.get_level()\n",
    "User.get_total_users()"
   ]
  },
  {
   "cell_type": "code",
   "execution_count": null,
   "id": "e42c7029",
   "metadata": {},
   "outputs": [
    {
     "name": "stdout",
     "output_type": "stream",
     "text": [
      "이안\n",
      "유효하지 않는 나이입니다.\n"
     ]
    },
    {
     "data": {
      "text/plain": [
       "20"
      ]
     },
     "execution_count": 1,
     "metadata": {},
     "output_type": "execute_result"
    }
   ],
   "source": [
    "# 접근 제어와 정보 은닉\n",
    "# 데이터 무결성을 보호하기 위함\n",
    "# 코드 안정성을 향상시키기 위함\n",
    "\n",
    "class Person:\n",
    "    def __init__(self, name, age):\n",
    "        # public\n",
    "        self.name = name\n",
    "        # private : 언더바(_) 두개를 변수 앞에 붙여서 정의\n",
    "        self.__age = age\n",
    "\n",
    "    # getter\n",
    "    def get_age(self):  \n",
    "        return self.__age\n",
    "\n",
    "    # setter\n",
    "    def add_age(self, value):\n",
    "        if value > 120 or value <0:\n",
    "            print(\"유효하지 않는 나이입니다.\")\n",
    "        else:\n",
    "            self.__age = value\n",
    "\n",
    "p1 = Person(\"ian\", 15)\n",
    "p1.name = \"이안\"\n",
    "print(p1.name)\n",
    "\n",
    "# 외부에서 private 요소에 접근시도 → 접근할 수 없음\n",
    "#p1.__age\n",
    "        \n",
    "p1._Person__age  # ←네임 맹글링: 권장되지 x\n",
    "\n",
    "p1.add_age(130)\n",
    "p1.add_age(20)\n",
    "p1.get_age()\n",
    "        "
   ]
  },
  {
   "cell_type": "code",
   "execution_count": 6,
   "id": "b64170f8",
   "metadata": {},
   "outputs": [
    {
     "name": "stdout",
     "output_type": "stream",
     "text": [
      "유효하지 않은 값입니다.\n"
     ]
    },
    {
     "data": {
      "text/plain": [
       "100"
      ]
     },
     "execution_count": 6,
     "metadata": {},
     "output_type": "execute_result"
    }
   ],
   "source": [
    "# @property 데코레이터\n",
    "# 메서드를 속성처럼 보이게 만들어주는 데코레이터\n",
    "\n",
    "# 기본문법\n",
    "class ClassName:\n",
    "    def __init__(self):\n",
    "        self.__value = 0\n",
    "\n",
    "    # getter\n",
    "    @property\n",
    "    def value(self):\n",
    "        return self.__value\n",
    "    \n",
    "    # setter\n",
    "    @value.setter\n",
    "    def value(self, val):\n",
    "        if val < 0:\n",
    "            print(\"유효하지 않은 값입니다.\")\n",
    "        else:\n",
    "            self.__value = val\n",
    "\n",
    "c1 = ClassName()\n",
    "c1.value \n",
    "c1.value = 100\n",
    "c1.value \n",
    "c1.value = -100\n",
    "c1.value "
   ]
  },
  {
   "cell_type": "code",
   "execution_count": null,
   "id": "67db49b6",
   "metadata": {},
   "outputs": [
    {
     "name": "stdout",
     "output_type": "stream",
     "text": [
      "비밀번호 불일치\n",
      "비밀번호가 변경되었어요.\n",
      "False\n",
      "True\n"
     ]
    }
   ],
   "source": [
    "# 실습. 접근 제어와 정보은닉 연습\n",
    "\n",
    "# 문제1. UserAccount 클래스 : 비밀번호 보호\n",
    "class UserAccount:\n",
    "    def __init__(self, username, passward):\n",
    "        self.usename = username\n",
    "        self.__password = passward\n",
    "    \n",
    "        \n",
    "    \n",
    "    def change_password(self, old_pw, new_pw):\n",
    "        if old_pw == self.__password:\n",
    "            self.__password = new_pw\n",
    "            print(\"비밀번호가 변경되었어요.\")\n",
    "        else:\n",
    "            print(\"비밀번호 불일치\")\n",
    "\n",
    "    def check_password(self, password):\n",
    "        return password == self.__password\n",
    "        \n",
    "u1 = UserAccount(\"I\", \"1234\")\n",
    "u1.usename\n",
    "\n",
    "u1.change_password(\"12345\", \"123\")\n",
    "u1.change_password(\"1234\", \"123\")\n",
    "print(u1.check_password(\"12345\"))\n",
    "print(u1.check_password(\"123\"))\n",
    "         "
   ]
  },
  {
   "cell_type": "code",
   "execution_count": null,
   "id": "703c03e3",
   "metadata": {},
   "outputs": [
    {
     "ename": "ValueError",
     "evalue": "점수 범위를 벗어났습니다.",
     "output_type": "error",
     "traceback": [
      "\u001b[31m---------------------------------------------------------------------------\u001b[39m",
      "\u001b[31mValueError\u001b[39m                                Traceback (most recent call last)",
      "\u001b[36mCell\u001b[39m\u001b[36m \u001b[39m\u001b[32mIn[50]\u001b[39m\u001b[32m, line 21\u001b[39m\n\u001b[32m     19\u001b[39m s1.score\n\u001b[32m     20\u001b[39m s1.score = \u001b[32m50\u001b[39m\n\u001b[32m---> \u001b[39m\u001b[32m21\u001b[39m \u001b[43ms1\u001b[49m\u001b[43m.\u001b[49m\u001b[43mscore\u001b[49m = \u001b[32m120\u001b[39m\n",
      "\u001b[36mCell\u001b[39m\u001b[36m \u001b[39m\u001b[32mIn[50]\u001b[39m\u001b[32m, line 16\u001b[39m, in \u001b[36mStudent.score\u001b[39m\u001b[34m(self, value)\u001b[39m\n\u001b[32m     14\u001b[39m     \u001b[38;5;28mself\u001b[39m.__score = value\n\u001b[32m     15\u001b[39m \u001b[38;5;28;01melse\u001b[39;00m:\n\u001b[32m---> \u001b[39m\u001b[32m16\u001b[39m     \u001b[38;5;28;01mraise\u001b[39;00m \u001b[38;5;167;01mValueError\u001b[39;00m(\u001b[33m\"\u001b[39m\u001b[33m점수 범위를 벗어났습니다.\u001b[39m\u001b[33m\"\u001b[39m)\n",
      "\u001b[31mValueError\u001b[39m: 점수 범위를 벗어났습니다."
     ]
    }
   ],
   "source": [
    "# 문제 2. Student 클래스: 성적 검증(@property 사용)\n",
    "class Student:\n",
    "    def __init__(self, name, score):\n",
    "        self.name = name\n",
    "        self.__score = score\n",
    "\n",
    "    @property\n",
    "    def score(self):\n",
    "        return self.__score\n",
    "    \n",
    "    @score.setter\n",
    "    def score(self, value):\n",
    "        if 0< value < 100:\n",
    "            self.__score = value\n",
    "        else:\n",
    "            raise ValueError(\"점수 범위를 벗어났습니다.\")     \n",
    "           \n",
    "s1 = Student(\"I\", 0)\n",
    "s1.score\n",
    "s1.score = 50\n",
    "s1.score = 120"
   ]
  },
  {
   "cell_type": "code",
   "execution_count": 55,
   "id": "c6b8a4fc",
   "metadata": {},
   "outputs": [
    {
     "name": "stdout",
     "output_type": "stream",
     "text": [
      "동물이 울음 소리를 냅니다.\n"
     ]
    },
    {
     "data": {
      "text/plain": [
       "'구름'"
      ]
     },
     "execution_count": 55,
     "metadata": {},
     "output_type": "execute_result"
    }
   ],
   "source": [
    "# 상속(Inheritance)\n",
    "# 부모 클래스의 속성과 메서드를 물려받아 새로운 자녀 클래스를 만드는 것\n",
    "\n",
    "# 상속 기본 문법\n",
    "\n",
    "# 부모 클래스\n",
    "class Animal:\n",
    "    def __init__(self, name):\n",
    "        self.name = name\n",
    "        \n",
    "    def bark(self):\n",
    "        print(\"동물이 울음 소리를 냅니다.\")\n",
    "# 자녀 클래스\n",
    "class Dog(Animal):\n",
    "    pass\n",
    "\n",
    "d = Dog(\"구름\")\n",
    "d.bark()\n",
    "d.name"
   ]
  },
  {
   "cell_type": "code",
   "execution_count": null,
   "id": "dcd83075",
   "metadata": {},
   "outputs": [
    {
     "name": "stdout",
     "output_type": "stream",
     "text": [
      "동물이 울음 소리를 냅니다.\n",
      "멍멍\n",
      "리치\n",
      "9\n",
      "포메\n",
      "동물이 울음 소리를 냅니다.\n",
      "멍멍\n"
     ]
    }
   ],
   "source": [
    "class Animal:\n",
    "    def __init__(self, name, age):\n",
    "        self.name = name\n",
    "        self.age = age\n",
    "        \n",
    "    def bark(self):\n",
    "        print(\"동물이 울음 소리를 냅니다.\")\n",
    "# 자녀 클래스\n",
    "class Dog(Animal):\n",
    "    # 오버라이딩 : 부모 클래스에서 정의한 걸 자녀클래스에서 재정의하는 것.\n",
    "    def __init__(self, name, age, species):\n",
    "        # super는 부모를 가리킴.\n",
    "        # 부모의 함수를 그대로 복제함.\n",
    "        super().__init__(name, age)\n",
    "        self.species = species\n",
    "    # 오버라이딩\n",
    "    def bark(self):\n",
    "        super().bark()\n",
    "        print(\"멍멍\")\n",
    "\n",
    "d = Dog(\"리치\", 9, \"포메\")\n",
    "d.bark()\n",
    "print(d.name)\n",
    "print(d.age)\n",
    "print(d.species)\n",
    "d.bark()"
   ]
  },
  {
   "cell_type": "code",
   "execution_count": 73,
   "id": "3b644d5b",
   "metadata": {},
   "outputs": [
    {
     "name": "stdout",
     "output_type": "stream",
     "text": [
      "구름이가 음식을 먹습니다.\n",
      "구름이는 비숑이며 멍멍 짖어요.\n"
     ]
    }
   ],
   "source": [
    "# 다단계 상속\n",
    "class LivinBeing:\n",
    "    def __init__(self):\n",
    "        self.alive = True\n",
    "class Animal(LivinBeing):\n",
    "    def __init__(self, name, age):\n",
    "        super().__init__()\n",
    "        self.name = name\n",
    "        self.age = age\n",
    "\n",
    "    def eat(self):\n",
    "        print(f\"{self.name}가 음식을 먹습니다.\")\n",
    "\n",
    "class Dog(Animal):\n",
    "    def __init__(self, name, age, species):\n",
    "        super().__init__(name, age)\n",
    "        self.species = species\n",
    "\n",
    "    def bark(self):\n",
    "        print(f\"{self.name}는 {self.species}이며 멍멍 짖어요.\")\n",
    "\n",
    "d = Dog(\"구름이\", 10, \"비숑\")\n",
    "d.alive\n",
    "d.eat()\n",
    "d.bark()\n"
   ]
  },
  {
   "cell_type": "code",
   "execution_count": 96,
   "id": "e55255de",
   "metadata": {},
   "outputs": [
    {
     "name": "stdout",
     "output_type": "stream",
     "text": [
      "🧮변의 개수: 4\n",
      "📏밑변의 길이: 10\n",
      "⛔넓이 계산이 정의되지 않았습니다.\n",
      "\n",
      "🧮변의 개수: 4\n",
      "📏밑변의 길이: 10\n",
      "🟥사각형의 넓이: 50\n",
      "\n",
      "🧮변의 개수: 3\n",
      "📏밑변의 길이: 5\n",
      "🔺삼각형의 넓이: 15.0\n"
     ]
    }
   ],
   "source": [
    "# 실습. 상속과 오버라이딩 연습\n",
    "\n",
    "class Shape:\n",
    "    def __init__(self, sides, base):\n",
    "        self.sides = sides\n",
    "        self.base = base\n",
    "    def printinfo(self):\n",
    "        print(f\"🧮변의 개수: {self.sides}\")\n",
    "        print(f\"📏밑변의 길이: {self.base}\")\n",
    "    def area(self):\n",
    "        print(\"⛔넓이 계산이 정의되지 않았습니다.\")\n",
    "\n",
    "class Rectangle(Shape):\n",
    "    def __init__(self, sides, base, height):\n",
    "        super().__init__(sides, base)\n",
    "        self.height = height        \n",
    "    def area(self):\n",
    "        print(f\"🟥사각형의 넓이: {self.base * self.height}\")\n",
    "\n",
    "class Triangle(Rectangle):\n",
    "    def __init__(self, sides, base, height):\n",
    "        super().__init__(sides, base, height)        \n",
    "    def area(self):\n",
    "        print(f\"🔺삼각형의 넓이: {self.base * self.height / 2}\")\n",
    "\n",
    "s = Shape(4, 10)\n",
    "s.printinfo()\n",
    "s.area()\n",
    "print()\n",
    "r = Rectangle(4, 10, 5)\n",
    "r.printinfo()\n",
    "r.area()\n",
    "print()\n",
    "t = Triangle(3, 5, 6)\n",
    "t.printinfo()\n",
    "t.area()"
   ]
  },
  {
   "cell_type": "code",
   "execution_count": 100,
   "id": "81d6a8d4",
   "metadata": {},
   "outputs": [
    {
     "name": "stdout",
     "output_type": "stream",
     "text": [
      "멍멍\n"
     ]
    }
   ],
   "source": [
    "# 추상 클래스(Abstract class) : 클래스의 설계도 (ex)붕어빵 틀의 설계도) \n",
    "# 클래스의 구조를 정의하는 클래스\n",
    "# 공통적인 구조는 정의하되, 구체적인 동작은 상속받은 클래스에서 구현하도록 **강제**하는 용도로 사용\n",
    "\n",
    "from abc import ABC, abstractmethod\n",
    "\n",
    "class Animal(ABC):\n",
    "    @abstractmethod\n",
    "    def bark(self):\n",
    "        pass\n",
    "\n",
    "class Dog(Animal):\n",
    "    def bark(self):\n",
    "        print(\"멍멍\")\n",
    "\n",
    "d = Dog()\n",
    "d.bark()"
   ]
  },
  {
   "cell_type": "code",
   "execution_count": null,
   "id": "c450db21",
   "metadata": {},
   "outputs": [
    {
     "name": "stdout",
     "output_type": "stream",
     "text": [
      " 💳CardPayment: 카드로 100000000원을 결제합니다.🤑\n",
      " 💵CashPayment: 현금으로 3000원을 결제합니다.😄\n"
     ]
    }
   ],
   "source": [
    "# 실습. 추상 클래스 연습 문제\n",
    "# 문제. 추상 클래스 Payment 구현\n",
    "\n",
    "from abc import ABC, abstractmethod\n",
    "\n",
    "class Payment(ABC):\n",
    "    @abstractmethod\n",
    "    def pay(self, amount):\n",
    "        pass\n",
    "\n",
    "class  CardPayment(Payment):\n",
    "    def pay(self, amount):\n",
    "        print(f\" 💳CardPayment: 카드로 {amount}원을 결제합니다.🤑\")\n",
    "\n",
    "class  CashPayment(Payment):\n",
    "    def pay(self, amount):\n",
    "        print(f\" 💵CashPayment: 현금으로 {amount}원을 결제합니다.😄\")\n",
    "\n",
    "card = CardPayment()\n",
    "card.pay(100000000)\n",
    "\n",
    "cash = CashPayment()\n",
    "cash.pay(3000)\n"
   ]
  }
 ],
 "metadata": {
  "kernelspec": {
   "display_name": "python-study",
   "language": "python",
   "name": "python3"
  },
  "language_info": {
   "codemirror_mode": {
    "name": "ipython",
    "version": 3
   },
   "file_extension": ".py",
   "mimetype": "text/x-python",
   "name": "python",
   "nbconvert_exporter": "python",
   "pygments_lexer": "ipython3",
   "version": "3.13.5"
  }
 },
 "nbformat": 4,
 "nbformat_minor": 5
}
