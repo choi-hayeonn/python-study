{
 "cells": [
  {
   "cell_type": "markdown",
   "id": "6d645eec",
   "metadata": {},
   "source": [
    "### 2. 자료형(Data type)\n",
    "- 변수에 저장되는 데이터의 종류와 구조를 정의하는 것\n",
    "- 파이썬: 동적 타입 언어 (↔ 정적 타입 언어)\n",
    "   → 변수를 만들 때 별도의 타입을 지정하지 않아도 됨\n"
   ]
  },
  {
   "cell_type": "code",
   "execution_count": null,
   "id": "8d76939a",
   "metadata": {},
   "outputs": [
    {
     "ename": "IndentationError",
     "evalue": "unexpected indent (697467034.py, line 17)",
     "output_type": "error",
     "traceback": [
      "  \u001b[36mCell\u001b[39m\u001b[36m \u001b[39m\u001b[32mIn[7]\u001b[39m\u001b[32m, line 17\u001b[39m\n\u001b[31m    \u001b[39m\u001b[31mprint(code)\u001b[39m\n    ^\n\u001b[31mIndentationError\u001b[39m\u001b[31m:\u001b[39m unexpected indent\n"
     ]
    }
   ],
   "source": [
    "# 문자열(string, str)\n",
    "my_str1 = \"\" #빈문자열(O)\n",
    "my_str2 = \" \" #공백문자열(O)\n",
    "my_str3 = \"안녕하세요\" # 요하녕안세 ->문자열은 '순서가 있는 자료형'\n",
    "\n",
    "# 문자열 여러줄로 만들기\n",
    "\n",
    "multi_str = \"\"\"코: 코딩을 한다\n",
    "  딩: 딩딩딩 머리가 울린다 \n",
    "  온: 온제 끝나나\"\"\"\n",
    "\n",
    "\n",
    "\n",
    "code = '''def hello()\n",
    " print(\"Hi!)'''\n",
    "\n",
    "\n"
   ]
  },
  {
   "cell_type": "code",
   "execution_count": 7,
   "id": "d9f91cbc",
   "metadata": {},
   "outputs": [
    {
     "name": "stdout",
     "output_type": "stream",
     "text": [
      "'지식'은 우정을 대신하지 않아\n",
      "\"지식\"은 우정을 대신하지 않아\n"
     ]
    }
   ],
   "source": [
    "# 따옴표 속에 따옴표 쓰기\n",
    "print(\"'지식'은 우정을 대신하지 않아\")\n",
    "print('\"지식\"은 우정을 대신하지 않아')"
   ]
  },
  {
   "cell_type": "code",
   "execution_count": null,
   "id": "af22699d",
   "metadata": {},
   "outputs": [
    {
     "name": "stdout",
     "output_type": "stream",
     "text": [
      "<class 'int'>\n"
     ]
    }
   ],
   "source": [
    "# 정수형(integer, int)\n",
    "# 크기 제한이 없음\n",
    "my_int1 = 100\n",
    "my_int2 = 9808787680\n",
    "print(type(my_int1))\n"
   ]
  },
  {
   "cell_type": "code",
   "execution_count": null,
   "id": "ad09e38b",
   "metadata": {},
   "outputs": [
    {
     "name": "stdout",
     "output_type": "stream",
     "text": [
      "<class 'float'>\n"
     ]
    }
   ],
   "source": [
    "# 실수형(float)\n",
    "# 부동소수점 방식\n",
    "my_float = 3.14\n",
    "my_float = 100.0\n",
    "print(type(my_float))\n"
   ]
  },
  {
   "cell_type": "code",
   "execution_count": 13,
   "id": "0c8ce573",
   "metadata": {},
   "outputs": [
    {
     "name": "stdout",
     "output_type": "stream",
     "text": [
      "True\n",
      "False\n",
      "<class 'bool'>\n",
      "<class 'bool'>\n"
     ]
    }
   ],
   "source": [
    "# 4. 논리형(boolean, bool)\n",
    "# 참(1)과 거짓(0)을 표현하는 자료형\n",
    "print(True)\n",
    "print(False)\n",
    "print(type(True))\n",
    "print(type(False))"
   ]
  },
  {
   "cell_type": "code",
   "execution_count": null,
   "id": "e8e35283",
   "metadata": {},
   "outputs": [
    {
     "name": "stdout",
     "output_type": "stream",
     "text": [
      "내 이름은 Ian 이고, 나이는 15 입니다.\n",
      "공격력 : 100 , 방어력 : 80 , 민첩성 : 95 , 지력 : 105\n",
      "공격력 : 100, 방어력 : 80, 민첩성 : 95, 지력 : 105\n"
     ]
    }
   ],
   "source": [
    "# 2025-07-11\n",
    "\n",
    "# print 활용\n",
    "\n",
    "# 일반적으로 print를 사용했을 때\n",
    "my_name = \"Ian\"\n",
    "my_age = 15\n",
    "\n",
    "print(\"내 이름은\", my_name,\"이고, 나이는\", my_age,\"입니다.\" )\n",
    "\n",
    "공격력 = 100\n",
    "방어력 = 80\n",
    "민첩성 = 95\n",
    "지력 = 105\n",
    "\n",
    "print (\"공격력 :\", 공격력, \", 방어력 :\", 방어력, \", 민첩성 :\", 민첩성, \", 지력 :\", 지력)\n",
    "\n",
    "# !f-string : 문자열 포매팅\n",
    "# 문자열 안에 변수를 쓸 수 있도록 해주는 기능\n",
    "# f-string 사용\n",
    "print(f\"공격력 : {공격력}, 방어력 : {방어력}, 민첩성 : {민첩성}, 지력 : {지력}\")\n"
   ]
  },
  {
   "cell_type": "code",
   "execution_count": 14,
   "id": "5cb0bb7d",
   "metadata": {},
   "outputs": [
    {
     "name": "stdout",
     "output_type": "stream",
     "text": [
      "내 이름은 ian입니다\n",
      "내 나이는 15살 입니다\n"
     ]
    }
   ],
   "source": [
    "# 이전 방식 \n",
    "print(\"내 이름은 %s입니다\" % \"ian\")\n",
    "print(\"내 나이는 %d살 입니다\" % 15)\n"
   ]
  },
  {
   "cell_type": "code",
   "execution_count": null,
   "id": "8676f2a6",
   "metadata": {},
   "outputs": [
    {
     "name": "stdout",
     "output_type": "stream",
     "text": [
      "3.14 3\n",
      "3.14 → 3\n",
      "'100'→ 100\n",
      "True → 1\n",
      "False → 0\n"
     ]
    }
   ],
   "source": [
    "# 형 변환(Type casting)\n",
    "# 명시적 형변환(explicit) vs 암시적 형변환(implicit)\n",
    "# 강타입 vs 약타입  → 파이썬은 상대적으로 강타입 \n",
    "\n",
    "# 1. 정수로 변환 : int()\n",
    "# 1) 실수 → 정수  : 소수점이 탈락 된다.\n",
    "print(3.14, int(3.14))\n",
    "print(f\"3.14 → {int(3.14)}\")\n",
    "\n",
    "# 2) 문자열로 표현된 정수 → 정수\n",
    "print(f\"'100'→ {int('100')}\")\n",
    "\n",
    "# 3) 논리형 → 정수\n",
    "print(f\"True → {int(True)}\")\n",
    "print(f\"False → {int(False)}\")\n",
    "\n",
    "#❌불가능한 경우\n",
    "print(int(\"3.14\"))  # 문자열로 표현된 실수\n",
    "print(int(\"abc\")) # 그냥 문자열\n"
   ]
  },
  {
   "cell_type": "code",
   "execution_count": null,
   "id": "f6a60875",
   "metadata": {},
   "outputs": [
    {
     "name": "stdout",
     "output_type": "stream",
     "text": [
      "7 → 7.0\n",
      "'3.14' → 3.14\n",
      "'10' → 10.0\n",
      "True, False → ,1.0, 0.0\n"
     ]
    }
   ],
   "source": [
    "# 2. 실수로 변환 : float()\n",
    "# 1) 정수 → 실수\n",
    "print(f\"7 → {float(7)}\")\n",
    "\n",
    "# 2) 문자열로 표현된 실수 → 실수\n",
    "print(f\"'3.14' → {float('3.14')}\")\n",
    "\n",
    "# 3) 문자열로 표현된 정수  → 실수\n",
    "print(f\"'10' → {float('10')}\")\n",
    "\n",
    "# 4) 논리형 → 실수\n",
    "print(f\"True, False → ,{float(True)}, {float(False)}\")\n",
    "\n",
    "#❌불가능한 경우\n",
    "print (float(\"def\"))"
   ]
  },
  {
   "cell_type": "code",
   "execution_count": 22,
   "id": "2b0c6522",
   "metadata": {},
   "outputs": [
    {
     "name": "stdout",
     "output_type": "stream",
     "text": [
      "15.0\n"
     ]
    }
   ],
   "source": [
    "# 암시적 형변환\n",
    "print(10 + 5.0) # 정수와 실수의 연산에서 자동으로 실수로 연산해 줌\n",
    "# print(\"100\" + 200) # 얘는 안 됨."
   ]
  },
  {
   "cell_type": "code",
   "execution_count": 20,
   "id": "415bf7be",
   "metadata": {},
   "outputs": [
    {
     "name": "stdout",
     "output_type": "stream",
     "text": [
      "100 <class 'str'>\n",
      "3.14 <class 'str'>\n",
      "True <class 'str'>\n"
     ]
    }
   ],
   "source": [
    "# 3. 문자열로 변환 : str()\n",
    "# 모든 타입을 문자열로 변환 가능\n",
    "print(str(100), type(str(100)))\n",
    "print(str(3.14), type(str(3.14)))\n",
    "print(str(True), type(str(True)))\n",
    "\n"
   ]
  },
  {
   "cell_type": "code",
   "execution_count": 23,
   "id": "29f4cc1a",
   "metadata": {},
   "outputs": [
    {
     "name": "stdout",
     "output_type": "stream",
     "text": [
      "True\n",
      "False\n"
     ]
    }
   ],
   "source": [
    "# 4. 논리형으로 변환 : bool()\n",
    "print(bool(1))\n",
    "print(bool(0))"
   ]
  },
  {
   "cell_type": "code",
   "execution_count": 2,
   "id": "ff42f6f1",
   "metadata": {},
   "outputs": [
    {
     "name": "stdout",
     "output_type": "stream",
     "text": [
      "💥Title: Oppenheimer , 🎬Director: Christopher Nolan, 📅Year: 2023 , 😨Genre: Thriller\n"
     ]
    }
   ],
   "source": [
    "# 실습1. 영화 정보 출력하기\n",
    "\n",
    "Title = \"Oppenheimer\"\n",
    "Director = \"Christopher Nolan\"\n",
    "Year = \"2023\"\n",
    "Genre = \"Thriller\"\n",
    "\n",
    "print(f\"💥Title: {Title} , 🎬Director: {Director}, 📅Year: {Year} , 😨Genre: {Genre}\")"
   ]
  },
  {
   "cell_type": "code",
   "execution_count": null,
   "id": "7a012ab7",
   "metadata": {},
   "outputs": [
    {
     "name": "stdout",
     "output_type": "stream",
     "text": [
      "안녕하세요.😄👊 \n",
      "제 이름은 🍑🍓🍦🍫💍🎬💵최하연🍏🍉🍰🍵🍨👑💎🎤이고,\n",
      "25살입니다.2️⃣5️⃣👧🤍 \n",
      "제 MBTI는 INTP에요.\n"
     ]
    }
   ],
   "source": [
    "# 실습2. 자기소개 하기\n",
    "Name = \"최하연\"\n",
    "Age = \"25\"\n",
    "MBTI = \"INTP\"\n",
    "\n",
    "print(f\"\"\"안녕하세요.😄👊 \n",
    "제 이름은 🍑🍓🍦🍫💍🎬💵{Name}🍏🍉🍰🍵🍨👑💎🎤이고,\n",
    "{Age}살입니다.2️⃣5️⃣👧🤍 \n",
    "제 MBTI는 {MBTI}에요.\"\"\" )"
   ]
  }
 ],
 "metadata": {
  "kernelspec": {
   "display_name": "python-study",
   "language": "python",
   "name": "python3"
  },
  "language_info": {
   "codemirror_mode": {
    "name": "ipython",
    "version": 3
   },
   "file_extension": ".py",
   "mimetype": "text/x-python",
   "name": "python",
   "nbconvert_exporter": "python",
   "pygments_lexer": "ipython3",
   "version": "3.13.5"
  }
 },
 "nbformat": 4,
 "nbformat_minor": 5
}
