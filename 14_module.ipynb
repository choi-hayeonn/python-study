{
 "cells": [
  {
   "cell_type": "markdown",
   "id": "f7c65bdc",
   "metadata": {},
   "source": [
    "## 14. 모듈(Module)\n",
    "- 여러 기능(함수)의 묶음\n",
    "- 하나의 py 파일로 여러 기능을 모아놓은 것 "
   ]
  },
  {
   "cell_type": "code",
   "execution_count": null,
   "id": "7004d18f",
   "metadata": {},
   "outputs": [
    {
     "name": "stdout",
     "output_type": "stream",
     "text": [
      "Hello, ian!\n"
     ]
    }
   ],
   "source": [
    "# 모듈 불러오기\n",
    "import hello\n",
    "hello.greeting(\"ian\")"
   ]
  },
  {
   "cell_type": "code",
   "execution_count": null,
   "id": "664296ef",
   "metadata": {},
   "outputs": [
    {
     "name": "stdout",
     "output_type": "stream",
     "text": [
      "Hello, ian!\n"
     ]
    }
   ],
   "source": [
    "# 모듈 불러오기(2)\n",
    "from hello import greeting\n",
    "greeting(\"ian\")"
   ]
  },
  {
   "cell_type": "code",
   "execution_count": null,
   "id": "14860eb3",
   "metadata": {},
   "outputs": [
    {
     "name": "stdout",
     "output_type": "stream",
     "text": [
      "Hello, ian!\n",
      "제 이름은 ian이고, 나이는 15입니다.\n"
     ]
    }
   ],
   "source": [
    "# 모듈 불러오기(3): 모든 함수/변수 불러오기\n",
    "from hello import *  # 권장되지는 않음. 겹쳐서 충돌할 수 있기 때문에.\n",
    "greeting(\"ian\")\n",
    "introduce(\"ian\", 15)"
   ]
  },
  {
   "cell_type": "code",
   "execution_count": 2,
   "id": "36731974",
   "metadata": {},
   "outputs": [
    {
     "name": "stdout",
     "output_type": "stream",
     "text": [
      "Hello, ian!\n",
      "제 이름은 ian이고, 나이는 15입니다.\n"
     ]
    }
   ],
   "source": [
    "# 모듈 불러오기(4) : 외부에서 모듈을 불러와 쓸 때 많이 씀. 충돌하지 않으니까\n",
    "import hello as h\n",
    "h.greeting(\"ian\")\n",
    "h.introduce(\"ian\", 15)"
   ]
  },
  {
   "cell_type": "code",
   "execution_count": 4,
   "id": "202c8525",
   "metadata": {},
   "outputs": [
    {
     "name": "stdout",
     "output_type": "stream",
     "text": [
      "9\n",
      "46\n",
      "30\n",
      "3\n",
      "1\n",
      "42\n",
      "0으로 나눌 수 없습니다.\n",
      "3.0\n"
     ]
    },
    {
     "data": {
      "text/plain": [
       "3.0"
      ]
     },
     "execution_count": 4,
     "metadata": {},
     "output_type": "execute_result"
    }
   ],
   "source": [
    "# 실습. 계산기 모듈 만들어보기\n",
    "import calc \n",
    "calc.add(5,4)\n",
    "\n",
    "from calc import subtract\n",
    "subtract(50,4)\n",
    "\n",
    "from calc import *  \n",
    "multiply(6,5)\n",
    "\n",
    "import calc as c\n",
    "c.add(1,2)\n",
    "c.subtract(4,3)\n",
    "c.multiply(6,7)\n",
    "c.divide(5,0)\n",
    "c.divide(9,3)"
   ]
  },
  {
   "cell_type": "code",
   "execution_count": 7,
   "id": "2e810342",
   "metadata": {},
   "outputs": [
    {
     "name": "stdout",
     "output_type": "stream",
     "text": [
      "30\n",
      "30\n"
     ]
    },
    {
     "data": {
      "text/plain": [
       "30"
      ]
     },
     "execution_count": 7,
     "metadata": {},
     "output_type": "execute_result"
    }
   ],
   "source": [
    "# 패키지(Package)\n",
    "# 모듈의 묶음\n",
    "# 모듈을 폴더 단위로 묶은 것\n",
    "\n",
    "# 패키지에서 모듈 불러오기(1)\n",
    "from my_package import calc\n",
    "\n",
    "calc.add(10,20)\n",
    "\n",
    "# 별칭은 상황에 따라 적절하게!\n",
    "from my_package import calc as c\n",
    "\n",
    "c.add(10,20)"
   ]
  },
  {
   "cell_type": "code",
   "execution_count": null,
   "id": "db080c74",
   "metadata": {},
   "outputs": [],
   "source": [
    "# 패키지에서 모듈 불러오기(2)\n",
    "from my_package.calc import add"
   ]
  },
  {
   "cell_type": "code",
   "execution_count": 16,
   "id": "0993a648",
   "metadata": {},
   "outputs": [
    {
     "data": {
      "text/plain": [
       "60"
      ]
     },
     "execution_count": 16,
     "metadata": {},
     "output_type": "execute_result"
    }
   ],
   "source": [
    "# 파이썬 표준 라이브러리\n",
    "# math : 수학적 연산에 사용되는 모듈\n",
    "import math\n",
    "\n",
    "# 1. 올림/내림\n",
    "# round : 반올림 - 파이썬 내장 함수\n",
    "round(3.141592, 2)\n",
    "# ceil : 올림 - 소수점 지정 안됨.\n",
    "math.ceil(3.141592)\n",
    "# floor : 내림, 소수점 지정 안됨.\n",
    "math.floor(3.141592) \n",
    "\n",
    "# 2. 제곱, 제곱근\n",
    "# pow(x, y) : 제곱 - x^y를 반환\n",
    "math.pow(2,3)\n",
    "# sqrt(x) : 제곱근 반환\n",
    "math.sqrt(25)\n",
    "\n",
    "# 3. 상수\n",
    "# pi : 원주율\n",
    "math.pi\n",
    "\n",
    "# 4. 수학 계산 편의 기능\n",
    "# factorial(x) : x! 팩토리얼 반환\n",
    "math.factorial(5)\n",
    "# gcd(x, y) : 최대공약수\n",
    "math.gcd(12, 20)\n",
    "# lcm(x, y) : 최소 공배수\n",
    "math.lcm(12, 20)"
   ]
  },
  {
   "cell_type": "code",
   "execution_count": null,
   "id": "befa6148",
   "metadata": {},
   "outputs": [
    {
     "name": "stdout",
     "output_type": "stream",
     "text": [
      "두 점 사이의 거리: 3\n"
     ]
    }
   ],
   "source": [
    "# 실습. math 모듈 사용해보기\n",
    "# 문제 1. 실제 거리 계산: 좌표 두 점 사이 거리 구하기\n",
    "import math\n",
    "x1, y1 = map(int, input(\"x1, y1을 입력해주세요.\").split(\",\")) \n",
    "x2, y2 = map(int, input(\"x2, y2을 입력해주세요.\").split(\",\")) \n",
    "\n",
    "dist = round(math.sqrt(math.pow(x2-x1, 2) + math.pow(y2-y1, 2)))\n",
    "print(f\"두 점 사이의 거리: {dist}\")"
   ]
  },
  {
   "cell_type": "code",
   "execution_count": null,
   "id": "aa8a2d63",
   "metadata": {},
   "outputs": [
    {
     "name": "stdout",
     "output_type": "stream",
     "text": [
      "최대의 간식 개수: 6 🍩🧁\n",
      "최소 간식 개수: 72 🍪🍰\n"
     ]
    }
   ],
   "source": [
    "# 문제 2. 상품 나누기: 최소 공배수와 최대 공약수\n",
    "import math\n",
    "print(f\"최대의 간식 개수: {math.gcd(18, 24)} 🍩🧁\")\n",
    "print(f\"최소 간식 개수: {math.lcm(18, 24)} 🍪🍰\")"
   ]
  },
  {
   "cell_type": "code",
   "execution_count": null,
   "id": "f38b0b9e",
   "metadata": {},
   "outputs": [
    {
     "data": {
      "text/plain": [
       "[4, 1, 5, 3, 2]"
      ]
     },
     "execution_count": 50,
     "metadata": {},
     "output_type": "execute_result"
    }
   ],
   "source": [
    "# random 모듈: 랜덤 값(난수) 생성시 사용\n",
    "import random\n",
    "# 1. 난수 생성\n",
    "# seed(a) : 난수 발생 초기값(seed) 설정 - 최초 생성한 난수를 고정해야 할 때 사용\n",
    "# random.seed(42)\n",
    "\n",
    "# random() : 0이상 1 미만의 float 난수 반환  \n",
    "random.random()\n",
    "\n",
    "# uniform(a, b) : a 이상 b 이하의 실수 난수 반환\n",
    "random.uniform(1,10)\n",
    "\n",
    "# ranint(a, b) : a 이상 b 이하의 정수 난수 반환\n",
    "random.randint(1, 100)\n",
    "\n",
    "# randrange(start, stop, step) :범위 안의 정수 난수 반환, 간격지정 가능\n",
    "random.randrange(0, 100, 5)\n",
    "\n",
    "\n",
    "# 2. 랜덤 선택\n",
    "fruits = [\"apple\", \"banana\", \"watermelon\", \"grape\", \"orange\"]\n",
    "\n",
    "# choice(seq) : 시퀀스에서 임의의 요소 1개 반환\n",
    "random.choice(fruits)\n",
    "\n",
    "# choices(seq, k) : 시퀀스에서 \"중복 허용\" k개의 요소 리스트를 반환\n",
    "random.choices(fruits, k=2)\n",
    "\n",
    "# sample(seq, k) : 시퀀스에서 \"중복 없이\" k개의 요소 리스트를 반환\n",
    "random.sample(fruits, k=2)\n",
    "\n",
    "# shuffle(seq) : 시퀀스의 요소를 무작위로 섞음 → 원본 시퀀스를 변경\n",
    "numbers = [1,2,3,4,5]\n",
    "random.shuffle(numbers)\n",
    "numbers"
   ]
  },
  {
   "cell_type": "code",
   "execution_count": null,
   "id": "9260c00e",
   "metadata": {},
   "outputs": [
    {
     "data": {
      "text/plain": [
       "[2, 13, 18, 22, 26, 43]"
      ]
     },
     "execution_count": 66,
     "metadata": {},
     "output_type": "execute_result"
    }
   ],
   "source": [
    "# 실습. 로또 번호 뽑기(간단한 방법)\n",
    "\n",
    "# 1 ~ 45 사이의 정수 중에서 랜덤으로 6개의 숫자를 뽑는다\n",
    "# 6개의 숫자는 중복이 있어서는 x\n",
    "# 오름차순으로 결과를 정렬한다!\n",
    "\n",
    "result = sorted(random.sample(range(1, 46), k=6))"
   ]
  },
  {
   "cell_type": "code",
   "execution_count": null,
   "id": "fa95fbb0",
   "metadata": {},
   "outputs": [
    {
     "name": "stdout",
     "output_type": "stream",
     "text": [
      "5\n",
      "18\n",
      "23\n",
      "42\n",
      "33\n",
      "26\n",
      "[5, 18, 23, 26, 33, 42]\n"
     ]
    }
   ],
   "source": [
    "# 실습. 로또 번호 뽑기(원초적 방법)\n",
    "import time\n",
    "lotto = []\n",
    "while len(lotto) < 6:\n",
    "    number = random.randint(1, 45)\n",
    "    if number in lotto:\n",
    "        continue\n",
    "    print(number)\n",
    "    lotto.append(number)\n",
    "    time.sleep(1)\n",
    "\n",
    "lotto.sort()\n",
    "print(lotto)\n"
   ]
  },
  {
   "cell_type": "code",
   "execution_count": 112,
   "id": "9dc47d95",
   "metadata": {},
   "outputs": [
    {
     "name": "stdout",
     "output_type": "stream",
     "text": [
      "💻컴퓨터: ✊ vs 🤴user: 가위\n",
      "패🤣\n"
     ]
    }
   ],
   "source": [
    "# 실습. 가위 바위 보 게임 (나의 풀이, 무식한 방법!)\n",
    "import random\n",
    "\n",
    "game = [\"✌\", \"✊\", \"🖐\"]\n",
    "com = random.choice(game)\n",
    "\n",
    "user = input(\"가위, 바위, 보 중 하나를 입력하세요!\")\n",
    "\n",
    "print(f\"💻컴퓨터: {com} vs 🤴user: {user}\")\n",
    "\n",
    "if com == \"✌\":\n",
    "    if user == \"가위\":\n",
    "        print(\"무🤜🤛\")\n",
    "    elif user == \"바위\":\n",
    "        print(\"승🎊\")\n",
    "    else:\n",
    "        print(\"패🤣\")\n",
    "elif com == \"✊\":\n",
    "    if user == \"가위\":\n",
    "        print(\"패🤣\")\n",
    "    elif user == \"바위\":\n",
    "        print(\"무🤜🤛\")\n",
    "    else:\n",
    "        print(\"승🎊\")\n",
    "else:\n",
    "    if user == \"가위\":\n",
    "        print(\"승🎊\")\n",
    "    elif user == \"바위\":\n",
    "        print(\"패🤣\")\n",
    "    else:\n",
    "        print(\"무🤜🤛\")"
   ]
  },
  {
   "cell_type": "code",
   "execution_count": 114,
   "id": "38e7a611",
   "metadata": {},
   "outputs": [
    {
     "name": "stdout",
     "output_type": "stream",
     "text": [
      "💻컴퓨터: 바위 vs 🤴user: 가위\n",
      "승🎊\n",
      "💻컴퓨터: 보 vs 🤴user: 보\n",
      "무🤜🤛\n",
      "💻컴퓨터: 보 vs 🤴user: 바위\n",
      "패🤣\n",
      "💻컴퓨터: 보 vs 🤴user: 바위\n",
      "패🤣\n",
      "💻컴퓨터: 바위 vs 🤴user: 가위\n",
      "승🎊\n",
      "💻컴퓨터: 바위 vs 🤴user: 바위\n",
      "무🤜🤛\n",
      "💻컴퓨터: 바위 vs 🤴user: 보\n",
      "패🤣\n",
      "💻컴퓨터: 바위 vs 🤴user: 보\n",
      "패🤣\n",
      "💻컴퓨터: 보 vs 🤴user: 보\n",
      "무🤜🤛\n",
      "💻컴퓨터: 가위 vs 🤴user: 보\n",
      "패🤣\n",
      "💻컴퓨터: 보 vs 🤴user: 가우\n",
      "🚨 잘못된 입력이에요!\n",
      "💻컴퓨터: 바위 vs 🤴user: 바위\n",
      "무🤜🤛\n",
      "💻컴퓨터: 보 vs 🤴user: 바위\n",
      "패🤣\n",
      "💻컴퓨터: 가위 vs 🤴user: 보\n",
      "패🤣\n",
      "💻컴퓨터: 보 vs 🤴user: 보\n",
      "무🤜🤛\n",
      "💻컴퓨터: 가위 vs 🤴user: 가위\n",
      "무🤜🤛\n",
      "💻컴퓨터: 바위 vs 🤴user: 가위\n",
      "승🎊\n",
      "현재 승리 횟수: 3\n"
     ]
    }
   ],
   "source": [
    "# 실습. 가위 바위 보 게임 만들기\n",
    "import random\n",
    "RPS = [\"가위\", \"바위\", \"보\"]\n",
    "\n",
    "win_count = 0\n",
    "while win_count < 3:\n",
    "    com_choice = random.choice(RPS)\n",
    "    user_choice = input(\"가위, 바위, 보 중 하나를 입력하세요!\")\n",
    "\n",
    "    print(f\"💻컴퓨터: {com_choice} vs 🤴user: {user_choice}\")\n",
    "    if user_choice == com_choice:\n",
    "        print(\"무🤜🤛\")\n",
    "    elif (\n",
    "        (user_choice == \"가위\" and com_choice == \"바위\") or\n",
    "        (user_choice == \"바위\" and com_choice == \"가위\") or\n",
    "        (user_choice == \"보\" and com_choice == \"보\")\n",
    "    ):\n",
    "        print(\"승🎊\")\n",
    "        win_count += 1\n",
    "    elif user_choice in RPS:\n",
    "        print(\"패🤣\")\n",
    "    else:\n",
    "        print(\"🚨 잘못된 입력이에요!\")\n",
    "\n",
    "print(f\"현재 승리 횟수: {win_count}\")"
   ]
  },
  {
   "cell_type": "code",
   "execution_count": 115,
   "id": "b282b73e",
   "metadata": {},
   "outputs": [
    {
     "name": "stdout",
     "output_type": "stream",
     "text": [
      "개강 이후 21일이 지났습니다.\n"
     ]
    },
    {
     "data": {
      "text/plain": [
       "28"
      ]
     },
     "execution_count": 115,
     "metadata": {},
     "output_type": "execute_result"
    }
   ],
   "source": [
    "# datetime 모듈 \n",
    "# 날짜와 시간의 생성, 조작, 현실 변환과 같은 시간 관련 기능을 제공\n",
    "import datetime\n",
    "\n",
    "# 1. 날짜/시간 구하기\n",
    "# 현재 날짜와 시간 구하기\n",
    "now = datetime.datetime.now()\n",
    "# 오늘 날짜만 구하기\n",
    "today = datetime.date.today()\n",
    "\n",
    "# 2. 날짜/시간 형식 변환\n",
    "formatted = now.strftime(\"%Y/%m/%d %H:%M:%S\")\n",
    "formatted\n",
    "parsed = datetime.datetime.strptime(formatted,\"%Y/%m/%d %H:%M:%S\")\n",
    "parsed\n",
    "\n",
    "# 3. 날짜/시간 연산\n",
    "dt = datetime.date(2025, 7, 7)\n",
    "passed_time = today - dt\n",
    "print(f\"개강 이후 {passed_time.days}일이 지났습니다.\")\n",
    "\n",
    "# 4. 요일반환 : weekday\n",
    "# 0: 월요일 ~ 7: 일요일\n",
    "days = [\"월\",\"화\",\"수\",\"목\",\"금\",\"토\",\"일\"]\n",
    "day_num = today.weekday()\n",
    "days[day_num]\n",
    "추석 = datetime.date(2025, 10, 6).weekday()\n",
    "days[추석]\n",
    "# datetime 또는 date 객체에는 년/월/일 시간 등이 속성으로 들어있음\n",
    "datetime.datetime.now().year\n",
    "datetime.date.today().day"
   ]
  },
  {
   "cell_type": "code",
   "execution_count": 6,
   "id": "14a10dda",
   "metadata": {},
   "outputs": [
    {
     "name": "stdout",
     "output_type": "stream",
     "text": [
      "   September 2025\n",
      "Mo Tu We Th Fr Sa Su\n",
      " 1  2  3  4  5  6  7\n",
      " 8  9 10 11 12 13 14\n",
      "15 16 17 18 19 20 21\n",
      "22 23 24 25 26 27 28\n",
      "29 30\n",
      "                                  2025\n",
      "\n",
      "      January                   February                   March\n",
      "Mo Tu We Th Fr Sa Su      Mo Tu We Th Fr Sa Su      Mo Tu We Th Fr Sa Su\n",
      "       1  2  3  4  5                      1  2                      1  2\n",
      " 6  7  8  9 10 11 12       3  4  5  6  7  8  9       3  4  5  6  7  8  9\n",
      "13 14 15 16 17 18 19      10 11 12 13 14 15 16      10 11 12 13 14 15 16\n",
      "20 21 22 23 24 25 26      17 18 19 20 21 22 23      17 18 19 20 21 22 23\n",
      "27 28 29 30 31            24 25 26 27 28            24 25 26 27 28 29 30\n",
      "                                                    31\n",
      "\n",
      "       April                      May                       June\n",
      "Mo Tu We Th Fr Sa Su      Mo Tu We Th Fr Sa Su      Mo Tu We Th Fr Sa Su\n",
      "    1  2  3  4  5  6                1  2  3  4                         1\n",
      " 7  8  9 10 11 12 13       5  6  7  8  9 10 11       2  3  4  5  6  7  8\n",
      "14 15 16 17 18 19 20      12 13 14 15 16 17 18       9 10 11 12 13 14 15\n",
      "21 22 23 24 25 26 27      19 20 21 22 23 24 25      16 17 18 19 20 21 22\n",
      "28 29 30                  26 27 28 29 30 31         23 24 25 26 27 28 29\n",
      "                                                    30\n",
      "\n",
      "        July                     August                  September\n",
      "Mo Tu We Th Fr Sa Su      Mo Tu We Th Fr Sa Su      Mo Tu We Th Fr Sa Su\n",
      "    1  2  3  4  5  6                   1  2  3       1  2  3  4  5  6  7\n",
      " 7  8  9 10 11 12 13       4  5  6  7  8  9 10       8  9 10 11 12 13 14\n",
      "14 15 16 17 18 19 20      11 12 13 14 15 16 17      15 16 17 18 19 20 21\n",
      "21 22 23 24 25 26 27      18 19 20 21 22 23 24      22 23 24 25 26 27 28\n",
      "28 29 30 31               25 26 27 28 29 30 31      29 30\n",
      "\n",
      "      October                   November                  December\n",
      "Mo Tu We Th Fr Sa Su      Mo Tu We Th Fr Sa Su      Mo Tu We Th Fr Sa Su\n",
      "       1  2  3  4  5                      1  2       1  2  3  4  5  6  7\n",
      " 6  7  8  9 10 11 12       3  4  5  6  7  8  9       8  9 10 11 12 13 14\n",
      "13 14 15 16 17 18 19      10 11 12 13 14 15 16      15 16 17 18 19 20 21\n",
      "20 21 22 23 24 25 26      17 18 19 20 21 22 23      22 23 24 25 26 27 28\n",
      "27 28 29 30 31            24 25 26 27 28 29 30      29 30 31\n"
     ]
    },
    {
     "data": {
      "text/plain": [
       "calendar.MONDAY"
      ]
     },
     "execution_count": 6,
     "metadata": {},
     "output_type": "execute_result"
    }
   ],
   "source": [
    "# calendar 모듈\n",
    "# 날짜와 달력 관련 기능을 제공\n",
    "import calendar\n",
    "\n",
    "# 1. 달력 조회\n",
    "calendar.prmonth(2025, 9)\n",
    "calendar.prcal(2025)\n",
    "# 텍스트로 값을 변환\n",
    "calendar.month(2025, 9)\n",
    "calendar.calendar(2025)\n",
    "\n",
    "# 요일 반환 \n",
    "calendar.weekday(2025, 7, 7)"
   ]
  },
  {
   "cell_type": "code",
   "execution_count": null,
   "id": "3bd2e185",
   "metadata": {},
   "outputs": [
    {
     "name": "stdout",
     "output_type": "stream",
     "text": [
      "생일까지 84일이 남았습니다.\n",
      "오늘 날짜: 2025-07-28\n",
      "다음 생일: 2025-10-20\n"
     ]
    }
   ],
   "source": [
    "# 실습. 다음 생일까지 남은 날짜 계산하기(나의 풀이)\n",
    "\n",
    "import datetime\n",
    "\n",
    "# 1. 생일 입력 받기\n",
    "birthday_input = input(\"생일을 입력하세요 (월-일, 예: 07-25): \")\n",
    "# 2. 오늘 날짜 가져오기\n",
    "today = datetime.date.today()\n",
    "# 3. 입력받은 생일을 월, 일로 분리\n",
    "month, day = map(int, birthday_input.split('-'))\n",
    "# 4. 올해 생일 날짜 생성\n",
    "birthday_this_year = datetime.date(today.year, month, day)\n",
    "# 5. 생일까지 남은 날짜 계산\n",
    "if birthday_this_year >= today:\n",
    "    # 올해 생일이 아직 안 지났거나 오늘이 생일인 경우\n",
    "    bd = birthday_this_year\n",
    "else:\n",
    "    # 올해 생일이 지났으면 내년 생일로 설정\n",
    "    bd = datetime.date(today.year + 1, month, day)\n",
    "# 6. 남은 일수 계산\n",
    "wait_time = bd - today\n",
    "print(f\"생일까지 {wait_time.days}일이 남았습니다.\")\n",
    "print(f\"오늘 날짜: {today}\")\n",
    "print(f\"다음 생일: {bd}\")"
   ]
  },
  {
   "cell_type": "code",
   "execution_count": null,
   "id": "d1aee56a",
   "metadata": {},
   "outputs": [
    {
     "name": "stdout",
     "output_type": "stream",
     "text": [
      "10 20\n",
      "83\n"
     ]
    }
   ],
   "source": [
    "# 실습. 다음 생일까지 남은 날짜 계산하기(다른 방법)\n",
    "\n",
    "import datetime\n",
    "\n",
    "# 사용자로부터 생일을 입력받음\n",
    "birth_month, birth_day = map(int, input(\"생일을 입력하세요 (월/일, 예: 07/29): \").split(\"/\"))\n",
    "print(birth_month, birth_day)\n",
    "# 오늘 날짜 구하기\n",
    "today = datetime.date.today() \n",
    "# 올해 생일을 datetime 객체로 변환\n",
    "birthday_this_year = datetime.date(today.year, birth_month, birth_day)\n",
    "# 오늘 날짜와 올해 생일을 비교\n",
    "# 올해 생일이 지났으면 내년으로 설정\n",
    "if today > birthday_this_year:\n",
    "    birthday_next = datetime.date(today.year + 1, birth_month, birth_day)\n",
    "# 아니면 올해로 설정\n",
    "else:\n",
    "    birthday_next = birthday_this_year\n",
    "# 남은 일수를 계산\n",
    "days_left = (birthday_next - today).days\n",
    "print(days_left)"
   ]
  },
  {
   "cell_type": "code",
   "execution_count": null,
   "id": "f1c39308",
   "metadata": {},
   "outputs": [
    {
     "name": "stdout",
     "output_type": "stream",
     "text": [
      "2025-07-29 10:32:25\n",
      "time.struct_time(tm_year=2025, tm_mon=7, tm_mday=29, tm_hour=10, tm_min=32, tm_sec=25, tm_wday=1, tm_yday=210, tm_isdst=-1)\n"
     ]
    }
   ],
   "source": [
    "# time 모듈\n",
    "# 시간의 측정, 지연, 변환과 같은 시간 관련 기능 제공\n",
    "import time\n",
    "# 1. 시간 반환\n",
    "# Unix 타임스탬프로 반환(1970.1.1부터 경과 초)\n",
    "time.time()\n",
    "# ctime() : 현재 시간을 문자열로 반환\n",
    "time.ctime()\n",
    "time.ctime(0)   # 기준시로 반환\n",
    "\n",
    "# strftime() : 원하는 포맷의 문자열로 시간 객체 반환\n",
    "lt = time.localtime()\n",
    "formatted = time. strftime(\"%Y-%m-%d %H:%M:%S\", lt)\n",
    "print(formatted)\n",
    "# strptime() : 문자열을 struct_time 객체로 변환\n",
    "pased = time.strptime(formatted, \"%Y-%m-%d %H:%M:%S\")\n",
    "print(pased)\n",
    "\n",
    "# 2. 시간 지연\n",
    "# sleep(seconds) :지정한 초만큼 프로그램이 일시 중지\n",
    "time.sleep(1)"
   ]
  },
  {
   "cell_type": "code",
   "execution_count": 22,
   "id": "2d264cc5",
   "metadata": {},
   "outputs": [
    {
     "name": "stdout",
     "output_type": "stream",
     "text": [
      "0\n",
      "1\n",
      "2\n",
      "3\n",
      "4\n",
      "수행시간 :  5.01초\n"
     ]
    }
   ],
   "source": [
    "# 시간 측정하기\n",
    "start = time.time()\n",
    "for i in range(5):\n",
    "    print(i)\n",
    "    time.sleep(1)\n",
    "end = time.time()\n",
    "print(f\"수행시간 : {end - start: .2f}초\")"
   ]
  },
  {
   "cell_type": "code",
   "execution_count": null,
   "id": "a9600508",
   "metadata": {},
   "outputs": [
    {
     "name": "stdout",
     "output_type": "stream",
     "text": [
      "=== ⌨타자 게임 ===\n",
      "10개의 단어를 정확히 입력하세요!\n",
      "\n",
      "1. kiwi 를 정확하게 입력하세요.\n",
      "정답입니다!👍\n",
      "\n",
      "2. Carambola 를 정확하게 입력하세요.\n",
      "오타! 다시 도전!😅\n",
      "\n",
      "2. apple 를 정확하게 입력하세요.\n",
      "정답입니다!👍\n",
      "\n",
      "3. melon 를 정확하게 입력하세요.\n",
      "정답입니다!👍\n",
      "\n",
      "4. banana 를 정확하게 입력하세요.\n",
      "정답입니다!👍\n",
      "\n",
      "5. Carambola 를 정확하게 입력하세요.\n",
      "오타! 다시 도전!😅\n",
      "\n",
      "5. fig 를 정확하게 입력하세요.\n",
      "정답입니다!👍\n",
      "\n",
      "6. blackberry 를 정확하게 입력하세요.\n",
      "정답입니다!👍\n",
      "\n",
      "7. kiwi 를 정확하게 입력하세요.\n",
      "정답입니다!👍\n",
      "\n",
      "8. peach 를 정확하게 입력하세요.\n",
      "정답입니다!👍\n",
      "\n",
      "9. kiwi 를 정확하게 입력하세요.\n",
      "정답입니다!👍\n",
      "\n",
      "10. grapefruit 를 정확하게 입력하세요.\n",
      "오타! 다시 도전!😅\n",
      "\n",
      "10. strawberry 를 정확하게 입력하세요.\n",
      "정답입니다!👍\n",
      "\n",
      "🎉 게임 완료! 🎉\n",
      "총 타자 시간:  42.24초\n"
     ]
    }
   ],
   "source": [
    "import random\n",
    "import time\n",
    "fruits = [\"apple\", \"banana\", \"watermelon\", \"grape\", \"orange\", \"peach\", \"cherry\", \"pear\", \"mango\", \"strawberry\", \"blueberry\", \"grapefruit\", \"plum\", \"melon\", \n",
    "          \"blackberry\", \"avocado\", \"coconut\", \"Carambola\", \"kiwi\", \"pomegranate\", \"guava\", \"lychee\", \"mandarin\", \"fig\", \"apricot\"]\n",
    "    \n",
    "print(\"=== ⌨타자 게임 ===\")\n",
    "print(\"10개의 단어를 정확히 입력하세요!\")\n",
    "input(\"준비되면 엔터키를 눌러서 시작하세요!\")   \n",
    "# 게임 시작 시간\n",
    "start_time = time.time()   \n",
    "# 문제 시작\n",
    "i = 1\n",
    "while i <= 10:\n",
    "    # 매번 새로운 단어 선택\n",
    "    random_word = random.choice(fruits)        \n",
    "    print(f\"\\n{i}. {random_word} 를 정확하게 입력하세요.\")\n",
    "    user_answer = input(\"단어를 정확히 입력하세요: \")\n",
    "        \n",
    "    if random_word == user_answer:\n",
    "        print(\"정답입니다!👍\")\n",
    "        i += 1  \n",
    "    else:\n",
    "        print(\"오타! 다시 도전!😅\")   \n",
    "# 게임 종료 시간 \n",
    "end_time = time.time()\n",
    "total_time = end_time - start_time   \n",
    "print(f\"\\n🎉 게임 완료! 🎉\")\n",
    "print(f\"총 타자 시간: {end_time - start_time: .2f}초\")"
   ]
  },
  {
   "cell_type": "code",
   "execution_count": null,
   "id": "ff2eedf2",
   "metadata": {},
   "outputs": [
    {
     "name": "stdout",
     "output_type": "stream",
     "text": [
      "1번 문제\n",
      "apricot\n",
      "오타! 다시도전\n",
      "1번 문제\n",
      "blueberry\n",
      "통과!\n",
      "2번 문제\n",
      "plum\n",
      "통과!\n",
      "3번 문제\n",
      "pear\n",
      "통과!\n",
      "4번 문제\n",
      "guava\n",
      "오타! 다시도전\n",
      "4번 문제\n",
      "coconut\n",
      "오타! 다시도전\n",
      "4번 문제\n",
      "pomegranate\n",
      "오타! 다시도전\n",
      "4번 문제\n",
      "avocado\n",
      "통과!\n",
      "5번 문제\n",
      "guava\n",
      "통과!\n",
      "6번 문제\n",
      "pear\n",
      "오타! 다시도전\n",
      "6번 문제\n",
      "coconut\n",
      "오타! 다시도전\n",
      "6번 문제\n",
      "pomegranate\n",
      "통과!\n",
      "7번 문제\n",
      "pomegranate\n",
      "오타! 다시도전\n",
      "7번 문제\n",
      "melon\n",
      "오타! 다시도전\n",
      "7번 문제\n",
      "grape\n",
      "통과!\n",
      "8번 문제\n",
      "banana\n",
      "통과!\n",
      "9번 문제\n",
      "banana\n",
      "통과!\n",
      "10번 문제\n",
      "strawberry\n",
      "오타! 다시도전\n",
      "10번 문제\n",
      "banana\n",
      "통과!\n",
      "총 소요시간:  85.04초\n"
     ]
    }
   ],
   "source": [
    "import random \n",
    "import time\n",
    "words = [\"apple\", \"banana\", \"watermelon\", \"grape\", \"orange\", \"peach\", \"cherry\", \"pear\", \"mango\", \"strawberry\", \"blueberry\", \"grapefruit\", \"plum\", \"melon\", \n",
    "          \"blackberry\", \"avocado\", \"coconut\", \"Carambola\", \"kiwi\", \"pomegranate\", \"guava\", \"lychee\", \"mandarin\", \"fig\", \"apricot\"]\n",
    "n = 1\n",
    "input(\"[타자 게임] 준비되면 엔터!\")\n",
    "start = time.time()\n",
    "\n",
    "while n < 11:\n",
    "    print(f\"{n}번 문제\")\n",
    "    question = random.choice(words)\n",
    "    print(question)\n",
    "    user_answer = input()\n",
    "    if user_answer == \"종료\":\n",
    "        break\n",
    "    if question == user_answer:\n",
    "        print(\"통과!\")\n",
    "        n += 1\n",
    "    else:\n",
    "        print(\"오타! 다시도전\")\n",
    "end = time.time()\n",
    "et = end - start\n",
    "print(f\"총 소요시간: {et: .2f}초\")"
   ]
  }
 ],
 "metadata": {
  "kernelspec": {
   "display_name": "python-study",
   "language": "python",
   "name": "python3"
  },
  "language_info": {
   "codemirror_mode": {
    "name": "ipython",
    "version": 3
   },
   "file_extension": ".py",
   "mimetype": "text/x-python",
   "name": "python",
   "nbconvert_exporter": "python",
   "pygments_lexer": "ipython3",
   "version": "3.13.5"
  }
 },
 "nbformat": 4,
 "nbformat_minor": 5
}
