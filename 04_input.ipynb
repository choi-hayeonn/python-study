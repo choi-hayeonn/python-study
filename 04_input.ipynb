{
 "cells": [
  {
   "cell_type": "markdown",
   "id": "ecb4416f",
   "metadata": {},
   "source": [
    "#### 04. 사용자 입력(input)\n",
    " - input 함수 : 콘솔을 통해 사용자로부터 **문자열 형태** 의 입력을 받는 함수\n",
    "    - input을 통해 받은 입력은 항상 💡문자열로 입력됨\n"
   ]
  },
  {
   "cell_type": "code",
   "execution_count": null,
   "id": "df229e54",
   "metadata": {},
   "outputs": [
    {
     "name": "stdout",
     "output_type": "stream",
     "text": [
      "3\n"
     ]
    }
   ],
   "source": [
    "# input함수 사용법\n",
    "#my_input = input()\n",
    "\n",
    "# input을 통해 받은 입력 → 문자열\n",
    "# 숫자로 활용할 시 '형변환'을 해줘야 함!!\n",
    "a = int(input())\n",
    "b = int(input())\n",
    "\n",
    "print(a + b)"
   ]
  },
  {
   "cell_type": "code",
   "execution_count": null,
   "id": "210d3463",
   "metadata": {},
   "outputs": [
    {
     "name": "stdout",
     "output_type": "stream",
     "text": [
      "4.9\n"
     ]
    }
   ],
   "source": [
    "# 실수 계산을 하려면 실수형으로 변환\n",
    "c = float(input())\n",
    "d = float(input())\n",
    "\n",
    "print(c + d)"
   ]
  },
  {
   "cell_type": "code",
   "execution_count": null,
   "id": "3520235e",
   "metadata": {},
   "outputs": [
    {
     "name": "stdout",
     "output_type": "stream",
     "text": [
      "제 이름은 최하연💫입니다.\n"
     ]
    }
   ],
   "source": [
    "# input의 입력에 대한 설명문 추가\n",
    "name = input(\"이름을 입력하세요: \")\n",
    "print(f\"제 이름은 {name}입니다.\")"
   ]
  },
  {
   "cell_type": "code",
   "execution_count": null,
   "id": "381c1677",
   "metadata": {},
   "outputs": [
    {
     "name": "stdout",
     "output_type": "stream",
     "text": [
      "['수박', '사과', '참외']\n",
      "수박\n",
      "사과\n",
      "참외\n",
      "['코딩은 즐거워 하하하']\n",
      "복숭아\n",
      "딸기\n",
      "메론\n"
     ]
    }
   ],
   "source": [
    "# 여러 자료 입력하기\n",
    "# 문자열을 쪼개주는 함수 : split\n",
    "# split은 구분자를 기준으로 문자열을 쪼개서 리스트를 반환함\n",
    "# 구분자의 기본값은 **공백**\n",
    "과일 = \"수박 사과 참외\". split()\n",
    "print(과일)\n",
    "\n",
    "과일1, 과일2, 과일3 = \"수박 사과 참외\". split() \n",
    "print(과일1)\n",
    "print(과일2)\n",
    "print(과일3)\n",
    "\n",
    "쪼갠결과 = \"코딩은 즐거워 하하하\". split(\"-\")\n",
    "print(쪼갠결과)\n",
    "\n",
    "과일1, 과일2, 과일3 = input(). split() \n",
    "print(과일1)\n",
    "print(과일2)\n",
    "print(과일3)"
   ]
  },
  {
   "cell_type": "code",
   "execution_count": 3,
   "id": "e0084e65",
   "metadata": {},
   "outputs": [
    {
     "name": "stdout",
     "output_type": "stream",
     "text": [
      "사과 참외 수박\n"
     ]
    }
   ],
   "source": [
    "# 여러 자료 입력하기 (Review)\n",
    "# 과일1 , 과일2, 과일3 = \"사과\", \"참외\", \"수박\"\n",
    "과일1 , 과일2, 과일3 = input(\"과일 세개를 입력하시고 각 원소를 '-'로 구분해주세요: \").split(\"-\") \n",
    "# 문자열나누기 = \"사과 참외 수박\" .split()\n",
    "# print(문자열나누기)\n",
    "print(과일1 , 과일2, 과일3)"
   ]
  },
  {
   "cell_type": "code",
   "execution_count": null,
   "id": "9d028774",
   "metadata": {},
   "outputs": [
    {
     "name": "stdout",
     "output_type": "stream",
     "text": [
      "안녕하세요. 저는 최하연이고, 25살입니다.\n"
     ]
    }
   ],
   "source": [
    "# 실습 3\n",
    "name = input(\"이름을 입력하세요: \")\n",
    "age = input(\"나이를 입력하세요: \")\n",
    "\n",
    "print(f\"안녕하세요. 저는 {name}이고, {age}살입니다.\")"
   ]
  },
  {
   "cell_type": "code",
   "execution_count": null,
   "id": "f83a6813",
   "metadata": {},
   "outputs": [
    {
     "name": "stdout",
     "output_type": "stream",
     "text": [
      "넓이: 200\n",
      "둘레: 60\n"
     ]
    }
   ],
   "source": [
    "# 실습 4-1\n",
    "width = int(input(\"가로: \"))\n",
    "height = int(input(\"세로: \"))\n",
    "\n",
    "print(f\"\"\"넓이: {width * height}\n",
    "둘레: {2*(width + height)}\"\"\")"
   ]
  },
  {
   "cell_type": "code",
   "execution_count": null,
   "id": "bcbf2c06",
   "metadata": {},
   "outputs": [
    {
     "name": "stdout",
     "output_type": "stream",
     "text": [
      "천의 자리: 2\n",
      "백의 자리: 1\n",
      "십의 자리: 4\n",
      "일의 자리: 5\n"
     ]
    }
   ],
   "source": [
    "# 실습 4-2 (1)\n",
    "정수 = int(input(\"네 자릿수 정수를 입력하시오: \"))\n",
    "\n",
    "print(f\"\"\"천의 자리: {정수 // 1000}\n",
    "백의 자리: {정수 // 100 - (정수 // 1000 * 10)}\n",
    "십의 자리: {정수 // 10 - (정수 // 100 * 10)}\n",
    "일의 자리: {정수 - (정수 // 10 * 10)}\"\"\")"
   ]
  },
  {
   "cell_type": "code",
   "execution_count": null,
   "id": "be1359ca",
   "metadata": {},
   "outputs": [
    {
     "name": "stdout",
     "output_type": "stream",
     "text": [
      "천의 자리: 2\n",
      "백의 자리: 1\n",
      "십의 자리: 4\n",
      "일의 자리: 5\n"
     ]
    }
   ],
   "source": [
    "# 실습 4-2 (2)\n",
    "number = int(input(\"네 자릿수 정수를 입력하시오: \"))\n",
    "\n",
    "print(f\"\"\"천의 자리: {number // 1000}\n",
    "백의 자리: {(number % 1000) // 100}\n",
    "십의 자리: {(number % 100) // 10}\n",
    "일의 자리: {number % 10}\"\"\")"
   ]
  },
  {
   "cell_type": "code",
   "execution_count": null,
   "id": "25392324",
   "metadata": {},
   "outputs": [
    {
     "name": "stdout",
     "output_type": "stream",
     "text": [
      "📢발표자 순서 안내입니다.\n",
      "\n",
      "🌱1조 발표자: 민수 - 주제: 재생에너지현황\n",
      "🌿2조 발표자: 철수 - 주제: 재생에너지전망\n",
      "🌳3조 발표자: 영희 - 주제: 재생에너지직군\n"
     ]
    }
   ],
   "source": [
    "# 실습 5\n",
    "\n",
    "발표자1, 발표자2, 발표자3 = input(\"발표자 이름 3명을 입력하세요.: \").split() \n",
    "발표주제1, 발표주제2, 발표주제3 = input(\"발표 주제 3개를 입력하세요.: \").split() \n",
    "\n",
    "print(f\"\"\"📢발표자 순서 안내입니다.\n",
    "      \n",
    "🌱1조 발표자: {발표자1} - 주제: {발표주제1}\n",
    "🌿2조 발표자: {발표자2} - 주제: {발표주제2}\n",
    "🌳3조 발표자: {발표자3} - 주제: {발표주제3}\"\"\")"
   ]
  },
  {
   "cell_type": "code",
   "execution_count": null,
   "id": "49a743a2",
   "metadata": {},
   "outputs": [
    {
     "name": "stdout",
     "output_type": "stream",
     "text": [
      "🍀RE3의 개강일은 2025년 07월 07일📅\n",
      "시작 시간은 09시 05분 30초 입니다.⏰\n"
     ]
    }
   ],
   "source": [
    "# 실습 6\n",
    "\n",
    "year, month, day = input(\"년, 월, 일을 입력해주세요.( . 으로 구분): \").split(\".\")\n",
    "hour, minute, second = input(\"시, 분, 초를 입력해주세요.( : 으로 구분): \").split(\":\")\n",
    "\n",
    "print(f\"\"\"🍀RE3의 개강일은 {year}년 {month}월 {day}일📅\n",
    "시작 시간은 {hour}시 {minute}분 {second}초 입니다.⏰\"\"\")"
   ]
  }
 ],
 "metadata": {
  "kernelspec": {
   "display_name": "python-study",
   "language": "python",
   "name": "python3"
  },
  "language_info": {
   "codemirror_mode": {
    "name": "ipython",
    "version": 3
   },
   "file_extension": ".py",
   "mimetype": "text/x-python",
   "name": "python",
   "nbconvert_exporter": "python",
   "pygments_lexer": "ipython3",
   "version": "3.13.5"
  }
 },
 "nbformat": 4,
 "nbformat_minor": 5
}
