{
 "cells": [
  {
   "cell_type": "markdown",
   "id": "4693f524",
   "metadata": {},
   "source": [
    "### 함수(function)\n",
    " - 특정 작업을 수행하는 코드들의 모음\n",
    " - 복잡한 코드를 작은 단위로 나눌 수 있게 도와줌\n",
    " - 특정한 코드들을 재사용 할 수 있게 함"
   ]
  },
  {
   "cell_type": "code",
   "execution_count": null,
   "id": "5a80652e",
   "metadata": {},
   "outputs": [],
   "source": [
    "# 사용자 정의 함수 기본 문법\n",
    "# 함수의 정의 : define의 약자로 def 사용\n",
    "def 함수이름(매개변수):\n",
    "    # 실행 할 코드\n",
    "    print(매개변수)\n",
    "    return \"반환값\"   \n",
    "\n",
    "# 함수의 실행(호출 call)\n",
    "함수이름(\"인자\")\n",
    "\n",
    "# 매개변수(Parameter) : 매개 + 변수\n",
    "# 매개 : 둘 사이를 연결해줌\n",
    "# 함수가 실행될 때 인자로부터 값을 함수의 코드블록으로 전달하는 역할\n",
    "# 매개변수는 입력의 역할\n",
    "# return은 출력의 역할\n",
    "\n",
    "# 인자(Argument) :\n",
    "# 함수의 실행 시 매개변수로 전달하는 실제 값"
   ]
  },
  {
   "cell_type": "code",
   "execution_count": 3,
   "id": "0b09ce2e",
   "metadata": {},
   "outputs": [
    {
     "name": "stdout",
     "output_type": "stream",
     "text": [
      "30\n",
      "50\n",
      "30\n",
      "10\n"
     ]
    }
   ],
   "source": [
    "# 함수의 필요성\n",
    "\n",
    "def my_func(a,b):\n",
    "\n",
    "    if a > b:\n",
    "        return a - b\n",
    "    else:\n",
    "        return a + b\n",
    "\n",
    "print(my_func(10, 20))\n",
    "print(my_func(20, 30))\n",
    "print(my_func(100, 70))\n",
    "print(my_func(50, 40))\n"
   ]
  },
  {
   "cell_type": "code",
   "execution_count": null,
   "id": "5b2538d7",
   "metadata": {},
   "outputs": [
    {
     "name": "stdout",
     "output_type": "stream",
     "text": [
      "안녕하세요. 처음뵙겠습니다.\n"
     ]
    }
   ],
   "source": [
    "# 예제1. \n",
    "# 프로그램의 함수에서 매개변수와 return이 없어도 됨의 예시\n",
    "def introduce():\n",
    "    print(\"안녕하세요. 처음뵙겠습니다.\")\n",
    "\n",
    "introduce()"
   ]
  },
  {
   "cell_type": "code",
   "execution_count": 2,
   "id": "710632d7",
   "metadata": {},
   "outputs": [
    {
     "name": "stdout",
     "output_type": "stream",
     "text": [
      "안녕하세요. 처음뵙겠습니다. 최하연입니다.\n"
     ]
    }
   ],
   "source": [
    "def introduce(name):\n",
    "    print(f\"안녕하세요. 처음뵙겠습니다. {name}입니다.\")\n",
    "\n",
    "introduce(\"최하연\")"
   ]
  },
  {
   "cell_type": "code",
   "execution_count": 4,
   "id": "e0b6dd61",
   "metadata": {},
   "outputs": [
    {
     "name": "stdout",
     "output_type": "stream",
     "text": [
      "30\n",
      "300\n"
     ]
    }
   ],
   "source": [
    "# 예제2.\n",
    "def add(x , y):\n",
    "    return x + y\n",
    "\n",
    "print(add(10 , 20))\n",
    "print(add(100 , 200))"
   ]
  },
  {
   "cell_type": "code",
   "execution_count": null,
   "id": "5d4b071d",
   "metadata": {},
   "outputs": [
    {
     "name": "stdout",
     "output_type": "stream",
     "text": [
      "50\n",
      "20\n",
      "600\n",
      "33.333333333333336\n",
      "지원하지 않는 연산입니다.\n",
      "650\n"
     ]
    }
   ],
   "source": [
    "# 실습. 사칙연산 계산기 함수 만들기\n",
    "def calculate(a, b, operator):\n",
    "    if operator == \"+\":\n",
    "        return a + b\n",
    "    elif operator == \"-\":\n",
    "        return a - b\n",
    "    elif operator == \"*\":\n",
    "        return a * b\n",
    "    elif operator == \"/\":\n",
    "        return float(a / b)\n",
    "    else:\n",
    "        return \"지원하지 않는 연산입니다.\"\n",
    "    \n",
    "print(calculate(20, 30, \"+\"))\n",
    "print(calculate(50, 30, \"-\"))\n",
    "print(calculate(20, 30, \"*\"))\n",
    "print(calculate(100, 3, \"/\"))\n",
    "print(calculate(100, 3, \"$\"))\n",
    "\n",
    "print(calculate(20, 30, \"+\") + calculate(20, 30, \"*\"))    "
   ]
  },
  {
   "cell_type": "code",
   "execution_count": 29,
   "id": "ed09bd6d",
   "metadata": {},
   "outputs": [
    {
     "name": "stdout",
     "output_type": "stream",
     "text": [
      "안녕하세요-반갑습니다 / Hi-Nice to meet you / "
     ]
    },
    {
     "data": {
      "text/plain": [
       "30"
      ]
     },
     "execution_count": 29,
     "metadata": {},
     "output_type": "execute_result"
    }
   ],
   "source": [
    "# 위치 인자\n",
    "\n",
    "# 키워드 인자\n",
    "# 예시 1.\n",
    "print(\"안녕하세요\", \"반갑습니다\", sep=\"-\", end=\" / \")\n",
    "print(\"Hi\", \"Nice to meet you\", sep=\"-\", end=\" / \")\n",
    "\n",
    "# 예시 2. \n",
    "def my_func(a, b, c=None, operator=None):\n",
    "    if operator == \"+\":\n",
    "        return a + b\n",
    "    else:\n",
    "        return c\n",
    "my_func(10, 20, operator=\"+\")"
   ]
  },
  {
   "cell_type": "code",
   "execution_count": null,
   "id": "ab824ec9",
   "metadata": {},
   "outputs": [
    {
     "name": "stdout",
     "output_type": "stream",
     "text": [
      "ian님, 안녕하세요.\n",
      "ian님, 반갑습니다.\n"
     ]
    }
   ],
   "source": [
    "# 기본값 인자\n",
    "def greet(name, message=\"안녕하세요.\"):\n",
    "    print(f\"{name}님, {message}\")\n",
    "\n",
    "greet(\"ian\") # 호출시 인자 생략 → 기본값 사용\n",
    "greet(\"ian\", \"반갑습니다.\") # 기본값 무시하고 새 인자 전달\n"
   ]
  },
  {
   "cell_type": "code",
   "execution_count": null,
   "id": "947873e8",
   "metadata": {},
   "outputs": [
    {
     "ename": "SyntaxError",
     "evalue": "parameter without a default follows parameter with a default (973542890.py, line 1)",
     "output_type": "error",
     "traceback": [
      "  \u001b[36mCell\u001b[39m\u001b[36m \u001b[39m\u001b[32mIn[28]\u001b[39m\u001b[32m, line 1\u001b[39m\n\u001b[31m    \u001b[39m\u001b[31mdef greet(message=\"안녕하세요.\", name):\u001b[39m\n                                ^\n\u001b[31mSyntaxError\u001b[39m\u001b[31m:\u001b[39m parameter without a default follows parameter with a default\n"
     ]
    }
   ],
   "source": [
    "def greet(message=\"안녕하세요.\", name):\n",
    "    print(f\"{name}님, {message}\")\n",
    "\n",
    "greet(\"ian\")\n",
    "greet(\"ian\", \"반갑습니다.\")\n",
    "\n",
    "# 단, 기본값 매개변수는 반드시 뒤쪽에 위치해야 함"
   ]
  },
  {
   "cell_type": "code",
   "execution_count": 31,
   "id": "958121df",
   "metadata": {},
   "outputs": [
    {
     "data": {
      "text/plain": [
       "15"
      ]
     },
     "execution_count": 31,
     "metadata": {},
     "output_type": "execute_result"
    }
   ],
   "source": [
    "# 위치 가변 인자\n",
    "# 여러 개의 값을 유동적으로 받을 수 있음\n",
    "# 값이 튜플형태로 받아짐\n",
    "\n",
    "def add_all(*args):\n",
    "    return sum(args)\n",
    "\n",
    "add_all(1,2,3,4,5)"
   ]
  },
  {
   "cell_type": "code",
   "execution_count": 38,
   "id": "bb2f1734",
   "metadata": {},
   "outputs": [
    {
     "name": "stdout",
     "output_type": "stream",
     "text": [
      "{'name': 'ian', 'age': '15', 'city': 'Seoul', 'job': 'developer'}\n",
      "\n",
      "name : ian\n",
      "age : 15\n",
      "city : Seoul\n",
      "job : developer\n"
     ]
    }
   ],
   "source": [
    "# 키워드 가변 인자 (ppt 잘 못 되어 있음)\n",
    "# 여러 키워드 인자를 유동적으로 받을 수 있음\n",
    "# 딕셔너리 형태로 값이 입력됨\n",
    "def print_info(**kwargs):\n",
    "    print(kwargs)\n",
    "print_info(name=\"ian\", age=\"15\", city=\"Seoul\", job = \"developer\")\n",
    "print()\n",
    "\n",
    "def print_info(**kwargs):\n",
    "    for key, value in kwargs.items():\n",
    "        print(f\"{key} : {value}\")\n",
    "\n",
    "print_info(name=\"ian\", age=\"15\", city=\"Seoul\", job = \"developer\")"
   ]
  },
  {
   "cell_type": "code",
   "execution_count": null,
   "id": "51c5a2e1",
   "metadata": {},
   "outputs": [
    {
     "name": "stdout",
     "output_type": "stream",
     "text": [
      "10\n",
      "20\n",
      "(30, 40, 50)\n",
      "{'name': 'ian', 'age': 15}\n"
     ]
    }
   ],
   "source": [
    "# 여러가지 가변 인자를 섞어서 사용할 수 있음\n",
    "# 단, 가변인자의 순서가 맞아야 함!!! \n",
    "# 📌위치인자 → 키워드인자 → 위치가변인자 → 키워드가변인자\n",
    "\n",
    "def my_func(a, b=None, *args, **kwargs):\n",
    "    print(a)\n",
    "    print(b)\n",
    "    print(args)\n",
    "    print(kwargs)\n",
    "\n",
    "my_func(10 , 20, 30, 40, 50, name=\"ian\", age=15)\n"
   ]
  },
  {
   "cell_type": "code",
   "execution_count": 122,
   "id": "8bcb88ec",
   "metadata": {},
   "outputs": [
    {
     "name": "stdout",
     "output_type": "stream",
     "text": [
      "[1, 2, 3, 100]\n"
     ]
    }
   ],
   "source": [
    "# 매개변수 전달 방식\n",
    "# 가변 자료형(mutable): 함수 내 변경 → 외부에도 영향\n",
    "# 불변(immutable): 함수 내 변경 → 외부 영향 없음\n",
    "\n",
    "def add_to_list(my_list):\n",
    "    my_list.append(100)\n",
    "\n",
    "test_list = [1,2,3]\n",
    "add_to_list(test_list)\n",
    "print(test_list)"
   ]
  },
  {
   "cell_type": "code",
   "execution_count": 45,
   "id": "b35da744",
   "metadata": {},
   "outputs": [
    {
     "name": "stdout",
     "output_type": "stream",
     "text": [
      "4.5\n"
     ]
    }
   ],
   "source": [
    "# 실습. 가변인자 연습하기\n",
    "\n",
    "# 문제 1. 숫자 여러 개의 평균 구하기\n",
    "def averge(*args):\n",
    "    return sum(args) / len(args)\n",
    "\n",
    "print(averge(1,2,3,4,5,6,7,8))"
   ]
  },
  {
   "cell_type": "code",
   "execution_count": 72,
   "id": "d072b533",
   "metadata": {},
   "outputs": [
    {
     "name": "stdout",
     "output_type": "stream",
     "text": [
      "입력값이 없습니다\n"
     ]
    }
   ],
   "source": [
    "def averge(*args):\n",
    "    # 예외처리\n",
    "    if len(args) == 0:\n",
    "        return \"입력값이 없습니다\"\n",
    "    return sum(args) / len(args)\n",
    "\n",
    "print(averge())"
   ]
  },
  {
   "cell_type": "code",
   "execution_count": null,
   "id": "06d64eed",
   "metadata": {},
   "outputs": [
    {
     "name": "stdout",
     "output_type": "stream",
     "text": [
      "pineapple\n"
     ]
    }
   ],
   "source": [
    "# 문제 2. 가장 긴 문자열 찾기\n",
    "# 방법 1.\n",
    "def longgest(*args):\n",
    "    answer = \"\"\n",
    "    for s in args:\n",
    "        if len(s) > len(answer):\n",
    "            answer = s\n",
    "    return answer \n",
    "\n",
    "print(longgest(\"apple\", \"banana\", \"peach\", \"pineapple\"))"
   ]
  },
  {
   "cell_type": "code",
   "execution_count": 71,
   "id": "fdab5ae5",
   "metadata": {},
   "outputs": [
    {
     "name": "stdout",
     "output_type": "stream",
     "text": [
      "warermelon\n"
     ]
    }
   ],
   "source": [
    "# 문제 2. 가장 긴 문자열 찾기\n",
    "# 방법 2.\n",
    "def longgest2(*args):\n",
    "    return max(args, key=len) \n",
    "\n",
    "print(longgest2(\"apple\", \"banana\", \"peach\", \"pineapple\", \"warermelon\"))"
   ]
  },
  {
   "cell_type": "code",
   "execution_count": 73,
   "id": "84b08bc9",
   "metadata": {},
   "outputs": [
    {
     "name": "stdout",
     "output_type": "stream",
     "text": [
      "입력값이 없습니다\n"
     ]
    }
   ],
   "source": [
    "def longgest2(*args):\n",
    "    # 예외처리\n",
    "    if len(args) == 0:\n",
    "        return \"입력값이 없습니다\"\n",
    "    return max(args, key=len) \n",
    "\n",
    "print(longgest2())"
   ]
  },
  {
   "cell_type": "code",
   "execution_count": 68,
   "id": "49fb5e85",
   "metadata": {},
   "outputs": [
    {
     "name": "stdout",
     "output_type": "stream",
     "text": [
      "name : ian\n",
      "age : 15\n",
      "city : Seoul\n",
      "job : developer\n",
      "email : codingon.com\n"
     ]
    }
   ],
   "source": [
    "# 문제 3. 사용자 정보 출력 함수\n",
    "def print_info(**kwargs):\n",
    "    for key, value in kwargs.items():\n",
    "        print(f\"{key} : {value}\")\n",
    "\n",
    "print_info(name=\"ian\", age=\"15\", \n",
    "city=\"Seoul\", \n",
    "job = \"developer\", \n",
    "email = \"codingon.com\")    "
   ]
  },
  {
   "cell_type": "code",
   "execution_count": 53,
   "id": "66b508e2",
   "metadata": {},
   "outputs": [
    {
     "name": "stdout",
     "output_type": "stream",
     "text": [
      "상품: 고기\n",
      "가격: 10000\n",
      "→ 할인된 가격 9000.0\n",
      "\n",
      "상품: 우유\n",
      "가격: 3000\n",
      "→ 할인된 가격 2700.0\n",
      "\n",
      "상품: 과자\n",
      "가격: 1000\n",
      "→ 할인된 가격 900.0\n"
     ]
    }
   ],
   "source": [
    "# 문제 4. 할인 계산기\n",
    "def price(**kwargs):\n",
    "    for key, value in kwargs.items():\n",
    "        print(f\"{key}: {value}\")\n",
    "    print(f\"→ 할인된 가격 {value*0.9}\")\n",
    "\n",
    "\n",
    "price(상품 = \"고기\", 가격 = 10000)\n",
    "print()\n",
    "price(상품 = \"우유\", 가격 = 3000)\n",
    "print()\n",
    "price(상품 = \"과자\", 가격 = 1000)\n"
   ]
  },
  {
   "cell_type": "code",
   "execution_count": 77,
   "id": "07fdfbb1",
   "metadata": {},
   "outputs": [
    {
     "name": "stdout",
     "output_type": "stream",
     "text": [
      "apple: 할인가: 1800.0, (원가2000)\n",
      "watermelon: 할인가: 18000.0, (원가20000)\n",
      "banana: 할인가: 3600.0, (원가4000)\n"
     ]
    }
   ],
   "source": [
    "def discount_price(**kwargs):\n",
    "    for key, value in kwargs.items():\n",
    "        discounted = value * 0.9\n",
    "        print(f\"{key}: 할인가: {discounted}, (원가{value})\")\n",
    "\n",
    "\n",
    "discount_price(apple = 2000, watermelon = 20000, banana = 4000)\n"
   ]
  },
  {
   "cell_type": "code",
   "execution_count": 126,
   "id": "62d322d5",
   "metadata": {},
   "outputs": [
    {
     "name": "stdout",
     "output_type": "stream",
     "text": [
      "함수밖: 100\n"
     ]
    }
   ],
   "source": [
    "# 전역변수 : 함수 밖에 선언된 변수\n",
    "# 지역변수 : 함수 안에 선언된 변수\n",
    "\n",
    "\n",
    "# 예제\n",
    "x = 100    # 전역변수\n",
    "\n",
    "def my_func():    \n",
    "    x = 10       # 지역변수\n",
    "    print(x)\n",
    "\n",
    "def any_func():    \n",
    "    x = 20      # 지역변수\n",
    "    print(x)\n",
    "    def inner_func():\n",
    "        x = 50      # 지역변수\n",
    "        print(x)\n",
    "\n",
    "print(f\"함수밖: {x}\")"
   ]
  },
  {
   "cell_type": "code",
   "execution_count": null,
   "id": "24ca851c",
   "metadata": {},
   "outputs": [
    {
     "ename": "UnboundLocalError",
     "evalue": "cannot access local variable 'x' where it is not associated with a value",
     "output_type": "error",
     "traceback": [
      "\u001b[31m---------------------------------------------------------------------------\u001b[39m",
      "\u001b[31mUnboundLocalError\u001b[39m                         Traceback (most recent call last)",
      "\u001b[36mCell\u001b[39m\u001b[36m \u001b[39m\u001b[32mIn[84]\u001b[39m\u001b[32m, line 6\u001b[39m\n\u001b[32m      3\u001b[39m \u001b[38;5;28;01mdef\u001b[39;00m\u001b[38;5;250m \u001b[39m\u001b[34mmy_func\u001b[39m():\n\u001b[32m      4\u001b[39m     x += \u001b[32m5\u001b[39m\n\u001b[32m----> \u001b[39m\u001b[32m6\u001b[39m \u001b[43mmy_func\u001b[49m\u001b[43m(\u001b[49m\u001b[43m)\u001b[49m\n\u001b[32m      7\u001b[39m \u001b[38;5;28mprint\u001b[39m(x)\n",
      "\u001b[36mCell\u001b[39m\u001b[36m \u001b[39m\u001b[32mIn[84]\u001b[39m\u001b[32m, line 4\u001b[39m, in \u001b[36mmy_func\u001b[39m\u001b[34m()\u001b[39m\n\u001b[32m      3\u001b[39m \u001b[38;5;28;01mdef\u001b[39;00m\u001b[38;5;250m \u001b[39m\u001b[34mmy_func\u001b[39m():\n\u001b[32m----> \u001b[39m\u001b[32m4\u001b[39m     \u001b[43mx\u001b[49m += \u001b[32m5\u001b[39m\n",
      "\u001b[31mUnboundLocalError\u001b[39m: cannot access local variable 'x' where it is not associated with a value"
     ]
    }
   ],
   "source": [
    "# 전역변수와 지역변수 오류 예제\n",
    "x = 10\n",
    "\n",
    "def my_func():\n",
    "    x += 5\n",
    "\n",
    "my_func()\n",
    "print(x)"
   ]
  },
  {
   "cell_type": "code",
   "execution_count": 86,
   "id": "8a6738ec",
   "metadata": {},
   "outputs": [
    {
     "name": "stdout",
     "output_type": "stream",
     "text": [
      "지역변수 25\n",
      "전역변수 10\n"
     ]
    }
   ],
   "source": [
    "# 전역변수와 지역변수 예제1\n",
    "x = 10\n",
    "\n",
    "def my_func():\n",
    "    x = 20\n",
    "    x += 5\n",
    "    print(\"지역변수\", x)\n",
    "\n",
    "my_func()\n",
    "print(\"전역변수\", x)"
   ]
  },
  {
   "cell_type": "code",
   "execution_count": null,
   "id": "4d3743d1",
   "metadata": {},
   "outputs": [
    {
     "name": "stdout",
     "output_type": "stream",
     "text": [
      "지역변수 15\n",
      "전역변수 15\n"
     ]
    }
   ],
   "source": [
    "# 전역변수와 지역변수 예제1\n",
    "x = 10\n",
    "\n",
    "def my_func():\n",
    "    global x # 전역변수 사용을 선언\n",
    "    x += 5\n",
    "    print(\"지역변수\", x)\n",
    "\n",
    "my_func()\n",
    "print(\"전역변수\", x)"
   ]
  },
  {
   "cell_type": "code",
   "execution_count": null,
   "id": "bcbda8c0",
   "metadata": {},
   "outputs": [
    {
     "name": "stdout",
     "output_type": "stream",
     "text": [
      "전역변수 15\n"
     ]
    }
   ],
   "source": [
    "# 전역변수와 지역변수 예제1 - 권장되는 패턴\n",
    "# 함수형 프로그래밍\n",
    "# 부수효과(Side effect)를 발생시키지 않는 함수(순수함수)를 위주로 프로그래밍을 하는 것\n",
    "x = 10\n",
    "\n",
    "def my_func(x): # 매개변수는 지역에 존재\n",
    "    x += 5\n",
    "    return x\n",
    "\n",
    "x = my_func(x)\n",
    "\n",
    "print(\"전역변수\", x)"
   ]
  },
  {
   "cell_type": "code",
   "execution_count": 127,
   "id": "8487f178",
   "metadata": {},
   "outputs": [
    {
     "name": "stdout",
     "output_type": "stream",
     "text": [
      "40\n"
     ]
    }
   ],
   "source": [
    "# 예제2\n",
    "# 보통의 경우, 변수의 변경을 시도하는 것은 하나의 경로를 따라서 변경하게 한다.\n",
    "\n",
    "x = 10\n",
    " \n",
    "def func1():\n",
    "    global x\n",
    "    x += 10\n",
    "\n",
    "def func2():\n",
    "    global x\n",
    "    x *= 2\n",
    "\n",
    "func1()\n",
    "func2()\n",
    "\n",
    "print(x)"
   ]
  },
  {
   "cell_type": "code",
   "execution_count": 136,
   "id": "c1a807f0",
   "metadata": {},
   "outputs": [],
   "source": [
    "def solution(emergency):\n",
    "    sorted_emergency = sorted(emergency, reverse=True)\n",
    "    return [sorted_emergency.index(urgent) + 1 for urgent in emergency]"
   ]
  },
  {
   "cell_type": "code",
   "execution_count": null,
   "id": "d8f66a51",
   "metadata": {},
   "outputs": [
    {
     "name": "stdout",
     "output_type": "stream",
     "text": [
      "홍길동님이 로그인했습니다\n",
      "이미 로그인되어 있습니다\n",
      "김철수님이 로그인했습니다\n",
      "김철수님이 로그아웃했습니다\n",
      "로그인되어 있지 않습니다\n",
      "None님이 로그아웃했습니다\n"
     ]
    }
   ],
   "source": [
    "current_user = None\n",
    "\n",
    "def login(name):\n",
    "    global current_user\n",
    "    if current_user is not None:\n",
    "        print(\"이미 로그인되어 있습니다\")\n",
    "        return False\n",
    "    \n",
    "    current_user = name\n",
    "    print(f\"{name}님이 로그인했습니다\")\n",
    "    return True\n",
    "\n",
    "def logout():\n",
    "    global current_user\n",
    "    if current_user is None:\n",
    "        print(\"로그인되어 있지 않습니다\")\n",
    "        return False\n",
    "    \n",
    "    print(f\"{current_user}님이 로그아웃했습니다\")\n",
    "    current_user = None\n",
    "    return True\n",
    "\n",
    "\n",
    "\n",
    "login(\"홍길동\")\n",
    "login(\"김철수\") \n",
    "logout()\n",
    "logout()  \n"
   ]
  },
  {
   "cell_type": "code",
   "execution_count": null,
   "id": "77eae0d4",
   "metadata": {},
   "outputs": [
    {
     "name": "stdout",
     "output_type": "stream",
     "text": [
      "로그인 상태가 아닙니다.\n",
      "홍길동님 로그인 성공!\n",
      "이미 로그인되어 있습니다.\n",
      "로그아웃 되었습니다.\n",
      "길동이님 로그인 성공!\n"
     ]
    }
   ],
   "source": [
    "# 실습. 전역 변수 연습하기\n",
    "current_user = None\n",
    "\n",
    "def login(name):\n",
    "    global current_user\n",
    " \n",
    "    if current_user == None:\n",
    "        current_user = name\n",
    "        print(f\"{name}님 로그인 성공!🤗\")\n",
    "    else:\n",
    "        print(\"이미 로그인되어 있습니다.\")\n",
    "\n",
    "\n",
    "def logout():\n",
    "    global current_user\n",
    "\n",
    "    if current_user == None:\n",
    "        print(\"로그인 상태가 아닙니다.❌\")\n",
    "    else:\n",
    "        print(\"로그아웃 되었습니다.\")\n",
    "        current_user = None\n",
    "        \n",
    "\n",
    "logout()\n",
    "login(\"홍길동\")\n",
    "login(\"길동쓰\")\n",
    "logout()\n",
    "login(\"길동이\")\n"
   ]
  },
  {
   "cell_type": "code",
   "execution_count": 132,
   "id": "45af75b9",
   "metadata": {},
   "outputs": [
    {
     "name": "stdout",
     "output_type": "stream",
     "text": [
      "⚠️아이디는 네글자 이상이어야 해요.\n",
      "⚠️아이디는 네글자 이상이어야 해요.\n",
      "⚠️아이디는 네글자 이상이어야 해요.\n",
      "⚠️로그인 상태가 아닙니다.\n",
      "🤗홍기일동님 로그인 성공!\n",
      "✅로그아웃 되었습니다!\n",
      "🤗홍길동이님 로그인 성공!\n",
      "🚨이미 로그인되어 있습니다.\n",
      "✅로그아웃 되었습니다!\n",
      "⚠️아이디는 네글자 이상이어야 해요.\n",
      "⚠️로그인 상태가 아닙니다.\n",
      "🤗홍홍길동동님 로그인 성공!\n",
      "🚨이미 로그인되어 있습니다.\n"
     ]
    }
   ],
   "source": [
    "# 실습 3. 전역 변수 연습하기\n",
    "# ✅ 요구사항\n",
    "# 전역 변수 current_user는 로그인한 사용자의 이름을 저장합니다.\n",
    "# login(name) 함수는 사용자를 로그인시키고, logout() 함수는 로그아웃 상태로 만듭니다.\n",
    "# 이미 로그인된 상태에서 다시 로그인하면 \"이미 로그인되어 있습니다\"를 출력합니다.\n",
    "# 로그아웃하지 않고 로그인을 여러 번 시도할 수 없도록 합니다.\n",
    "\n",
    "current_user = None\n",
    "login_count = 0\n",
    "\n",
    "def login(name):\n",
    "  global current_user\n",
    "  global login_count\n",
    "\n",
    "  if current_user == None:\n",
    "    if len(name) >= 4:\n",
    "      current_user = name\n",
    "      print(f\"🤗{name}님 로그인 성공!\")\n",
    "    # 예외처리\n",
    "    else:\n",
    "      print(\"⚠️아이디는 네글자 이상이어야 해요.\")\n",
    "      \n",
    "      login_count += 1\n",
    "      if login_count > 4:\n",
    "        print(\"더이상 로그인 시도를 할 수 없습니다.\")\n",
    "  else:\n",
    "    print(\"🚨이미 로그인되어 있습니다.\")\n",
    "\n",
    "    login_count += 1\n",
    "    if login_count > 4:\n",
    "      print(\"더이상 로그인 시도를 할 수 없습니다.\")\n",
    "\n",
    "\n",
    "def logout():\n",
    "  global current_user\n",
    "  global login_count \n",
    "  if current_user == None:\n",
    "    print(\"⚠️로그인 상태가 아닙니다.\")\n",
    "  else:\n",
    "    print(\"✅로그아웃 되었습니다!\")\n",
    "    current_user = None\n",
    "    login_count = 0\n",
    "\n",
    "login(\"\")\n",
    "login(\"홍길동\")\n",
    "login(\"길동\")\n",
    "logout()\n",
    "login(\"홍기일동\")\n",
    "logout()\n",
    "login(\"홍길동이\")\n",
    "login(\"홍길동동동동\")\n",
    "logout()\n",
    "login(\"길동이\")\n",
    "logout()\n",
    "login(\"홍홍길동동\")\n",
    "login(\"김철수수수수\")\n"
   ]
  },
  {
   "cell_type": "code",
   "execution_count": 139,
   "id": "22c8f7af",
   "metadata": {},
   "outputs": [],
   "source": [
    "# 실습. programmers\n",
    "# 외과의사 머쓱이는 응급실에 온 환자의 응급도를 기준으로 진료 순서를 정하려고 합니다. \n",
    "# 정수 배열 emergency가 매개변수로 주어질 때 \n",
    "# 응급도가 높은 순서대로 진료 순서를 정한 배열을 return하도록 solution 함수를 완성해주세요.\n",
    "\n",
    "def solution(emergency):\n",
    "    # 응급도를 내림차순으로 정렬한 리스트 생성\n",
    "    sorted_emergency = sorted(emergency, reverse=True)\n",
    "    \n",
    "    # 각 환자의 진료 순서를 저장할 리스트\n",
    "    answer = []\n",
    "    \n",
    "    # 원본 배열의 각 응급도에 대해\n",
    "    for urgent in emergency:\n",
    "        # 정렬된 배열에서의 인덱스를 찾아서 +1 (순서는 1부터 시작)\n",
    "        order = sorted_emergency.index(urgent) + 1\n",
    "        answer.append(order)\n",
    "    \n",
    "    return answer"
   ]
  },
  {
   "cell_type": "code",
   "execution_count": null,
   "id": "100e1073",
   "metadata": {},
   "outputs": [],
   "source": [
    "def solution(emergency):\n",
    "    answer = []\n",
    "    \n",
    "    # 원본 배열을 내림차순으로 정렬한 새로운 배열을 생성\n",
    "    sorted_list = sorted(emergency, reverse = True)\n",
    "\n",
    "    # 두 리스트를 비교해서, 새로운 배열의 인덱스를 기준으로\n",
    "    for e in emergency:\n",
    "        idx = sorted_list.index(e)\n",
    "\n",
    "    # 정답 배열을 생성하되, 인덱스에 + 1을 해서 생성 \n",
    "    answer.append(idx+1)\n",
    "\n",
    "    return answer"
   ]
  },
  {
   "cell_type": "code",
   "execution_count": 143,
   "id": "eff77565",
   "metadata": {},
   "outputs": [],
   "source": [
    "# 리스트 컴프리헨션 활용\n",
    "\n",
    "def solution(emergency):\n",
    "    return [sorted(emergency, reverse = True).index(e)+ 1 for e in emergency]"
   ]
  },
  {
   "cell_type": "code",
   "execution_count": null,
   "id": "8abf654f",
   "metadata": {},
   "outputs": [
    {
     "name": "stdout",
     "output_type": "stream",
     "text": [
      "재귀 호출 5\n",
      "재귀 호출 4\n",
      "재귀 호출 3\n",
      "재귀 호출 2\n",
      "재귀 호출 1\n"
     ]
    }
   ],
   "source": [
    "# 재귀 함수 (Recursive Function)\n",
    "# 1. 자기가 자기 자신을 호출하는 함수\n",
    "# 2. 반드시 기본 조건(종료 조건)이 있어야 함\n",
    "# - 큰 문제를 작은 문제로 나누었을 때 일정한 패턴이 있어야 함. ex) 프랙탈 구조.\n",
    "import time\n",
    "\n",
    "def recursive_func(n):\n",
    "    # 기본 조건\n",
    "    if n == 0:\n",
    "        return    \n",
    "    print(\"재귀 호출\", n)\n",
    "    time.sleep(1)\n",
    "    recursive_func(n-1)\n",
    "recursive_func(5)"
   ]
  },
  {
   "cell_type": "code",
   "execution_count": null,
   "id": "d014ee7a",
   "metadata": {},
   "outputs": [
    {
     "name": "stdout",
     "output_type": "stream",
     "text": [
      "재귀 호출 1\n",
      "재귀 호출 2\n",
      "재귀 호출 3\n",
      "재귀 호출 4\n",
      "재귀 호출 5\n"
     ]
    }
   ],
   "source": [
    "def recursive_func(n):\n",
    "    # 기본 조건\n",
    "    if n == 0:\n",
    "        return\n",
    "    \n",
    "    recursive_func(n-1)  # 위에 꺼에서 순서를 바꿔봄. 스택의 특성!\n",
    "    print(\"재귀 호출\", n)\n",
    "    time.sleep(1)\n",
    "    \n",
    "recursive_func(5)"
   ]
  },
  {
   "cell_type": "code",
   "execution_count": null,
   "id": "3d4082e7",
   "metadata": {},
   "outputs": [
    {
     "name": "stdout",
     "output_type": "stream",
     "text": [
      "64\n",
      "256\n"
     ]
    }
   ],
   "source": [
    "# 실습. 재귀 함수-거듭 제곱\n",
    "\n",
    "# 반복문\n",
    "def power_for(a, n):\n",
    "    result = 1\n",
    "    for _ in range(n):\n",
    "        result *= a\n",
    "    return result\n",
    "print(power_for(4, 3))\n",
    "\n",
    "# 재귀 함수\n",
    "def power_rec(a,n):\n",
    "    if n == 0:\n",
    "        return 1\n",
    "    return a * power_rec(a, n-1)\n",
    "print(power_rec(4, 4))"
   ]
  },
  {
   "cell_type": "code",
   "execution_count": null,
   "id": "12d30bde",
   "metadata": {},
   "outputs": [
    {
     "name": "stdout",
     "output_type": "stream",
     "text": [
      "120\n",
      "5040\n",
      "음수의 팩토리얼은 정의되지 않습니다.\n"
     ]
    }
   ],
   "source": [
    "# 실습. 재귀 함수-팩토리얼(Factorial)\n",
    "\n",
    "# 반복문\n",
    "def factorial_for(n):\n",
    "    result = 1\n",
    "\n",
    "    for i in range(1, n+1):\n",
    "        result = result * i\n",
    "\n",
    "    return result\n",
    "print(factorial_for(5))\n",
    "print()\n",
    "\n",
    "# 재귀 함수\n",
    "def factorial_rec(n):\n",
    "    # 예외 처리\n",
    "    if n < 0:\n",
    "        return \"음수의 팩토리얼은 정의되지 않습니다.\"\n",
    "    \n",
    "    # 기본 조건\n",
    "    if n == 0 or n == 1:\n",
    "        return 1\n",
    "    \n",
    "    # 자기 자신을 호출\n",
    "    return n * factorial_rec(n-1)\n",
    "\n",
    "print(factorial_rec(7))\n",
    "print(factorial_rec(-1))"
   ]
  },
  {
   "cell_type": "code",
   "execution_count": null,
   "id": "b87b558c",
   "metadata": {},
   "outputs": [
    {
     "name": "stdout",
     "output_type": "stream",
     "text": [
      "13\n",
      "\n",
      "0\n",
      "1\n",
      "8\n",
      "21\n"
     ]
    }
   ],
   "source": [
    "# 실습. 재귀 함수-피보나치 수열(Fibonacci Numbers)\n",
    "\n",
    "# 반복문\n",
    "def fibo_for(n):\n",
    "    if n < 0:\n",
    "        return 0\n",
    "    elif n == 1:\n",
    "        return 1\n",
    "    a, b = 0, 1\n",
    "    result = 0\n",
    "    for i in range(n-1):\n",
    "        a, b = b, a+b\n",
    "    return b\n",
    "print(fibo_for(7))\n",
    "print()\n",
    "\n",
    "# 재귀 함수\n",
    "def fibo_rec(n):\n",
    "    if n <= 0:\n",
    "        return 0 \n",
    "    elif n == 1:\n",
    "        return 1\n",
    "    return fibo_rec(n-2) + fibo_rec(n-1)\n",
    "print(fibo_rec(0))\n",
    "print(fibo_rec(1))\n",
    "print(fibo_rec(6))\n",
    "print(fibo_rec(8))\n"
   ]
  },
  {
   "cell_type": "code",
   "execution_count": null,
   "id": "ade5abbc",
   "metadata": {},
   "outputs": [
    {
     "data": {
      "text/plain": [
       "100"
      ]
     },
     "execution_count": 199,
     "metadata": {},
     "output_type": "execute_result"
    }
   ],
   "source": [
    "# 람다 함수(Lambda Function)\n",
    "# 익명 함수\n",
    "# 간단한 함수를 한 줄로 표현할 때 사용\n",
    "\n",
    "# ✅ 람다 함수의 기본 문법\n",
    " # lambda 매개변수: 표현식\n",
    " # 표현식 : 값이 반환되는 식\n",
    "3 + 5\n",
    "3 == 5\n",
    "\n",
    "# ✅ 일반 함수와 비교\n",
    " # 일반 함수\n",
    "def add(x, y):\n",
    "    return x + y\n",
    "\n",
    " # lambda를 재활용 하려면 → 변수에 담아서 활용\n",
    "add_func = lambda x, y: x + y\n",
    " # 저장한 람다 함수의 활용\n",
    "add_func(3,5)\n",
    "\n",
    "\n",
    "# ✅ 람다로 값을 반환하고 사용을 끝내는 경우\n",
    "(lambda x: x ** 2)(10)"
   ]
  },
  {
   "cell_type": "code",
   "execution_count": null,
   "id": "7c58ef03",
   "metadata": {},
   "outputs": [
    {
     "data": {
      "text/plain": [
       "['watermelon', 'banana', 'apple', 'grape']"
      ]
     },
     "execution_count": 203,
     "metadata": {},
     "output_type": "execute_result"
    }
   ],
   "source": [
    "# 람다 함수의 활용\n",
    "\n",
    "# 1. map에서 활용\n",
    "my_list = [1,2,3,4]\n",
    " # 일반 함수를 사용\n",
    "def square_func(x):\n",
    "    return x ** 2\n",
    "\n",
    "list(map(square_func, my_list))\n",
    "\n",
    " # 람다 함수를 사용\n",
    "list(map(lambda x: x ** 2, my_list))\n",
    "\n",
    "\n",
    "# 2. filter에서 활용\n",
    "my_list2 = [1,2,3,4,5,6,7,8,9,10]\n",
    " # 일반 함수를 사용\n",
    "def is_even(x):\n",
    "    return x % 2 ==0\n",
    "\n",
    "list(filter(is_even, my_list2))\n",
    "\n",
    " # 람다 함수를 사용\n",
    "list(filter(lambda x: x % 2==0, my_list2))\n",
    "\n",
    "\n",
    "# 3. sorted에서 활용\n",
    "my_list3 = [\"apple\", \"banana\", \"watermelon\", \"grape\"]\n",
    "sorted_data = sorted(my_list3, key=lambda word: len(word), reverse = True)\n",
    "sorted_data\n"
   ]
  },
  {
   "cell_type": "code",
   "execution_count": null,
   "id": "3e4b8d6d",
   "metadata": {},
   "outputs": [
    {
     "data": {
      "text/plain": [
       "[('Alice', [80, 90]), ('Charlie', [70, 70])]"
      ]
     },
     "execution_count": 205,
     "metadata": {},
     "output_type": "execute_result"
    }
   ],
   "source": [
    "# 실습. 람다 함수 연습 문제\n",
    "\n",
    "# 문제 1. 특정 조건 만족하는 튜플만 추출\n",
    "# 아래 학생 튜플 리스트에서 평균 점수가 70점 이상인 학생만 추출하세요.\n",
    "students = [(\"Alice\", [80, 90]), (\"Bob\", [60, 65]), (\"Charlie\", [70, 70])]\n",
    "list(filter(lambda x: sum(x[1]) / len(x[1]) >= 70, students))"
   ]
  },
  {
   "cell_type": "code",
   "execution_count": null,
   "id": "2b1b2201",
   "metadata": {},
   "outputs": [
    {
     "data": {
      "text/plain": [
       "['Python', 'Lambda', 'Coding']"
      ]
     },
     "execution_count": 208,
     "metadata": {},
     "output_type": "execute_result"
    }
   ],
   "source": [
    "# 문제 2. 키워드 추출 리스트 만들기\n",
    "# 아래와 같은 문자열 리스트가 있을 때, 각 문장에서 맨 앞 단어만 추출한 리스트를 만들어보세요\n",
    "sentences = [\"Python is fun\", \"Lambda functions are powerful\", \"Coding is creative\"]\n",
    "list(map(lambda x: x.split( )[0], sentences))"
   ]
  },
  {
   "cell_type": "code",
   "execution_count": 211,
   "id": "2ea9d4a3",
   "metadata": {},
   "outputs": [
    {
     "data": {
      "text/plain": [
       "[('Bob', 25), ('Alice', 30), ('Charlie', 35)]"
      ]
     },
     "execution_count": 211,
     "metadata": {},
     "output_type": "execute_result"
    }
   ],
   "source": [
    "# 문제 3. 튜플 리스트를 정렬하기\n",
    "# 이름과 나이로 구성된 튜플 리스트를 나이를 기준으로 오름차순 정렬하세요\n",
    "people = [(\"Alice\", 30), (\"Bob\", 25), (\"Charlie\", 35)]\n",
    "sorted(people, key=lambda person: person[1])"
   ]
  }
 ],
 "metadata": {
  "kernelspec": {
   "display_name": "python-study",
   "language": "python",
   "name": "python3"
  },
  "language_info": {
   "codemirror_mode": {
    "name": "ipython",
    "version": 3
   },
   "file_extension": ".py",
   "mimetype": "text/x-python",
   "name": "python",
   "nbconvert_exporter": "python",
   "pygments_lexer": "ipython3",
   "version": "3.13.5"
  }
 },
 "nbformat": 4,
 "nbformat_minor": 5
}
