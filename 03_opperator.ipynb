{
 "cells": [
  {
   "cell_type": "markdown",
   "id": "ceb6b147",
   "metadata": {},
   "source": [
    "### 연산자\n",
    " - 연산자(Operator) : 값과 값 사이에 연산을 수행하는 기호\n",
    " - 항(Operand) : 연산의 대상이 되는 값\n",
    "\n",
    "### 연산자의 종류\n",
    " 1. 산술 연산자\n",
    " 2. 비교 연산자\n",
    " 3. 논리 연산자\n",
    " 4. 대입 연산자 "
   ]
  },
  {
   "cell_type": "markdown",
   "id": "7340e55f",
   "metadata": {},
   "source": [
    "#### 산술 연산자\n",
    " - 사칙연산을 포함한 수학 연산(계산) 수행\n",
    " - +, -, *, /, //, %, **\n",
    "\n",
    "#### 비교 연산자\n",
    " - 두 값을 비교하는 연산 수행\n",
    " - 계산 결과 True 또는 False를 반환\n",
    " - ==, !=, >, <, >=, <=\n",
    "\n",
    "#### 논리 연산자\n",
    " - 논리에 대한 연산을 수행\n",
    " - True, False에 대한 연산을 수행\n",
    " - and, or, not "
   ]
  },
  {
   "cell_type": "code",
   "execution_count": null,
   "id": "a25b57b8",
   "metadata": {},
   "outputs": [
    {
     "name": "stdout",
     "output_type": "stream",
     "text": [
      "13\n",
      "7\n",
      "30\n",
      "3.3333333333333335\n",
      "3\n",
      "1\n",
      "1000\n"
     ]
    }
   ],
   "source": [
    "# 산술 연산자\n",
    "print(10 + 3)\n",
    "print(10 - 3)\n",
    "print(10 * 3)\n",
    "print(10 / 3)\n",
    "print(10 // 3)\n",
    "print(10 % 3)\n",
    "print(10 ** 3)\n"
   ]
  },
  {
   "cell_type": "code",
   "execution_count": null,
   "id": "a7055790",
   "metadata": {},
   "outputs": [
    {
     "name": "stdout",
     "output_type": "stream",
     "text": [
      "62\n",
      "40\n",
      "561\n",
      "4.636363636363637\n",
      "4\n",
      "7\n",
      "6071163615208263051\n"
     ]
    }
   ],
   "source": [
    "#변수와 산술 연산\n",
    "#반복되는 항이 있다면 변수로 처리\n",
    "a = 51\n",
    "b = 11\n",
    "print(a + b)\n",
    "print(a - b)\n",
    "print(a * b)\n",
    "print(a / b)\n",
    "print(a // b)\n",
    "print(a % b)\n",
    "print(a ** b)\n"
   ]
  },
  {
   "cell_type": "code",
   "execution_count": null,
   "id": "6474437a",
   "metadata": {},
   "outputs": [
    {
     "name": "stdout",
     "output_type": "stream",
     "text": [
      "10\n"
     ]
    }
   ],
   "source": [
    "#### 변수의 값을 변경\n",
    "\n",
    "x = 10\n",
    "\n",
    "#x에 5를 더하고 싶다면?\n",
    "x = x + 5\n",
    "\n",
    "#x에서 10을 빼고 싶다면?\n",
    "x = x - 10\n",
    "\n",
    "#x에 두배를 해주고 싶다면?\n",
    "x = x * 2\n",
    "\n",
    "#결과값 출력\n",
    "print(x)"
   ]
  },
  {
   "cell_type": "code",
   "execution_count": 9,
   "id": "62a57fe9",
   "metadata": {},
   "outputs": [
    {
     "name": "stdout",
     "output_type": "stream",
     "text": [
      "2.0\n"
     ]
    }
   ],
   "source": [
    "#### 복합 대입 연산자 (축약형)\n",
    "#→ 변수에 자기자신에 대한 연산 결과를 다시 저장할 때 사용\n",
    "#### 변수의 값을 변경\n",
    "\n",
    "x = 10\n",
    "\n",
    "#x에 5를 더하고 싶다면?\n",
    "x += 5\n",
    "\n",
    "#x에서 10을 빼고 싶다면?\n",
    "x -= 10\n",
    "\n",
    "#x에 두배를 해주고 싶다면?\n",
    "x *= 2\n",
    "\n",
    "#x를 5로 나누고 싶다면?\n",
    "x /= 5\n",
    "\n",
    "#결과값 출력\n",
    "print(x)"
   ]
  },
  {
   "cell_type": "code",
   "execution_count": 30,
   "id": "0aff6514",
   "metadata": {},
   "outputs": [
    {
     "name": "stdout",
     "output_type": "stream",
     "text": [
      "💎시작 용돈: 300000 원\n",
      "💸지출(개강 첫 주, 책 구매): 220000 원\n",
      "💸지출(평일 점심값): 175000 원\n",
      "😁수입(과외 아르바이트): 295000 원\n",
      "😁수입(용돈): 354000 원\n",
      "💸지출(공과금): 236000 원\n",
      "💵남은 돈💰은 236000 원 입니다!\n"
     ]
    }
   ],
   "source": [
    "#실습. 대학생의 용돈 관리\n",
    "x = 300000 \n",
    "print(\"💎시작 용돈:\", x, \"원\")\n",
    "x -= 80000\n",
    "print(\"💸지출(개강 첫 주, 책 구매):\", x, \"원\")\n",
    "x -= (9000 * 5)\n",
    "print(\"💸지출(평일 점심값):\", x, \"원\")\n",
    "x += 120000\n",
    "print(\"😁수입(과외 아르바이트):\", x, \"원\")\n",
    "x *= 1.2\n",
    "print(\"😁수입(용돈):\", int(x), \"원\")\n",
    "x *= 2/3\n",
    "print(\"💸지출(공과금):\", int(x), \"원\")\n",
    "print(f\"💵남은 돈💰은 {int(x)} 원 입니다!\")\n"
   ]
  },
  {
   "cell_type": "code",
   "execution_count": null,
   "id": "e9d10c2e",
   "metadata": {},
   "outputs": [
    {
     "name": "stdout",
     "output_type": "stream",
     "text": [
      "300\n",
      "100200\n",
      "Ian Coding\n"
     ]
    }
   ],
   "source": [
    "#### 문자열 연산(산술 연산)\n",
    "##### +: 문자열의 결합(연결)\n",
    "print(100 + 200)\n",
    "print(\"100\" + \"200\")\n",
    "\n",
    "#❌문자열과 정수의 더하기 연산은 불가능\n",
    "print(\"100\"+ 200)\n",
    "\n",
    "first_name = \"Ian\"\n",
    "last_name = \"Coding\"\n",
    "full_name = first_name + \" \" + last_name\n",
    "print(full_name)"
   ]
  },
  {
   "cell_type": "code",
   "execution_count": 36,
   "id": "a9b50a12",
   "metadata": {},
   "outputs": [
    {
     "name": "stdout",
     "output_type": "stream",
     "text": [
      "안녕! 안녕! 안녕! \n"
     ]
    }
   ],
   "source": [
    "##### * : 문자열의 반복\n",
    "인사 = \"안녕! \"\n",
    "print(인사 * 3)"
   ]
  },
  {
   "cell_type": "code",
   "execution_count": null,
   "id": "2c80b72f",
   "metadata": {},
   "outputs": [
    {
     "ename": "TypeError",
     "evalue": "unsupported operand type(s) for /: 'str' and 'int'",
     "output_type": "error",
     "traceback": [
      "\u001b[31m---------------------------------------------------------------------------\u001b[39m",
      "\u001b[31mTypeError\u001b[39m                                 Traceback (most recent call last)",
      "\u001b[36mCell\u001b[39m\u001b[36m \u001b[39m\u001b[32mIn[37]\u001b[39m\u001b[32m, line 1\u001b[39m\n\u001b[32m----> \u001b[39m\u001b[32m1\u001b[39m \u001b[38;5;28mprint\u001b[39m(\u001b[33;43m\"\u001b[39;49m\u001b[33;43m안녕하세요\u001b[39;49m\u001b[33;43m\"\u001b[39;49m\u001b[43m/\u001b[49m\u001b[32;43m5\u001b[39;49m)\n",
      "\u001b[31mTypeError\u001b[39m: unsupported operand type(s) for /: 'str' and 'int'"
     ]
    }
   ],
   "source": [
    "#### 지원하지 않는 문자열 연산\n",
    "print(\"안녕하세요\" / 5)\n",
    "print(\"안녕하세요\" - \"하세요\")\n"
   ]
  },
  {
   "cell_type": "code",
   "execution_count": 41,
   "id": "15f8773d",
   "metadata": {},
   "outputs": [
    {
     "name": "stdout",
     "output_type": "stream",
     "text": [
      "🎤🎶🎧둠칫두둠칫두둠칫두둠칫\n"
     ]
    }
   ],
   "source": [
    "intro = \"🎤🎶🎧둠칫\"\n",
    "drop = \"두둠칫\"\n",
    "print(intro + drop * 3)"
   ]
  }
 ],
 "metadata": {
  "kernelspec": {
   "display_name": "python-study",
   "language": "python",
   "name": "python3"
  },
  "language_info": {
   "codemirror_mode": {
    "name": "ipython",
    "version": 3
   },
   "file_extension": ".py",
   "mimetype": "text/x-python",
   "name": "python",
   "nbconvert_exporter": "python",
   "pygments_lexer": "ipython3",
   "version": "3.13.5"
  }
 },
 "nbformat": 4,
 "nbformat_minor": 5
}
