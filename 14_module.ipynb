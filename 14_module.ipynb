{
 "cells": [
  {
   "cell_type": "markdown",
   "id": "f7c65bdc",
   "metadata": {},
   "source": [
    "## 14. 모듈(Module)\n",
    "- 여러 기능(함수)의 묶음\n",
    "- 하나의 py 파일로 여러 기능을 모아놓은 것 "
   ]
  },
  {
   "cell_type": "code",
   "execution_count": null,
   "id": "7004d18f",
   "metadata": {},
   "outputs": [
    {
     "name": "stdout",
     "output_type": "stream",
     "text": [
      "Hello, ian!\n"
     ]
    }
   ],
   "source": [
    "# 모듈 불러오기\n",
    "import hello\n",
    "hello.greeting(\"ian\")"
   ]
  },
  {
   "cell_type": "code",
   "execution_count": null,
   "id": "664296ef",
   "metadata": {},
   "outputs": [
    {
     "name": "stdout",
     "output_type": "stream",
     "text": [
      "Hello, ian!\n"
     ]
    }
   ],
   "source": [
    "# 모듈 불러오기(2)\n",
    "from hello import greeting\n",
    "greeting(\"ian\")"
   ]
  },
  {
   "cell_type": "code",
   "execution_count": null,
   "id": "14860eb3",
   "metadata": {},
   "outputs": [
    {
     "name": "stdout",
     "output_type": "stream",
     "text": [
      "Hello, ian!\n",
      "제 이름은 ian이고, 나이는 15입니다.\n"
     ]
    }
   ],
   "source": [
    "# 모듈 불러오기(3): 모든 함수/변수 불러오기\n",
    "from hello import *  # 권장되지는 않음. 겹쳐서 충돌할 수 있기 때문에.\n",
    "greeting(\"ian\")\n",
    "introduce(\"ian\", 15)"
   ]
  },
  {
   "cell_type": "code",
   "execution_count": 2,
   "id": "36731974",
   "metadata": {},
   "outputs": [
    {
     "name": "stdout",
     "output_type": "stream",
     "text": [
      "Hello, ian!\n",
      "제 이름은 ian이고, 나이는 15입니다.\n"
     ]
    }
   ],
   "source": [
    "# 모듈 불러오기(4) : 외부에서 모듈을 불러와 쓸 때 많이 씀. 충돌하지 않으니까\n",
    "import hello as h\n",
    "h.greeting(\"ian\")\n",
    "h.introduce(\"ian\", 15)"
   ]
  },
  {
   "cell_type": "code",
   "execution_count": 4,
   "id": "202c8525",
   "metadata": {},
   "outputs": [
    {
     "name": "stdout",
     "output_type": "stream",
     "text": [
      "9\n",
      "46\n",
      "30\n",
      "3\n",
      "1\n",
      "42\n",
      "0으로 나눌 수 없습니다.\n",
      "3.0\n"
     ]
    },
    {
     "data": {
      "text/plain": [
       "3.0"
      ]
     },
     "execution_count": 4,
     "metadata": {},
     "output_type": "execute_result"
    }
   ],
   "source": [
    "# 실습. 계산기 모듈 만들어보기\n",
    "import calc \n",
    "calc.add(5,4)\n",
    "\n",
    "from calc import subtract\n",
    "subtract(50,4)\n",
    "\n",
    "from calc import *  \n",
    "multiply(6,5)\n",
    "\n",
    "import calc as c\n",
    "c.add(1,2)\n",
    "c.subtract(4,3)\n",
    "c.multiply(6,7)\n",
    "c.divide(5,0)\n",
    "c.divide(9,3)"
   ]
  },
  {
   "cell_type": "code",
   "execution_count": 7,
   "id": "2e810342",
   "metadata": {},
   "outputs": [
    {
     "name": "stdout",
     "output_type": "stream",
     "text": [
      "30\n",
      "30\n"
     ]
    },
    {
     "data": {
      "text/plain": [
       "30"
      ]
     },
     "execution_count": 7,
     "metadata": {},
     "output_type": "execute_result"
    }
   ],
   "source": [
    "# 패키지(Package)\n",
    "# 모듈의 묶음\n",
    "# 모듈을 폴더 단위로 묶은 것\n",
    "\n",
    "# 패키지에서 모듈 불러오기(1)\n",
    "from my_package import calc\n",
    "\n",
    "calc.add(10,20)\n",
    "\n",
    "# 별칭은 상황에 따라 적절하게!\n",
    "from my_package import calc as c\n",
    "\n",
    "c.add(10,20)"
   ]
  },
  {
   "cell_type": "code",
   "execution_count": null,
   "id": "db080c74",
   "metadata": {},
   "outputs": [],
   "source": [
    "# 패키지에서 모듈 불러오기(2)\n",
    "from my_package.calc import add"
   ]
  },
  {
   "cell_type": "code",
   "execution_count": 16,
   "id": "0993a648",
   "metadata": {},
   "outputs": [
    {
     "data": {
      "text/plain": [
       "60"
      ]
     },
     "execution_count": 16,
     "metadata": {},
     "output_type": "execute_result"
    }
   ],
   "source": [
    "# 파이썬 표준 라이브러리\n",
    "# math : 수학적 연산에 사용되는 모듈\n",
    "import math\n",
    "\n",
    "# 1. 올림/내림\n",
    "# round : 반올림 - 파이썬 내장 함수\n",
    "round(3.141592, 2)\n",
    "# ceil : 올림 - 소수점 지정 안됨.\n",
    "math.ceil(3.141592)\n",
    "# floor : 내림, 소수점 지정 안됨.\n",
    "math.floor(3.141592) \n",
    "\n",
    "# 2. 제곱, 제곱근\n",
    "# pow(x, y) : 제곱 - x^y를 반환\n",
    "math.pow(2,3)\n",
    "# sqrt(x) : 제곱근 반환\n",
    "math.sqrt(25)\n",
    "\n",
    "# 3. 상수\n",
    "# pi : 원주율\n",
    "math.pi\n",
    "\n",
    "# 4. 수학 계산 편의 기능\n",
    "# factorial(x) : x! 팩토리얼 반환\n",
    "math.factorial(5)\n",
    "# gcd(x, y) : 최대공약수\n",
    "math.gcd(12, 20)\n",
    "# lcm(x, y) : 최소 공배수\n",
    "math.lcm(12, 20)"
   ]
  },
  {
   "cell_type": "code",
   "execution_count": null,
   "id": "befa6148",
   "metadata": {},
   "outputs": [
    {
     "name": "stdout",
     "output_type": "stream",
     "text": [
      "두 점 사이의 거리: 3\n"
     ]
    }
   ],
   "source": [
    "# 실습. math 모듈 사용해보기\n",
    "# 문제 1. 실제 거리 계산: 좌표 두 점 사이 거리 구하기\n",
    "import math\n",
    "x1, y1 = map(int, input(\"x1, y1을 입력해주세요.\").split(\",\")) \n",
    "x2, y2 = map(int, input(\"x2, y2을 입력해주세요.\").split(\",\")) \n",
    "\n",
    "dist = round(math.sqrt(math.pow(x2-x1, 2) + math.pow(y2-y1, 2)))\n",
    "print(f\"두 점 사이의 거리: {dist}\")"
   ]
  },
  {
   "cell_type": "code",
   "execution_count": null,
   "id": "aa8a2d63",
   "metadata": {},
   "outputs": [
    {
     "name": "stdout",
     "output_type": "stream",
     "text": [
      "최대의 간식 개수: 6 🍩🧁\n",
      "최소 간식 개수: 72 🍪🍰\n"
     ]
    }
   ],
   "source": [
    "# 문제 2. 상품 나누기: 최소 공배수와 최대 공약수\n",
    "import math\n",
    "print(f\"최대의 간식 개수: {math.gcd(18, 24)} 🍩🧁\")\n",
    "print(f\"최소 간식 개수: {math.lcm(18, 24)} 🍪🍰\")"
   ]
  },
  {
   "cell_type": "code",
   "execution_count": null,
   "id": "f38b0b9e",
   "metadata": {},
   "outputs": [
    {
     "data": {
      "text/plain": [
       "[4, 1, 5, 3, 2]"
      ]
     },
     "execution_count": 50,
     "metadata": {},
     "output_type": "execute_result"
    }
   ],
   "source": [
    "# random 모듈: 랜덤 값(난수) 생성시 사용\n",
    "import random\n",
    "# 1. 난수 생성\n",
    "# seed(a) : 난수 발생 초기값(seed) 설정 - 최초 생성한 난수를 고정해야 할 때 사용\n",
    "# random.seed(42)\n",
    "\n",
    "# random() : 0이상 1 미만의 float 난수 반환  \n",
    "random.random()\n",
    "\n",
    "# uniform(a, b) : a 이상 b 이하의 실수 난수 반환\n",
    "random.uniform(1,10)\n",
    "\n",
    "# ranint(a, b) : a 이상 b 이하의 정수 난수 반환\n",
    "random.randint(1, 100)\n",
    "\n",
    "# randrange(start, stop, step) :범위 안의 정수 난수 반환, 간격지정 가능\n",
    "random.randrange(0, 100, 5)\n",
    "\n",
    "\n",
    "# 2. 랜덤 선택\n",
    "fruits = [\"apple\", \"banana\", \"watermelon\", \"grape\", \"orange\"]\n",
    "\n",
    "# choice(seq) : 시퀀스에서 임의의 요소 1개 반환\n",
    "random.choice(fruits)\n",
    "\n",
    "# choices(seq, k) : 시퀀스에서 \"중복 허용\" k개의 요소 리스트를 반환\n",
    "random.choices(fruits, k=2)\n",
    "\n",
    "# sample(seq, k) : 시퀀스에서 \"중복 없이\" k개의 요소 리스트를 반환\n",
    "random.sample(fruits, k=2)\n",
    "\n",
    "# shuffle(seq) : 시퀀스의 요소를 무작위로 섞음 → 원본 시퀀스를 변경\n",
    "numbers = [1,2,3,4,5]\n",
    "random.shuffle(numbers)\n",
    "numbers"
   ]
  },
  {
   "cell_type": "code",
   "execution_count": null,
   "id": "9260c00e",
   "metadata": {},
   "outputs": [
    {
     "data": {
      "text/plain": [
       "[2, 13, 18, 22, 26, 43]"
      ]
     },
     "execution_count": 66,
     "metadata": {},
     "output_type": "execute_result"
    }
   ],
   "source": [
    "# 실습. 로또 번호 뽑기(간단한 방법)\n",
    "\n",
    "# 1 ~ 45 사이의 정수 중에서 랜덤으로 6개의 숫자를 뽑는다\n",
    "# 6개의 숫자는 중복이 있어서는 x\n",
    "# 오름차순으로 결과를 정렬한다!\n",
    "\n",
    "result = sorted(random.sample(range(1, 46), k=6))"
   ]
  },
  {
   "cell_type": "code",
   "execution_count": null,
   "id": "fa95fbb0",
   "metadata": {},
   "outputs": [
    {
     "name": "stdout",
     "output_type": "stream",
     "text": [
      "5\n",
      "18\n",
      "23\n",
      "42\n",
      "33\n",
      "26\n",
      "[5, 18, 23, 26, 33, 42]\n"
     ]
    }
   ],
   "source": [
    "# 실습. 로또 번호 뽑기(원초적 방법)\n",
    "import time\n",
    "lotto = []\n",
    "while len(lotto) < 6:\n",
    "    number = random.randint(1, 45)\n",
    "    if number in lotto:\n",
    "        continue\n",
    "    print(number)\n",
    "    lotto.append(number)\n",
    "    time.sleep(1)\n",
    "\n",
    "lotto.sort()\n",
    "print(lotto)\n"
   ]
  },
  {
   "cell_type": "code",
   "execution_count": 112,
   "id": "9dc47d95",
   "metadata": {},
   "outputs": [
    {
     "name": "stdout",
     "output_type": "stream",
     "text": [
      "💻컴퓨터: ✊ vs 🤴user: 가위\n",
      "패🤣\n"
     ]
    }
   ],
   "source": [
    "# 실습. 가위 바위 보 게임 (나의 풀이, 무식한 방법!)\n",
    "import random\n",
    "\n",
    "game = [\"✌\", \"✊\", \"🖐\"]\n",
    "com = random.choice(game)\n",
    "\n",
    "user = input(\"가위, 바위, 보 중 하나를 입력하세요!\")\n",
    "\n",
    "print(f\"💻컴퓨터: {com} vs 🤴user: {user}\")\n",
    "\n",
    "if com == \"✌\":\n",
    "    if user == \"가위\":\n",
    "        print(\"무🤜🤛\")\n",
    "    elif user == \"바위\":\n",
    "        print(\"승🎊\")\n",
    "    else:\n",
    "        print(\"패🤣\")\n",
    "elif com == \"✊\":\n",
    "    if user == \"가위\":\n",
    "        print(\"패🤣\")\n",
    "    elif user == \"바위\":\n",
    "        print(\"무🤜🤛\")\n",
    "    else:\n",
    "        print(\"승🎊\")\n",
    "else:\n",
    "    if user == \"가위\":\n",
    "        print(\"승🎊\")\n",
    "    elif user == \"바위\":\n",
    "        print(\"패🤣\")\n",
    "    else:\n",
    "        print(\"무🤜🤛\")"
   ]
  },
  {
   "cell_type": "code",
   "execution_count": 114,
   "id": "38e7a611",
   "metadata": {},
   "outputs": [
    {
     "name": "stdout",
     "output_type": "stream",
     "text": [
      "💻컴퓨터: 바위 vs 🤴user: 가위\n",
      "승🎊\n",
      "💻컴퓨터: 보 vs 🤴user: 보\n",
      "무🤜🤛\n",
      "💻컴퓨터: 보 vs 🤴user: 바위\n",
      "패🤣\n",
      "💻컴퓨터: 보 vs 🤴user: 바위\n",
      "패🤣\n",
      "💻컴퓨터: 바위 vs 🤴user: 가위\n",
      "승🎊\n",
      "💻컴퓨터: 바위 vs 🤴user: 바위\n",
      "무🤜🤛\n",
      "💻컴퓨터: 바위 vs 🤴user: 보\n",
      "패🤣\n",
      "💻컴퓨터: 바위 vs 🤴user: 보\n",
      "패🤣\n",
      "💻컴퓨터: 보 vs 🤴user: 보\n",
      "무🤜🤛\n",
      "💻컴퓨터: 가위 vs 🤴user: 보\n",
      "패🤣\n",
      "💻컴퓨터: 보 vs 🤴user: 가우\n",
      "🚨 잘못된 입력이에요!\n",
      "💻컴퓨터: 바위 vs 🤴user: 바위\n",
      "무🤜🤛\n",
      "💻컴퓨터: 보 vs 🤴user: 바위\n",
      "패🤣\n",
      "💻컴퓨터: 가위 vs 🤴user: 보\n",
      "패🤣\n",
      "💻컴퓨터: 보 vs 🤴user: 보\n",
      "무🤜🤛\n",
      "💻컴퓨터: 가위 vs 🤴user: 가위\n",
      "무🤜🤛\n",
      "💻컴퓨터: 바위 vs 🤴user: 가위\n",
      "승🎊\n",
      "현재 승리 횟수: 3\n"
     ]
    }
   ],
   "source": [
    "# 실습. 가위 바위 보 게임 만들기\n",
    "import random\n",
    "RPS = [\"가위\", \"바위\", \"보\"]\n",
    "\n",
    "win_count = 0\n",
    "while win_count < 3:\n",
    "    com_choice = random.choice(RPS)\n",
    "    user_choice = input(\"가위, 바위, 보 중 하나를 입력하세요!\")\n",
    "\n",
    "    print(f\"💻컴퓨터: {com_choice} vs 🤴user: {user_choice}\")\n",
    "    if user_choice == com_choice:\n",
    "        print(\"무🤜🤛\")\n",
    "    elif (\n",
    "        (user_choice == \"가위\" and com_choice == \"바위\") or\n",
    "        (user_choice == \"바위\" and com_choice == \"가위\") or\n",
    "        (user_choice == \"보\" and com_choice == \"보\")\n",
    "    ):\n",
    "        print(\"승🎊\")\n",
    "        win_count += 1\n",
    "    elif user_choice in RPS:\n",
    "        print(\"패🤣\")\n",
    "    else:\n",
    "        print(\"🚨 잘못된 입력이에요!\")\n",
    "\n",
    "print(f\"현재 승리 횟수: {win_count}\")"
   ]
  },
  {
   "cell_type": "code",
   "execution_count": 115,
   "id": "b282b73e",
   "metadata": {},
   "outputs": [
    {
     "name": "stdout",
     "output_type": "stream",
     "text": [
      "개강 이후 21일이 지났습니다.\n"
     ]
    },
    {
     "data": {
      "text/plain": [
       "28"
      ]
     },
     "execution_count": 115,
     "metadata": {},
     "output_type": "execute_result"
    }
   ],
   "source": [
    "# datetime 모듈 \n",
    "# 날짜와 시간의 생성, 조작, 현실 변환과 같은 시간 관련 기능을 제공\n",
    "import datetime\n",
    "\n",
    "# 1. 날짜/시간 구하기\n",
    "# 현재 날짜와 시간 구하기\n",
    "now = datetime.datetime.now()\n",
    "# 오늘 날짜만 구하기\n",
    "today = datetime.date.today()\n",
    "\n",
    "# 2. 날짜/시간 형식 변환\n",
    "formatted = now.strftime(\"%Y/%m/%d %H:%M:%S\")\n",
    "formatted\n",
    "parsed = datetime.datetime.strptime(formatted,\"%Y/%m/%d %H:%M:%S\")\n",
    "parsed\n",
    "\n",
    "# 3. 날짜/시간 연산\n",
    "dt = datetime.date(2025, 7, 7)\n",
    "passed_time = today - dt\n",
    "print(f\"개강 이후 {passed_time.days}일이 지났습니다.\")\n",
    "\n",
    "# 4. 요일반환 : weekday\n",
    "# 0: 월요일 ~ 7: 일요일\n",
    "days = [\"월\",\"화\",\"수\",\"목\",\"금\",\"토\",\"일\"]\n",
    "day_num = today.weekday()\n",
    "days[day_num]\n",
    "추석 = datetime.date(2025, 10, 6).weekday()\n",
    "days[추석]\n",
    "# datetime 또는 date 객체에는 년/월/일 시간 등이 속성으로 들어있음\n",
    "datetime.datetime.now().year\n",
    "datetime.date.today().day"
   ]
  },
  {
   "cell_type": "code",
   "execution_count": null,
   "id": "3bd2e185",
   "metadata": {},
   "outputs": [
    {
     "name": "stdout",
     "output_type": "stream",
     "text": [
      "생일까지 84일이 남았습니다.\n",
      "오늘 날짜: 2025-07-28\n",
      "다음 생일: 2025-10-20\n"
     ]
    }
   ],
   "source": [
    "# 실습. 다음 생일까지 남은 날짜 계산하기\n",
    "\n",
    "import datetime\n",
    "\n",
    "# 1. 생일 입력 받기\n",
    "birthday_input = input(\"생일을 입력하세요 (월-일, 예: 07-25): \")\n",
    "\n",
    "# 2. 오늘 날짜 가져오기\n",
    "today = datetime.date.today()\n",
    "\n",
    "# 3. 입력받은 생일을 월, 일로 분리\n",
    "month, day = map(int, birthday_input.split('-'))\n",
    "\n",
    "# 4. 올해 생일 날짜 생성\n",
    "birthday_this_year = datetime.date(today.year, month, day)\n",
    "\n",
    "# 5. 생일까지 남은 날짜 계산\n",
    "if birthday_this_year >= today:\n",
    "    # 올해 생일이 아직 안 지났거나 오늘이 생일인 경우\n",
    "    bd = birthday_this_year\n",
    "else:\n",
    "    # 올해 생일이 지났으면 내년 생일로 설정\n",
    "    bd = datetime.date(today.year + 1, month, day)\n",
    "\n",
    "# 6. 남은 일수 계산\n",
    "wait_time = bd - today\n",
    "print(f\"생일까지 {wait_time.days}일이 남았습니다.\")\n",
    "\n",
    "# 추가 정보!\n",
    "if wait_time.days == 0:\n",
    "    print(\"오늘이 생일이네요! 생일 축하합니다! 🎉🍰\")\n",
    "elif wait_time.days == 1:\n",
    "    print(\"내일이 생일이네요! 🎂\")\n",
    "\n",
    "print(f\"오늘 날짜: {today}\")\n",
    "print(f\"다음 생일: {bd}\")"
   ]
  },
  {
   "cell_type": "code",
   "execution_count": 110,
   "id": "10eaab07",
   "metadata": {},
   "outputs": [
    {
     "name": "stdout",
     "output_type": "stream",
     "text": [
      "   September 2025\n",
      "Mo Tu We Th Fr Sa Su\n",
      " 1  2  3  4  5  6  7\n",
      " 8  9 10 11 12 13 14\n",
      "15 16 17 18 19 20 21\n",
      "22 23 24 25 26 27 28\n",
      "29 30\n",
      "                                  2025\n",
      "\n",
      "      January                   February                   March\n",
      "Mo Tu We Th Fr Sa Su      Mo Tu We Th Fr Sa Su      Mo Tu We Th Fr Sa Su\n",
      "       1  2  3  4  5                      1  2                      1  2\n",
      " 6  7  8  9 10 11 12       3  4  5  6  7  8  9       3  4  5  6  7  8  9\n",
      "13 14 15 16 17 18 19      10 11 12 13 14 15 16      10 11 12 13 14 15 16\n",
      "20 21 22 23 24 25 26      17 18 19 20 21 22 23      17 18 19 20 21 22 23\n",
      "27 28 29 30 31            24 25 26 27 28            24 25 26 27 28 29 30\n",
      "                                                    31\n",
      "\n",
      "       April                      May                       June\n",
      "Mo Tu We Th Fr Sa Su      Mo Tu We Th Fr Sa Su      Mo Tu We Th Fr Sa Su\n",
      "    1  2  3  4  5  6                1  2  3  4                         1\n",
      " 7  8  9 10 11 12 13       5  6  7  8  9 10 11       2  3  4  5  6  7  8\n",
      "14 15 16 17 18 19 20      12 13 14 15 16 17 18       9 10 11 12 13 14 15\n",
      "21 22 23 24 25 26 27      19 20 21 22 23 24 25      16 17 18 19 20 21 22\n",
      "28 29 30                  26 27 28 29 30 31         23 24 25 26 27 28 29\n",
      "                                                    30\n",
      "\n",
      "        July                     August                  September\n",
      "Mo Tu We Th Fr Sa Su      Mo Tu We Th Fr Sa Su      Mo Tu We Th Fr Sa Su\n",
      "    1  2  3  4  5  6                   1  2  3       1  2  3  4  5  6  7\n",
      " 7  8  9 10 11 12 13       4  5  6  7  8  9 10       8  9 10 11 12 13 14\n",
      "14 15 16 17 18 19 20      11 12 13 14 15 16 17      15 16 17 18 19 20 21\n",
      "21 22 23 24 25 26 27      18 19 20 21 22 23 24      22 23 24 25 26 27 28\n",
      "28 29 30 31               25 26 27 28 29 30 31      29 30\n",
      "\n",
      "      October                   November                  December\n",
      "Mo Tu We Th Fr Sa Su      Mo Tu We Th Fr Sa Su      Mo Tu We Th Fr Sa Su\n",
      "       1  2  3  4  5                      1  2       1  2  3  4  5  6  7\n",
      " 6  7  8  9 10 11 12       3  4  5  6  7  8  9       8  9 10 11 12 13 14\n",
      "13 14 15 16 17 18 19      10 11 12 13 14 15 16      15 16 17 18 19 20 21\n",
      "20 21 22 23 24 25 26      17 18 19 20 21 22 23      22 23 24 25 26 27 28\n",
      "27 28 29 30 31            24 25 26 27 28 29 30      29 30 31\n"
     ]
    },
    {
     "data": {
      "text/plain": [
       "calendar.MONDAY"
      ]
     },
     "execution_count": 110,
     "metadata": {},
     "output_type": "execute_result"
    }
   ],
   "source": [
    "# calendar 모듈\n",
    "# 날짜와 달력 관련 기능을 제공\n",
    "import calendar\n",
    "\n",
    "# 1. 달력 조회\n",
    "calendar.prmonth(2025, 9)\n",
    "calendar.prcal(2025)\n",
    "# 텍스트로 값을 변환\n",
    "calendar.month(2025, 9)\n",
    "calendar.calendar(2025)\n",
    "\n",
    "# 요일 반환 \n",
    "calendar.weekday(2025, 7, 7)"
   ]
  },
  {
   "cell_type": "code",
   "execution_count": null,
   "id": "a9bf8d66",
   "metadata": {},
   "outputs": [],
   "source": []
  }
 ],
 "metadata": {
  "kernelspec": {
   "display_name": "python-study",
   "language": "python",
   "name": "python3"
  },
  "language_info": {
   "codemirror_mode": {
    "name": "ipython",
    "version": 3
   },
   "file_extension": ".py",
   "mimetype": "text/x-python",
   "name": "python",
   "nbconvert_exporter": "python",
   "pygments_lexer": "ipython3",
   "version": "3.13.5"
  }
 },
 "nbformat": 4,
 "nbformat_minor": 5
}
