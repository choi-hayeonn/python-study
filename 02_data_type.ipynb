{
 "cells": [
  {
   "cell_type": "markdown",
   "id": "6d645eec",
   "metadata": {},
   "source": [
    "### 2. 자료형(Data type)\n",
    "- 자료의 종류와 구조를 정의하는 것 "
   ]
  },
  {
   "cell_type": "code",
   "execution_count": null,
   "id": "8d76939a",
   "metadata": {},
   "outputs": [
    {
     "ename": "IndentationError",
     "evalue": "unexpected indent (833867755.py, line 12)",
     "output_type": "error",
     "traceback": [
      "  \u001b[36mCell\u001b[39m\u001b[36m \u001b[39m\u001b[32mIn[10]\u001b[39m\u001b[32m, line 12\u001b[39m\n\u001b[31m    \u001b[39m\u001b[31mprint(str)\u001b[39m\n    ^\n\u001b[31mIndentationError\u001b[39m\u001b[31m:\u001b[39m unexpected indent\n"
     ]
    }
   ],
   "source": [
    "# 1. 문자열(string, str)\n",
    "my_str1 = \"\" #빈문자열(O)\n",
    "my_str2 = \" \" #공백문자열(O)\n",
    "my_str3 = \"안녕하세요\" # 요하녕안세 ->문자열은 '순서가 있는 자료형'\n",
    "\n",
    "# 문자열 여러줄로 만들기\n",
    "\n",
    "multi_str = \"\"\"코: 코딩을 한다\n",
    " 딩: 딩딩딩 머리가 울린다 \n",
    " 온: 온제 끝나나\"\"\"\n",
    "\n",
    " print(multi_str)\n"
   ]
  },
  {
   "cell_type": "code",
   "execution_count": 7,
   "id": "d9f91cbc",
   "metadata": {},
   "outputs": [
    {
     "name": "stdout",
     "output_type": "stream",
     "text": [
      "'지식'은 우정을 대신하지 않아\n",
      "\"지식\"은 우정을 대신하지 않아\n"
     ]
    }
   ],
   "source": [
    "# 따옴표 속에 따옴표 쓰기\n",
    "print(\"'지식'은 우정을 대신하지 않아\")\n",
    "print('\"지식\"은 우정을 대신하지 않아')"
   ]
  },
  {
   "cell_type": "code",
   "execution_count": 11,
   "id": "af22699d",
   "metadata": {},
   "outputs": [
    {
     "name": "stdout",
     "output_type": "stream",
     "text": [
      "<class 'int'>\n"
     ]
    }
   ],
   "source": [
    "# 2. 정수형(integer, int)\n",
    "# 크기 제한이 없음\n",
    "my_int1 = 100\n",
    "my_int2 = 10000000000000000000000000000000000000000000000000000000000000000000\n",
    "print(type(my_int1))\n"
   ]
  },
  {
   "cell_type": "code",
   "execution_count": 12,
   "id": "ad09e38b",
   "metadata": {},
   "outputs": [
    {
     "name": "stdout",
     "output_type": "stream",
     "text": [
      "<class 'float'>\n"
     ]
    }
   ],
   "source": [
    "# 3. 실수형(float)\n",
    "# 부동소수점 방식\n",
    "my_float = 3.14\n",
    "my_float = 100.0\n",
    "print(type(my_float))\n"
   ]
  },
  {
   "cell_type": "code",
   "execution_count": 13,
   "id": "0c8ce573",
   "metadata": {},
   "outputs": [
    {
     "name": "stdout",
     "output_type": "stream",
     "text": [
      "True\n",
      "False\n",
      "<class 'bool'>\n",
      "<class 'bool'>\n"
     ]
    }
   ],
   "source": [
    "# 4. 논리형(boolean, bool)\n",
    "# 참(1)과 거짓(0)을 표현하는 자료형\n",
    "print(True)\n",
    "print(False)\n",
    "print(type(True))\n",
    "print(type(False))"
   ]
  }
 ],
 "metadata": {
  "kernelspec": {
   "display_name": "python-study",
   "language": "python",
   "name": "python3"
  },
  "language_info": {
   "codemirror_mode": {
    "name": "ipython",
    "version": 3
   },
   "file_extension": ".py",
   "mimetype": "text/x-python",
   "name": "python",
   "nbconvert_exporter": "python",
   "pygments_lexer": "ipython3",
   "version": "3.13.5"
  }
 },
 "nbformat": 4,
 "nbformat_minor": 5
}
