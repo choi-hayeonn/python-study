{
 "cells": [
  {
   "cell_type": "code",
   "execution_count": null,
   "id": "534c824c",
   "metadata": {},
   "outputs": [],
   "source": [
    "# 이렇게 작성해요.\n",
    "# 단축키는 ctrl + /\n",
    "# 주석을 너무 많이 넣는 것은 지양!\n",
    "# print(\"Hi\") : 일시적으로 코드를 비활성화 할 때도 사용."
   ]
  },
  {
   "cell_type": "markdown",
   "id": "54b3ad09",
   "metadata": {},
   "source": [
    "### 주석 : 코드에 대한 설명을 작성하는 텍스트\n",
    "- 프로그램 실행에 영향을 주지 X"
   ]
  },
  {
   "cell_type": "code",
   "execution_count": null,
   "id": "1208dd5d",
   "metadata": {},
   "outputs": [
    {
     "name": "stdout",
     "output_type": "stream",
     "text": [
      "Hello World~!\n"
     ]
    }
   ],
   "source": [
    "# 출력 : print 함수\n",
    "# 내가 작성한 코드가 잘 작성되었는지 확인! \n",
    "print(\"Hello World~!\")"
   ]
  },
  {
   "cell_type": "code",
   "execution_count": 8,
   "id": "2c1f120e",
   "metadata": {},
   "outputs": [
    {
     "name": "stdout",
     "output_type": "stream",
     "text": [
      "가 나 다\n",
      "가-나-다\n",
      "가,나,다\n",
      "가.나.다\n",
      "\n",
      "\n",
      "안녕하세요.\n",
      "반갑습니다.\n",
      "처음뵙겠습니다.\n",
      "\n",
      "안녕하세요.반갑습니다.처음뵙겠습니다.\n",
      "안녕하세요.-반갑습니다.-처음뵙겠습니다.-"
     ]
    }
   ],
   "source": [
    "# print의 구분자 지정\n",
    "# sep (=sperator)\n",
    "print(\"가\", \"나\", \"다\")\n",
    "print(\"가\", \"나\", \"다\", sep=\"-\")\n",
    "print(\"가\", \"나\", \"다\", sep=\",\")\n",
    "print(\"가\", \"나\", \"다\", sep=\".\")\n",
    "print(\"\")\n",
    "print(\"\")\n",
    "\n",
    "# print의 줄바꿈 옵션\n",
    "# end\n",
    "print(\"안녕하세요.\")\n",
    "print(\"반갑습니다.\")\n",
    "print(\"처음뵙겠습니다.\")\n",
    "print(\"\")\n",
    "print(\"안녕하세요.\", end=\"\")\n",
    "print(\"반갑습니다.\", end=\"\")\n",
    "print(\"처음뵙겠습니다.\", end=\"\")\n",
    "print(\"\")\n",
    "print(\"안녕하세요.\", end=\"-\")\n",
    "print(\"반갑습니다.\", end=\"-\")\n",
    "print(\"처음뵙겠습니다.\", end=\"-\")"
   ]
  },
  {
   "cell_type": "markdown",
   "id": "af3e73cf",
   "metadata": {},
   "source": [
    "### 1. 변수(Variable)\n",
    "- 변수 : 자료를 저장하는 공간(메모리 상에 공간이 있음~~)\n",
    "- 선언 : 변수를 만드는 것\n",
    "- 할당 : 변수에 값을 저장하는 것 \n",
    "- 초기화 : 처음으로 변수에 값을 할당하는 것\n",
    "- = : 대입 연산자 , **등호가 아님!!!** (같다 ➡ ==)\n",
    "  - 변수에 값을 저장한다(할당한다)는 의미\n"
   ]
  },
  {
   "cell_type": "code",
   "execution_count": 4,
   "id": "966be71e",
   "metadata": {},
   "outputs": [
    {
     "name": "stdout",
     "output_type": "stream",
     "text": [
      "저장할 자료\n",
      "저장할 자료\n",
      "저장할 자료\n"
     ]
    }
   ],
   "source": [
    "# 변수의 선언과 할당\n",
    "변수이름 = \"저장할 자료\"\n",
    "print(변수이름)\n",
    "print(변수이름)\n",
    "print(변수이름)\n",
    "\n"
   ]
  },
  {
   "cell_type": "code",
   "execution_count": 5,
   "id": "5a8055bd",
   "metadata": {},
   "outputs": [],
   "source": [
    "# 1st_place = \"Gold\"\n",
    "first_place = \"Gold\"\n",
    "\n",
    "# user name = \"Alice\"\n",
    "user_name = \"Alice\"\n",
    "\n",
    "# class = \"Math\"\n",
    "class_name = \"Math\""
   ]
  },
  {
   "cell_type": "code",
   "execution_count": null,
   "id": "7367e9dc",
   "metadata": {},
   "outputs": [
    {
     "name": "stdout",
     "output_type": "stream",
     "text": [
      "반갑습니다\n",
      "선언과 함께 초기화를 해줘야 함~~~\n"
     ]
    }
   ],
   "source": [
    "# 변수의 특징\n",
    "# 저장한 값을 바꿀 수 있다.\n",
    "# 단, 한번에 하나씩만 저장된다.\n",
    "인사 = \"안녕하세요\"\n",
    "인사 = \"반갑습니다\"\n",
    "print(인사)\n",
    "\n",
    "# 파이썬에서 변수는 선언과 함께 초기화를 해야함.\n",
    "# 새로운변수 (X)\n",
    "새로운변수 = \"선언과 함께 초기화를 해줘야 함\"\n",
    "print(새로운변수)"
   ]
  },
  {
   "cell_type": "code",
   "execution_count": 1,
   "id": "043775e5",
   "metadata": {},
   "outputs": [
    {
     "name": "stdout",
     "output_type": "stream",
     "text": [
      "1 2 3\n",
      "4 5 6\n"
     ]
    }
   ],
   "source": [
    "# 한 줄에 여러 변수 만들기\n",
    "a = 1\n",
    "b = 2\n",
    "c = 3\n",
    "\n",
    "d, e, f = 4, 5, 6\n",
    "\n",
    "print(a, b, c)\n",
    "print(d, e, f)\n"
   ]
  },
  {
   "cell_type": "code",
   "execution_count": 3,
   "id": "e35b94bf",
   "metadata": {},
   "outputs": [
    {
     "name": "stdout",
     "output_type": "stream",
     "text": [
      "20 10\n"
     ]
    }
   ],
   "source": [
    "\n",
    "x = 10\n",
    "y = 20\n",
    "x, y = y, x\n",
    "print(x, y)"
   ]
  },
  {
   "cell_type": "code",
   "execution_count": null,
   "id": "6950bc75",
   "metadata": {},
   "outputs": [],
   "source": []
  }
 ],
 "metadata": {
  "kernelspec": {
   "display_name": "python-study",
   "language": "python",
   "name": "python3"
  },
  "language_info": {
   "codemirror_mode": {
    "name": "ipython",
    "version": 3
   },
   "file_extension": ".py",
   "mimetype": "text/x-python",
   "name": "python",
   "nbconvert_exporter": "python",
   "pygments_lexer": "ipython3",
   "version": "3.13.5"
  }
 },
 "nbformat": 4,
 "nbformat_minor": 5
}
