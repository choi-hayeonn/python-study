{
 "cells": [
  {
   "cell_type": "markdown",
   "id": "6cee2033",
   "metadata": {},
   "source": [
    "### 08. 딕셔너리\n",
    " - **키(key)-값(value) 쌍(pair)**으로 묶어 데이터를 저장하는 자료형\n",
    " - 키는 유일(=불변)해야 함. 값은 중복 가능.\n",
    " - 변경 가능한 자료형\n",
    " - 순서가 보장되지 않았다가 → py 3.7 버전 이후 순서가 보장됨.\n",
    " - 장점: \n",
    "     - 빠른 검색 : 키를 통해 값을 매우 빠르게 찾을 수 있음 (해시 기반)\n",
    "     - 명확한 구조 : 각 항목이 어떤 의미를 가지는지 명확함 (key로 의미 부여 가능)"
   ]
  },
  {
   "cell_type": "code",
   "execution_count": null,
   "id": "4661ab6f",
   "metadata": {},
   "outputs": [
    {
     "name": "stdout",
     "output_type": "stream",
     "text": [
      "{} <class 'dict'>\n",
      "{'name': '최하연', 'age': 25}\n",
      "{} <class 'dict'>\n",
      "{'Title': 'interstellar', 'Director': 'Christopher Nolan'}\n",
      "{'name': '하연', 'age': 25, 'job': 'student'}\n",
      "[('Title', '기생충'), ('Director', '봉준호'), ('Year', '2019')]\n",
      "{'Title': '기생충', 'Director': '봉준호', 'Year': '2019'}\n"
     ]
    }
   ],
   "source": [
    "# dict 만들기\n",
    "\n",
    "d1 = {}                # 빈 dict 만들기\n",
    "print(d1, type(d1))\n",
    "person = { \"name\" : \"최하연\", \"age\" : 25 }\n",
    "print(person)\n",
    "\n",
    "# dict 함수로 생성\n",
    "d2 = dict()            # 빈 dict 만들기\n",
    "print(d2, type(d2))\n",
    "\n",
    "# 키가 문자열일 때 가능\n",
    "movie = dict(Title = \"interstellar\", Director = \"Christopher Nolan\")\n",
    "print(movie)\n",
    "\n",
    "# 리스트나 튜플로 만들기\n",
    "pairs = [(\"name\", \"하연\"), (\"age\", 25), (\"job\", \"student\")]\n",
    "person2 = dict(pairs)\n",
    "print(person2)\n",
    "\n",
    "# zip 함수 활용\n",
    "keys = [\"Title\", \"Director\", \"Year\"]\n",
    "values = [\"기생충\", \"봉준호\", \"2019\"]\n",
    "print(list(zip(keys, values)))         # zip 함수: 인덱스가 같은 것끼리 모아줌.\n",
    "movie2 = dict(zip(keys, values))\n",
    "print(movie2)"
   ]
  },
  {
   "cell_type": "code",
   "execution_count": 2,
   "id": "c9d6ece8",
   "metadata": {},
   "outputs": [
    {
     "ename": "TypeError",
     "evalue": "unhashable type: 'list'",
     "output_type": "error",
     "traceback": [
      "\u001b[31m---------------------------------------------------------------------------\u001b[39m",
      "\u001b[31mTypeError\u001b[39m                                 Traceback (most recent call last)",
      "\u001b[36mCell\u001b[39m\u001b[36m \u001b[39m\u001b[32mIn[2]\u001b[39m\u001b[32m, line 6\u001b[39m\n\u001b[32m      3\u001b[39m d1 = {(\u001b[32m1\u001b[39m,\u001b[32m2\u001b[39m,\u001b[32m3\u001b[39m) : (\u001b[32m1\u001b[39m,\u001b[32m2\u001b[39m,\u001b[32m3\u001b[39m)}       \u001b[38;5;66;03m# 튜플 사용 가능\u001b[39;00m\n\u001b[32m      4\u001b[39m d2 = { \u001b[32m1\u001b[39m : \u001b[32m10\u001b[39m }                \u001b[38;5;66;03m# 숫자형 가능\u001b[39;00m\n\u001b[32m----> \u001b[39m\u001b[32m6\u001b[39m d3 = {[\u001b[32m1\u001b[39m,\u001b[32m2\u001b[39m,\u001b[32m3\u001b[39m]: \u001b[33m\"\u001b[39m\u001b[33m리스트를 키로?\u001b[39m\u001b[33m\"\u001b[39m}   \u001b[38;5;66;03m# 리스트는 가변 자료형이라 에러가 난다.\u001b[39;00m\n\u001b[32m      7\u001b[39m d4 = {{\u001b[32m1\u001b[39m,\u001b[32m2\u001b[39m,\u001b[32m3\u001b[39m}: \u001b[33m\"\u001b[39m\u001b[33m셋을 키로?\u001b[39m\u001b[33m\"\u001b[39m}      \u001b[38;5;66;03m# 셋도 가변 자료형이라 에러가 난다.\u001b[39;00m\n",
      "\u001b[31mTypeError\u001b[39m: unhashable type: 'list'"
     ]
    }
   ],
   "source": [
    "# key로 사용할 수 없는 자료형\n",
    "# key는 불변자료형을 사용해야 함.\n",
    "d1 = {(1,2,3) : (1,2,3)}       # 튜플 사용 가능\n",
    "d2 = { 1 : 10 }                # 숫자형 가능\n",
    "\n",
    "d3 = {[1,2,3]: \"리스트를 키로?\"}   # 리스트는 가변 자료형이라 에러가 난다.\n",
    "d4 = {{1,2,3}: \"셋을 키로?\"}      # 셋도 가변 자료형이라 에러가 난다."
   ]
  },
  {
   "cell_type": "code",
   "execution_count": 7,
   "id": "0a42b22d",
   "metadata": {},
   "outputs": [
    {
     "name": "stdout",
     "output_type": "stream",
     "text": [
      "최하연\n",
      "25\n",
      "\n",
      "최하연\n",
      "student\n",
      "None\n",
      "이메일이 존재하지 않습니다\n",
      "{'name': '최하연', 'age': 25, 'job': 'student'}\n"
     ]
    }
   ],
   "source": [
    "# dict 데이터 조회 \n",
    "person = { \"name\" : \"최하연\", \"age\" : 25, \"job\" : \"student\" }\n",
    "\n",
    "# 키를 통해 데이터 조회\n",
    "print(person[\"name\"])\n",
    "print(person[\"age\"])\n",
    "# print(person[\"city\"])  # 존재하지 않는 키로 조회 → KeyError\n",
    "print()\n",
    "\n",
    "# get 메서드를 활용한 조회\n",
    "print(person.get(\"name\"))\n",
    "print(person.get(\"job\"))\n",
    "# 존재하지 않는 키로 조회\n",
    "print(person.get(\"email\"))  # default 지정 안 할 시 none 출력\n",
    "print(person.get(\"email\", \"이메일이 존재하지 않습니다\"))  # default 값 지정 가능\n",
    "print(person)"
   ]
  },
  {
   "cell_type": "code",
   "execution_count": 10,
   "id": "cfa98720",
   "metadata": {},
   "outputs": [
    {
     "name": "stdout",
     "output_type": "stream",
     "text": [
      "gkdus@naver.com\n"
     ]
    }
   ],
   "source": [
    "# get 사용 예제\n",
    "user_data = {\n",
    "    \"username\" : \"최하연\",\n",
    "    \"email\" : \"gkdus@naver.com\",\n",
    "    \"password\" : \"1233\"\n",
    "}\n",
    "\n",
    "key = input(\"조회할 정보를 입력하세요(username, email, password)\")\n",
    "result = user_data.get(key, \"존재하지 않는 데이터 입니다.\")\n",
    "print(result)"
   ]
  },
  {
   "cell_type": "code",
   "execution_count": null,
   "id": "559cac81",
   "metadata": {},
   "outputs": [
    {
     "name": "stdout",
     "output_type": "stream",
     "text": [
      "{'username': '하연최', 'email': 'gkdus@naver.com', 'nickname': '하연'}\n",
      "{'Title': 'Superman', 'Director': 'James Gunn', 'Year': 2025, 'actor': '브로스나한', 'Rating': '4.0 / 5.0'}\n",
      "{'Title': 'Superman', 'Director': 'James Gunn', 'Year': 2025, 'actor': '브로스나한', 'Rating': '4.0 / 5.0', 'year': '알 수 없음', '제작사': 'DC_스튜디오'}\n",
      "{'Title': 'Superman', 'Director': 'James Gunn', 'Year': 2025, 'Rating': '4.0 / 5.0', 'year': '알 수 없음', '제작사': 'DC_스튜디오'}\n",
      "{'Title': 'Superman', 'Director': 'James Gunn', 'Year': 2025, 'year': '알 수 없음', '제작사': 'DC_스튜디오'}  ///  4.0 / 5.0\n",
      "{'Title': 'Superman', 'Director': 'James Gunn', 'Year': 2025, 'year': '알 수 없음'}  ///  ('제작사', 'DC_스튜디오')\n",
      "{}\n"
     ]
    }
   ],
   "source": [
    "# 데이터 추가 및 수정\n",
    "user_data = {\n",
    "    \"username\" : \"최하연\",\n",
    "    \"email\" : \"gkdus@naver.com\",\n",
    "}\n",
    "\n",
    "# 기본적인 추가&수정 방법\n",
    "user_data[\"nickname\"] = \"하연\"   # 없는거면 추가되고\n",
    "user_data[\"username\"] = \"하연최\"  # 있는거면 수정된다.\n",
    "\n",
    "print(user_data)\n",
    "\n",
    "# update 메서드 활용\n",
    "movie_data = {\n",
    "    \"Title\" : \"Superman\", \n",
    "    \"Director\" : \"James Gunn\"\n",
    "}\n",
    "movie_data.update({\n",
    "    \"Year\" : 2025 \n",
    "})\n",
    "\n",
    "# 키가 문자열인 경우\n",
    "movie_data.update(actor=\"니콜라스 홀트\")\n",
    "\n",
    "# 다른 딕셔너리 추가\n",
    "extra_data = {\"Rating\" : \"4.0 / 5.0\", \"actor\": \"브로스나한\"}\n",
    "movie_data.update(extra_data)\n",
    "print(movie_data)\n",
    "\n",
    "# setdefault\n",
    "movie_data.setdefault(\"year\", \"알 수 없음\")   # 있으면 무시하고,\n",
    "movie_data.setdefault(\"제작사\", \"DC_스튜디오\") # 없으면 추가한다\n",
    "print(movie_data)\n",
    "\n",
    "# 데이터 삭제\n",
    "del movie_data[\"actor\"]\n",
    "print(movie_data)\n",
    "\n",
    "# 키로 제거\n",
    "rating = movie_data.pop(\"Rating\")\n",
    "print(movie_data, rating, sep = \"  ///  \")\n",
    "\n",
    "# 가장 마지막 요소 제거\n",
    "Year = movie_data.popitem()\n",
    "print(movie_data, Year, sep=\"  ///  \")\n",
    "\n",
    "# dict 비우기\n",
    "movie_data.clear()\n",
    "print(movie_data)\n",
    "\n",
    "# dict 삭제하기\n",
    "# del movie_data # NameError 발생"
   ]
  },
  {
   "cell_type": "code",
   "execution_count": 28,
   "id": "b6eed0d7",
   "metadata": {},
   "outputs": [
    {
     "name": "stdout",
     "output_type": "stream",
     "text": [
      "키 ['username', 'email', 'password']\n",
      "값 ['최하연', 'gkdus@naver.com', '1233']\n",
      "쌍 [('username', '최하연'), ('email', 'gkdus@naver.com'), ('password', '1233')]\n"
     ]
    }
   ],
   "source": [
    "# 딕셔너리 메서드\n",
    "user_data = {\n",
    "    \"username\" : \"최하연\",\n",
    "    \"email\" : \"gkdus@naver.com\",\n",
    "    \"password\" : \"1233\"\n",
    "}\n",
    "\n",
    "# keys 모든 키를 반환\n",
    "print(\"키\", list(user_data.keys())) # 리스트로 변환해서 출력\n",
    "# values : 모든 값을 반환\n",
    "print(\"값\", list(user_data.values())) # 리스트로 변환해서 출력\n",
    "# items : 모든 키값쌍을 반환\n",
    "print(\"쌍\", list(user_data.items())) # 리스트로 변환해서 출력"
   ]
  },
  {
   "cell_type": "code",
   "execution_count": null,
   "id": "60726fcf",
   "metadata": {},
   "outputs": [
    {
     "name": "stdout",
     "output_type": "stream",
     "text": [
      "sky@example.com\n",
      "미입력\n",
      "{'username': 'skywalker', 'level': 6, 'nickname': 'sky', 'signup_date': '2025-07-10'}\n"
     ]
    }
   ],
   "source": [
    "# 실습. 딕셔너리 종합 연습 문제\n",
    "# 문제 1. 딕셔너리 핵심 개념 통합 실습\n",
    "\n",
    "#  1단계: 빈 딕셔너리 생성 : user라는 이름의 빈 딕셔너리를 생성하세요.\n",
    "user = {}\n",
    "#  2단계: 사용자 기본 정보 추가\n",
    "user[\"username\"] = \"skywalker\"\n",
    "user[\"email\"] =  \"sky@example.com\"\n",
    "user[\"level\"] = 5\n",
    "#  3단계: 값 읽기 - \"email\" 값을 변수 email_value에 저장하고 출력하세요.\n",
    "email_value = user[\"email\"]\n",
    "print(email_value)\n",
    "# 4단계: 값 수정 - \"level\" 값을 6으로 수정하세요.\n",
    "user[\"level\"] = 6\n",
    "# 5단계: 안전하게 키 조회 - 딕셔너리에 \"phone\" 키가 없다면 \"미입력\"이라는 문자열을 출력하도록 하세요.\n",
    "print(user.get(\"phone\", \"미입력\"))\n",
    "# 6단계: 항목 추가 및 삭제\n",
    "nickname = {\"nickname\" : \"sky\"}\n",
    "user.update(nickname)\n",
    "del user[\"email\"]\n",
    "user.setdefault(\"signup_date\", \"2025-07-10\")\n",
    "\n",
    "print(user)"
   ]
  },
  {
   "cell_type": "code",
   "execution_count": null,
   "id": "acc11789",
   "metadata": {},
   "outputs": [
    {
     "name": "stdout",
     "output_type": "stream",
     "text": [
      "{'Alice': 88, 'Charlie': 95, 'David': 80}\n"
     ]
    }
   ],
   "source": [
    "# 문제 2. 학생 점수 관리\n",
    "# 1단계: 빈 딕셔너리 students를 생성한다\n",
    "students = {}\n",
    "# 2단계: \"Alice\", \"Bob\", \"Charlie\" 세 학생의 점수를 각각 85, 90, 95로 추가한다.\n",
    "students.update(Alice = 85, Bob = 90, Charlie = 95)\n",
    "# 3단계: \"David\" 학생의 점수(80)를 추가한다\n",
    "students[\"David\"] = 80\n",
    "# 4단계: \"Alice\"의 점수를 88로 수정한다.\n",
    "students[\"Alice\"] = 88\n",
    "# 5단계: \"Bob\"을 딕셔너리에서 삭제한다.\n",
    "students.pop(\"Bob\")\n",
    "# 6단계: 최종 students 딕셔너리를 출력한다.\n",
    "print(students)\n"
   ]
  }
 ],
 "metadata": {
  "kernelspec": {
   "display_name": "python-study",
   "language": "python",
   "name": "python3"
  },
  "language_info": {
   "codemirror_mode": {
    "name": "ipython",
    "version": 3
   },
   "file_extension": ".py",
   "mimetype": "text/x-python",
   "name": "python",
   "nbconvert_exporter": "python",
   "pygments_lexer": "ipython3",
   "version": "3.13.5"
  }
 },
 "nbformat": 4,
 "nbformat_minor": 5
}
