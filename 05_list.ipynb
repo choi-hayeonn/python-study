{
 "cells": [
  {
   "cell_type": "markdown",
   "id": "b1da3c67",
   "metadata": {},
   "source": [
    "### 05. 리스트\n",
    " - 여러 값들을 *순서대로* 저장할 수 있는 자료형\n",
    " - 인덱스(index) : 자료에 부여된 순서 번호 → 인덱스로 각 원소에 접근 가능\n",
    " - 가변 자료형(mutable) : 원소의 추가/수정/삭제가 자유로움"
   ]
  },
  {
   "cell_type": "code",
   "execution_count": null,
   "id": "6839d614",
   "metadata": {},
   "outputs": [
    {
     "name": "stdout",
     "output_type": "stream",
     "text": [
      "[]\n",
      "['안녕하세요', '반갑습니다', '어서오세요']\n",
      "[10, '아주 좋아요', 3.14, [1, 2, 3, 4]]\n",
      "[]\n",
      "['C', 'o', 'd', 'i', 'n', 'g', ' ', 'O', 'n']\n"
     ]
    }
   ],
   "source": [
    "# 리스트 만들기\n",
    "내_리스트1 = [] # 빈 리스트\n",
    "print(내_리스트1)\n",
    "\n",
    "# 리스트에 자료를 저장\n",
    "내_리스트2 = [\"안녕하세요\", \"반갑습니다\", \"어서오세요\"]\n",
    "내_리스트3 = [10, \"아주 좋아요\", 3.14, [1,2,3,4]] \n",
    "print(내_리스트2)\n",
    "print(내_리스트3)\n",
    "\n",
    "# 리스트 생성함수로 만들기\n",
    "내_리스트4 = list() # 빈 리스트\n",
    "print(내_리스트4)\n",
    "\n",
    "# 이터러블을 리스트로 변환\n",
    "내_리스트5 = list(\"Coding On\")\n",
    "print(내_리스트5)"
   ]
  },
  {
   "cell_type": "code",
   "execution_count": null,
   "id": "db38cfbb",
   "metadata": {},
   "outputs": [
    {
     "name": "stdout",
     "output_type": "stream",
     "text": [
      "1\n",
      "3\n",
      "2\n",
      "5\n",
      "4\n",
      "40\n"
     ]
    }
   ],
   "source": [
    "### 인덱싱(indexing)과 슬라이싱(slicing)\n",
    "#### 인덱스 : 원소의 순서 번호, 0번 부터 출발함\n",
    "#### 인덱싱 : 인덱스를 통해 값(원소)을 조회하는 것\n",
    "#### 음수 인덱스 : 뒤에서부터 자료에 접근 \n",
    "my_list = [1, 2, 3, 4, 5]\n",
    "print(my_list[0])\n",
    "print(my_list[2])\n",
    "print(my_list[1])\n",
    "print(my_list[-1])\n",
    "print(my_list[3])\n",
    "my_list[3] = 40 # 인덱스로 원소에 접근해서 값 수정 가능\n",
    "print(my_list[3])"
   ]
  },
  {
   "cell_type": "code",
   "execution_count": 37,
   "id": "0e40d2a6",
   "metadata": {},
   "outputs": [
    {
     "name": "stdout",
     "output_type": "stream",
     "text": [
      "d\n",
      "O\n"
     ]
    }
   ],
   "source": [
    "# 문자열 인덱싱\n",
    "my_str = \"CodingOn\"\n",
    "print(my_str[2])\n",
    "print(my_str[-2])\n",
    "# my_str[0] = 'N' # 안 됨. → 문자열은 불변 자료형이기 때문에\n"
   ]
  },
  {
   "cell_type": "code",
   "execution_count": 30,
   "id": "c165d27b",
   "metadata": {},
   "outputs": [
    {
     "name": "stdout",
     "output_type": "stream",
     "text": [
      "[20, 30, 40]\n",
      "[40, 50, 60, 70, 80, 90, 100]\n",
      "[10, 20, 30, 40]\n",
      "[20, 40, 60, 80, 100]\n",
      "[10, 30, 50, 70, 90]\n",
      "[10, 20, 30, 40, 50, 60, 70, 80, 90, 100]\n",
      "[100, 90, 80, 70, 60, 50, 40, 30, 20, 10]\n",
      "[300, 400]\n"
     ]
    }
   ],
   "source": [
    "# 슬라이싱(Slicing)\n",
    "# 시퀀스에서 특정 구간을 잘라내서 추출하는 방법\n",
    "# 원본은 변경X → 새로운 시퀀스 생성\n",
    "# 시퀀스[시작:끝:간격]\n",
    "my_numbers = [10,20,30,40,50,60,70,80,90,100]\n",
    "print(my_numbers[1:4])\n",
    "print(my_numbers[3:])\n",
    "print(my_numbers[:4])\n",
    "sliced = my_numbers[:4]\n",
    "print(my_numbers[1::2]) # 짝수만\n",
    "print(my_numbers[0::2]) # 홀수만\n",
    "print(my_numbers[:]) # 같은 리스트를 복제\n",
    "print(my_numbers[::-1]) # 뒤집어서 복제\n",
    "my_numbers[2:4] = [300,400]\n",
    "print(my_numbers[2:4])"
   ]
  },
  {
   "cell_type": "code",
   "execution_count": 32,
   "id": "1ae00cac",
   "metadata": {},
   "outputs": [
    {
     "data": {
      "text/plain": [
       "[100, 200]"
      ]
     },
     "execution_count": 32,
     "metadata": {},
     "output_type": "execute_result"
    }
   ],
   "source": [
    "# 리스트에 값 추가하기\n",
    "my_list = []\n",
    "my_list.append(100)\n",
    "my_list.append(200)\n",
    "\n",
    "my_list"
   ]
  },
  {
   "cell_type": "code",
   "execution_count": 66,
   "id": "4c6e1552",
   "metadata": {},
   "outputs": [
    {
     "name": "stdout",
     "output_type": "stream",
     "text": [
      "문제 1.\n",
      "첫 번째 요소: 10\n",
      "마지막 요소: 50\n",
      "\n",
      "문제 2.\n",
      "가운데 세 개의 요소 추출하기: [300, 400, 500]\n",
      "\n",
      "문제 3.\n",
      "리스트의 원소 두배 하기: [2, 4, 6, 8, 10]\n",
      "\n",
      "문제 4.\n",
      "리스트 뒤집어서 출력하기: ['e', 'd', 'c', 'b', 'a']\n",
      "\n",
      "문제 5.\n",
      "짝수 인덱스 요소만 출력하기: ['zero', 'two', 'four']\n",
      "\n",
      "문제 6.\n",
      "슬라이싱으로 리스트 수정하기: ['인셉션', '인터스텔라', '매트리스', '타이타닉', '기생충']\n",
      "\n",
      "문제 7.\n",
      "특정 규칙에 따라 요소 추출: ['물리', '생물', '지구과학']\n",
      "\n",
      "문제 8.\n",
      "리스트를 3개 구간으로 나누어 역순 병합: ['C', 'B', 'A'], ['F', 'E', 'D'], ['I', 'H', 'G']\n",
      "\n",
      "문제 8*.\n",
      "리스트를 3개 구간으로 나누어 역순 병합: ['C', 'B', 'A'] ['F', 'E', 'D'] ['I', 'H', 'G'] "
     ]
    }
   ],
   "source": [
    "# list 실습\n",
    "# 문제 1.\n",
    "print(\"문제 1.\")\n",
    "nums = [10, 20, 30, 40, 50]\n",
    "print(f\"첫 번째 요소: {nums[0]}\")\n",
    "print(f\"마지막 요소: {nums[4]}\")\n",
    "print(\"\")\n",
    "\n",
    "# 문제 2.\n",
    "print(\"문제 2.\")\n",
    "nums = [100, 200, 300, 400, 500, 600, 700]\n",
    "print(f\"가운데 세 개의 요소 추출하기: {nums[2:5]}\")\n",
    "print(\"\")\n",
    "\n",
    "# 문제 3.\n",
    "print(\"문제 3.\")\n",
    "nums = [1, 2, 3, 4, 5]\n",
    "nums[0] *= 2\n",
    "nums[1] *= 2\n",
    "nums[2] *= 2\n",
    "nums[3] *= 2\n",
    "nums[4] *= 2\n",
    "print(f\"리스트의 원소 두배 하기: {nums}\")\n",
    "print(\"\")\n",
    "\n",
    "# 문제 4.\n",
    "print(\"문제 4.\")\n",
    "items = [\"a\", \"b\", \"c\", \"d\", \"e\"]\n",
    "print(f\"리스트 뒤집어서 출력하기: {items[::-1]}\")\n",
    "print(\"\")\n",
    "\n",
    "# 문제 5.\n",
    "print(\"문제 5.\")\n",
    "data = [\"zero\", \"one\", \"two\", \"three\", \"four\", \"five\"]\n",
    "print(f\"짝수 인덱스 요소만 출력하기: {data[::2]}\")\n",
    "print(\"\")\n",
    "\n",
    "# 문제 6.\n",
    "print(\"문제 6.\")\n",
    "movies = [\"인셉션\", \"인터스텔라\", \"어벤져스\", \"라라랜드\", \"기생충\"]\n",
    "movies[2:4] = [\"매트리스\", \"타이타닉\"]\n",
    "print(f\"슬라이싱으로 리스트 수정하기: {movies}\")\n",
    "print(\"\")\n",
    "\n",
    "# 문제 7.\n",
    "print(\"문제 7.\")\n",
    "subjects = [\"국어\", \"수학\", \"영어\", \"물리\", \"화학\", \"생물\", \"역사\", \"지구과학\", \"윤리\"]\n",
    "print(f\"특정 규칙에 따라 요소 추출: {subjects[3:8:2]}\")\n",
    "print(\"\")\n",
    "\n",
    "# 문제 8.\n",
    "print(\"문제 8.\")\n",
    "data = [\"A\", \"B\", \"C\", \"D\", \"E\", \"F\", \"G\", \"H\", \"I\"]\n",
    "data1 = data[:3]\n",
    "data2 = data[3:6]\n",
    "data3 = data[6:]\n",
    "print(f\"리스트를 3개 구간으로 나누어 역순 병합: {data1[::-1]}, {data2[::-1]}, {data3[::-1]}\")\n",
    "print(\"\")\n",
    "\n",
    "# 문제 8*.\n",
    "print(\"문제 8*.\")\n",
    "data = [\"A\", \"B\", \"C\", \"D\", \"E\", \"F\", \"G\", \"H\", \"I\"]\n",
    "data1 = data[:3]\n",
    "data2 = data[3:6]\n",
    "data3 = data[6:]\n",
    "print(\"리스트를 3개 구간으로 나누어 역순 병합\", end=\": \")\n",
    "print(data[:3][::-1], end=\" \")\n",
    "print(data[3:6][::-1], end=\" \")\n",
    "print(data[6:][::-1], end=\" \")\n"
   ]
  },
  {
   "cell_type": "code",
   "execution_count": null,
   "id": "75226ac5",
   "metadata": {},
   "outputs": [
    {
     "ename": "IndexError",
     "evalue": "list index out of range",
     "output_type": "error",
     "traceback": [
      "\u001b[31m---------------------------------------------------------------------------\u001b[39m",
      "\u001b[31mIndexError\u001b[39m                                Traceback (most recent call last)",
      "\u001b[36mCell\u001b[39m\u001b[36m \u001b[39m\u001b[32mIn[77]\u001b[39m\u001b[32m, line 3\u001b[39m\n\u001b[32m      1\u001b[39m \u001b[38;5;66;03m# 범위에서 벗어난 인덱스를 입력했을 때\u001b[39;00m\n\u001b[32m      2\u001b[39m my_list = [\u001b[32m1\u001b[39m,\u001b[32m2\u001b[39m,\u001b[32m3\u001b[39m,\u001b[32m4\u001b[39m]\n\u001b[32m----> \u001b[39m\u001b[32m3\u001b[39m \u001b[43mmy_list\u001b[49m\u001b[43m[\u001b[49m\u001b[32;43m4\u001b[39;49m\u001b[43m]\u001b[49m\n",
      "\u001b[31mIndexError\u001b[39m: list index out of range"
     ]
    }
   ],
   "source": [
    "# 범위에서 벗어난 인덱스를 입력했을 때 → IndexError\n",
    "my_list = [1,2,3,4]\n",
    "my_list[4]\n"
   ]
  },
  {
   "cell_type": "code",
   "execution_count": null,
   "id": "c7b0aedb",
   "metadata": {},
   "outputs": [
    {
     "name": "stdout",
     "output_type": "stream",
     "text": [
      "[]\n",
      "[]\n"
     ]
    }
   ],
   "source": [
    "# 슬라이싱 할 때 주의사항 \n",
    "my_list = [1,2,3,4,5]\n",
    "\n",
    "# step에 양수를 넣었는데, start에서 end를 감소시키면 → 빈 리스트 반환\n",
    "print(my_list[4:1:2])\n",
    "# step에 음수를 넣었는데, start에서 end를 증가시키면 → 빈 리스트 반환\n",
    "print(my_list[1:3:-1])"
   ]
  },
  {
   "cell_type": "code",
   "execution_count": 106,
   "id": "0c9ae070",
   "metadata": {},
   "outputs": [
    {
     "name": "stdout",
     "output_type": "stream",
     "text": [
      "[10, 20, 40, 50]\n",
      "[10, 50]\n"
     ]
    }
   ],
   "source": [
    "# 리스트 연산\n",
    "\n",
    "# del 키워드 : 범용 삭제 키워드, 리스트 외에도 딕셔너리 등에 사용 가능\n",
    "\n",
    "my_list = [10,20,30,40,50]\n",
    "\n",
    "# 30 삭제\n",
    "del my_list[2]\n",
    "print(my_list)\n",
    "# 20, 40 삭제\n",
    "del my_list[1:3]\n",
    "print(my_list)\n",
    "### → 가변 자료형만 가능\n",
    "\n",
    "# 리스트 삭제\n",
    "del my_list\n",
    "# print(my_list) # 에러발생\n",
    "### → 가변, 불변 자료형 다 가능"
   ]
  },
  {
   "cell_type": "code",
   "execution_count": null,
   "id": "4ae23489",
   "metadata": {},
   "outputs": [
    {
     "name": "stdout",
     "output_type": "stream",
     "text": [
      "['가', '나', '다'] / ['라', '마', '바'] / ['가', '나', '다', '라', '마', '바']\n"
     ]
    }
   ],
   "source": [
    "# 리스트 연결 (+)\n",
    "my_list1 = [\"가\", \"나\", \"다\"]\n",
    "my_list2 = [\"라\", \"마\", \"바\"]\n",
    "\n",
    "# 원본 대상은 변경되지 않고 새로운 리스트를 반환\n",
    "new_list = my_list1 + my_list2\n",
    "print(my_list1, my_list2, new_list, sep=\" / \")"
   ]
  },
  {
   "cell_type": "code",
   "execution_count": null,
   "id": "cf77cf52",
   "metadata": {},
   "outputs": [
    {
     "name": "stdout",
     "output_type": "stream",
     "text": [
      "['금', '은', '동'] / ['금', '은', '동', '금', '은', '동', '금', '은', '동']\n"
     ]
    }
   ],
   "source": [
    "# 리스트 반복(*)\n",
    "my_list = [\"금\", \"은\", \"동\"]\n",
    "\n",
    "# 리스트 * 정수\n",
    "# 원본 대상은 변경되지 않고 새로운 리스트를 반환\n",
    "new_list = my_list * 3\n",
    "print(my_list, new_list, sep=\" / \")"
   ]
  },
  {
   "cell_type": "code",
   "execution_count": 97,
   "id": "ced5e47e",
   "metadata": {},
   "outputs": [
    {
     "name": "stdout",
     "output_type": "stream",
     "text": [
      "True\n",
      "False\n",
      "\n",
      "False\n",
      "True\n",
      "\n",
      "참외는 없어요.\n"
     ]
    }
   ],
   "source": [
    "# 원소의 포함 여부 검사(in, not in)\n",
    "fruits = [\"토마토\", \"사과\", \"포도\", \"수박\", \"바나나\"]\n",
    "\n",
    "print(\"포도\" in fruits)\n",
    "print(\"포도\" not in fruits)\n",
    "\n",
    "print(\"\")\n",
    "print(\"복숭아\" in fruits)\n",
    "print(\"복숭아\" not in fruits)\n",
    "\n",
    "print(\"\")\n",
    "if \"참외\" not in fruits:\n",
    "    print(\"참외는 없어요.\")\n",
    "else:\n",
    "    print(\"참외 있어요.\")"
   ]
  },
  {
   "cell_type": "code",
   "execution_count": null,
   "id": "0936ff5a",
   "metadata": {},
   "outputs": [
    {
     "name": "stdout",
     "output_type": "stream",
     "text": [
      "['apple', 'watermelon', 'strawberry']\n",
      "\n",
      "['A', 'B', 'B', 'A', 'B']\n"
     ]
    }
   ],
   "source": [
    "# 실습. 리스트 연산 복습문제\n",
    "\n",
    "# 문제1. 부분 삭제 후 연결\n",
    "fruits = [\"apple\", \"banana\", \"cherry\", \"grape\", \"watermelon\", \"strawberry\"]\n",
    "del fruits[1:4]\n",
    "result = fruits[:1] + fruits[1:]\n",
    "print(result)\n",
    "\n",
    "print(\"\")\n",
    "# 문제2. 반복 리스트 내부 요소 삭제\n",
    "letters = [\"A\", \"B\"]\n",
    "new_letters = letters * 3\n",
    "del new_letters[2]\n",
    "print(new_letters)"
   ]
  },
  {
   "cell_type": "code",
   "execution_count": null,
   "id": "1ace936a",
   "metadata": {},
   "outputs": [
    {
     "name": "stdout",
     "output_type": "stream",
     "text": [
      "1. len()\n",
      "8\n",
      "10\n",
      "\n",
      "2. append(x)\n",
      "[1, 2, 3, 4, 5, 6, 7, 8, 9, 10, 6, 7, 8]\n",
      "\n",
      "3. insert(idx, x)\n",
      "[0, 1, 2, 2.5, 3, 3.5, 2.5, 4, 5, 6, 7, 8, 9, 10, 6, 7, 8]\n",
      "\n",
      "4. remove(x)\n",
      "[0, 1, 2, 3, 2.5, 4, 5, 6, 7, 8, 9, 10, 6, 7, 8]\n",
      "\n",
      "5. pop(idx)\n",
      "[0, 1, 2, 3, 4, 5, 6, 7, 8, 9, 10, 6, 7]\n",
      "삭제한 요소:  2.5 , 8\n",
      "\n",
      "6. extend(iterable)\n",
      "['사과', '수박', '포도', '배', '복숭아', '토마토', '키위', '딸', '기']\n"
     ]
    }
   ],
   "source": [
    "# 리스트 주요 메서드(Method)\n",
    "# 매서드 : 클래스가 가지고 있는 주요한 기능\n",
    "numbers = [1,2,3,4,5,6,7,8,9,10]\n",
    "\n",
    "# 1. len() 함수: 시퀀스의 길이(요소의 개수)를 반환\n",
    "print(\"1. len()\")\n",
    "print(len(\"CodingOn\")) \n",
    "print(len(numbers)) \n",
    "print()\n",
    "\n",
    "# 2. append(x) : 리스트 끝에 요소 추가\n",
    "print(\"2. append(x)\")\n",
    "numbers.append(6) # → 메서드. list.append\n",
    "numbers.append(7)\n",
    "numbers.append(8)\n",
    "print(numbers)\n",
    "print()\n",
    "\n",
    "# 3. insert(index, x) : 지정한 인덱스에 요소를 삽입\n",
    "print(\"3. insert(idx, x)\")\n",
    "numbers.insert(2, 2.5)\n",
    "numbers.insert(4, 3.5)\n",
    "numbers.insert(5, 2.5)\n",
    "numbers.insert(0, 0)\n",
    "print(numbers)\n",
    "print()\n",
    "\n",
    "# 4. remove(x) : 특정 값(x)을 삭제\n",
    "# 가장 처음 발견된 해당 값(x)을 삭제\n",
    "print(\"4. remove(x)\")\n",
    "numbers.remove(2.5)\n",
    "numbers.remove(3.5)\n",
    "print(numbers)\n",
    "print()\n",
    "\n",
    "# 5. pop(idx) : 인덱스로 삭제\n",
    "# 삭제한 요소를 반환\n",
    "print(\"5. pop(idx)\")\n",
    "a = numbers.pop(4)\n",
    "b = numbers.pop() # 인덱스를 지정하지 않으면 마지막 요소를 삭제\n",
    "print(numbers)\n",
    "print(\"삭제한 요소: \", a,\",\", b)\n",
    "print()\n",
    "\n",
    "# 6. extend(iterable) : 리스트 끝에 여러 요소 추가\n",
    "print(\"6. extend(iterable)\")\n",
    "fruits = [\"사과\", \"수박\", \"포도\"]\n",
    "fruits.extend([\"배\", \"복숭아\"])\n",
    "fruits.extend((\"토마토\", \"키위\"))  # 튜플 추가\n",
    "fruits.extend(\"딸기\") # 문자열 추가\n",
    "print(fruits)\n",
    "print()\n"
   ]
  },
  {
   "cell_type": "code",
   "execution_count": 6,
   "id": "1b34357e",
   "metadata": {},
   "outputs": [
    {
     "name": "stdout",
     "output_type": "stream",
     "text": [
      "7. 리스트 정렬 : sort(), sorted()\n",
      "7-1. list.sort()\n",
      "오름차순: [1, 2, 3, 4]\n",
      "내림차순: [4, 3, 2, 1]\n",
      "7-2. sorted(list)\n",
      "원본 리스트: [50, 52, 53, 51]\n",
      "정렬된 리스트: [50, 51, 52, 53]\n",
      "정렬된 리스트 내림차순: [53, 52, 51, 50]\n"
     ]
    }
   ],
   "source": [
    "# 7. 리스트 정렬 : sort(), sorted()\n",
    "# 7-1. list.sort() : 원본 리스트를 정렬\n",
    "# → sort의 메서드\n",
    "print(\"7. 리스트 정렬 : sort(), sorted()\")\n",
    "print(\"7-1. list.sort()\")\n",
    "numbers1 = [3,2,1,4]\n",
    "numbers1.sort()\n",
    "print(\"오름차순:\", numbers1)\n",
    "numbers1.sort(reverse=True)\n",
    "print(\"내림차순:\", numbers1)\n",
    "# 7-2. sorted(list) : 정렬된 새로운 리스트를 반환 \n",
    "# → 파이썬의 내장 함수\n",
    "print(\"7-2. sorted(list)\")\n",
    "numbers2 = [50, 52, 53, 51]\n",
    "new_numbers = sorted(numbers2)\n",
    "new_numbers_desc = sorted(numbers2, reverse=True)\n",
    "print(\"원본 리스트:\", numbers2)\n",
    "print(\"정렬된 리스트:\", new_numbers)\n",
    "print(\"정렬된 리스트 내림차순:\", new_numbers_desc)\n"
   ]
  },
  {
   "cell_type": "code",
   "execution_count": 3,
   "id": "2c8d6a52",
   "metadata": {},
   "outputs": [
    {
     "name": "stdout",
     "output_type": "stream",
     "text": [
      "8. 리스트 뒤집기 : reverse(), reversed()\n",
      "8-1. list.reverse()\n",
      "reverse 1: [104, 103, 102, 101, 100]\n",
      "reverse 2: [100, 101, 102, 103, 104]\n",
      "8-2. reversed(list)\n",
      "원본 리스트: [11, 12, 13, 14, 15]\n",
      "뒤집힌 리스트: [15, 14, 13, 12, 11]\n"
     ]
    }
   ],
   "source": [
    "# 8. 리스트 뒤집기 : reverse(), reversed()\n",
    "# 8-1. list.reverse() : 원본 리스트를 뒤집음\n",
    "print(\"8. 리스트 뒤집기 : reverse(), reversed()\")\n",
    "print(\"8-1. list.reverse()\")\n",
    "my_numbers = [100,101,102,103,104]\n",
    "my_numbers.reverse()\n",
    "print(\"reverse 1:\", my_numbers)\n",
    "my_numbers.reverse()\n",
    "print(\"reverse 2:\",my_numbers)\n",
    "# 8-2. reversed(list) : 새로운 리스트를 반환\n",
    "print(\"8-2. reversed(list)\")\n",
    "my_numbers2 = [11,12,13,14,15]\n",
    "my_numbers2_rev = list(reversed(my_numbers2))\n",
    "print(\"원본 리스트:\", my_numbers2)\n",
    "print(\"뒤집힌 리스트:\", my_numbers2_rev)"
   ]
  },
  {
   "cell_type": "code",
   "execution_count": null,
   "id": "307378e8",
   "metadata": {},
   "outputs": [
    {
     "name": "stdout",
     "output_type": "stream",
     "text": [
      "9. count(x)\n",
      "5\n",
      "\n",
      "10. min(list), max(list)\n",
      "최소값 20\n",
      "최댓값 1000\n",
      "\n",
      "11. sum(list)\n",
      "요소들의 합 1730\n"
     ]
    }
   ],
   "source": [
    "# 9. count(x) : 값의 개수 세기\n",
    "print(\"9. count(x)\")\n",
    "numbers = [1,2,2,2,2,2,3,4,5,6,7]\n",
    "print(numbers.count(2))\n",
    "\n",
    "print()\n",
    "# 10. min(list), max(list):최대값 / 최소값 찾기\n",
    "print(\"10. min(list), max(list)\")\n",
    "numbers2 = [100,200,50,70,1000,40,20,250]\n",
    "print(\"최소값\", min(numbers2))\n",
    "print(\"최댓값\", max(numbers2))\n",
    "\n",
    "print()\n",
    "# 11. sum(list) : 요소들의 합 구하기 \n",
    "print(\"11. sum(list)\")\n",
    "print(\"요소들의 합\", sum(numbers2))"
   ]
  },
  {
   "cell_type": "code",
   "execution_count": 2,
   "id": "60de91b6",
   "metadata": {},
   "outputs": [
    {
     "name": "stdout",
     "output_type": "stream",
     "text": [
      "문제 1. 기차 탑승 시뮬레이션\n",
      "1. ['철수', '영희']\n",
      "2. ['철수', '영희', '민수', '지훈']\n",
      "3. ['철수', '민수', '지훈']\n",
      "4. ['철수', '수진', '민수', '지훈']\n",
      "5. ['지훈', '수진', '철수']\n"
     ]
    }
   ],
   "source": [
    "# 실습. 리스트 주요 메서드 복습 문제\n",
    "\n",
    "# 문제 1. 기차 탑승 시뮬레이션\n",
    "print(\"문제 1. 기차 탑승 시뮬레이션\")\n",
    "train = []\n",
    "train.append(\"철수\")\n",
    "train.append(\"영희\")\n",
    "print(\"1.\", train)\n",
    "\n",
    "train.extend([\"민수\",\"지훈\"])\n",
    "# train += [\"민수\",\"지훈\"]    # 이렇게도 표현 가능!\n",
    "print(\"2.\", train)\n",
    "\n",
    "train.remove(\"영희\")\n",
    "# train.pop(1)   # 이렇게도 표현 가능!\n",
    "print(\"3.\", train)\n",
    "\n",
    "train.insert(1,\"수진\")\n",
    "print(\"4.\", train)\n",
    "\n",
    "train.remove(\"민수\")\n",
    "train.reverse()\n",
    "print(\"5.\", train)"
   ]
  },
  {
   "cell_type": "code",
   "execution_count": 1,
   "id": "0529d61d",
   "metadata": {},
   "outputs": [
    {
     "name": "stdout",
     "output_type": "stream",
     "text": [
      "문제 2. 숫자 처리 게임\n",
      "1. [5, 3, 7, 4, 9]\n",
      "2.\n",
      "  가장 큰 수: 9\n",
      "  가장 작은 수: 3\n",
      "3. 총합: 28\n",
      "4. 정렬: [3, 4, 5, 7, 9]\n",
      "5. [3, 4, 5, 7]\n"
     ]
    }
   ],
   "source": [
    "# 문제 2. 숫자 처리 게임\n",
    "print(\"문제 2. 숫자 처리 게임\")\n",
    "card = [5,3,7]\n",
    "card.extend([4,9])\n",
    "print(\"1.\", card)\n",
    "\n",
    "print(\"2.\")\n",
    "print(\"  가장 큰 수:\", max(card))\n",
    "print(\"  가장 작은 수:\", min(card))\n",
    "\n",
    "print(\"3. 총합:\", sum(card))\n",
    "\n",
    "card.sort()\n",
    "print(\"4. 정렬:\", card)\n",
    "\n",
    "a = card.pop()\n",
    "print(\"5.\", card)"
   ]
  }
 ],
 "metadata": {
  "kernelspec": {
   "display_name": "python-study",
   "language": "python",
   "name": "python3"
  },
  "language_info": {
   "codemirror_mode": {
    "name": "ipython",
    "version": 3
   },
   "file_extension": ".py",
   "mimetype": "text/x-python",
   "name": "python",
   "nbconvert_exporter": "python",
   "pygments_lexer": "ipython3",
   "version": "3.13.5"
  }
 },
 "nbformat": 4,
 "nbformat_minor": 5
}
