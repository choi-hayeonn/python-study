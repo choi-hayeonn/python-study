{
 "cells": [
  {
   "cell_type": "markdown",
   "id": "4693f524",
   "metadata": {},
   "source": [
    "### 함수(function)\n",
    " - 특정 작업을 수행하는 코드들의 모음\n",
    " - 복잡한 코드를 작은 단우로 나눌 수 있게 도와줌\n",
    " - 특정한 코드들을 재사용 할 수 있게 함"
   ]
  },
  {
   "cell_type": "code",
   "execution_count": null,
   "id": "5a80652e",
   "metadata": {},
   "outputs": [],
   "source": [
    "# 사용자 정의 함수 기본 문법\n",
    "# 함수의 정의 : define의 약자로 def 사용\n",
    "def 함수이름(매개변수):\n",
    "    # 실행 할 코드\n",
    "    print(매개변수)\n",
    "    return \"반환값\"\n",
    "\n",
    "# 함수의 실행(호출 call)\n",
    "함수이름(\"인자\")\n",
    "\n",
    "# 매개변수(Parameter) : 매개 + 변수\n",
    "# 매개 : 둘 사이를 연결해줌\n",
    "# 함수가 실행될 때 인자로부터 값을 함수의 코드블록으로 전달하는 역할\n",
    "\n",
    "# 인자(Argument) :\n",
    "# 함수의 실행 시 매개변수로 전달하는 실제 값"
   ]
  },
  {
   "cell_type": "code",
   "execution_count": 3,
   "id": "0b09ce2e",
   "metadata": {},
   "outputs": [
    {
     "name": "stdout",
     "output_type": "stream",
     "text": [
      "30\n",
      "50\n",
      "30\n",
      "10\n"
     ]
    }
   ],
   "source": [
    "# 함수의 필요성\n",
    "\n",
    "def my_func(a,b):\n",
    "\n",
    "    if a > b:\n",
    "        return a - b\n",
    "    else:\n",
    "        return a + b\n",
    "\n",
    "print(my_func(10, 20))\n",
    "print(my_func(20, 30))\n",
    "print(my_func(100, 70))\n",
    "print(my_func(50, 40))\n"
   ]
  }
 ],
 "metadata": {
  "kernelspec": {
   "display_name": "python-study",
   "language": "python",
   "name": "python3"
  },
  "language_info": {
   "codemirror_mode": {
    "name": "ipython",
    "version": 3
   },
   "file_extension": ".py",
   "mimetype": "text/x-python",
   "name": "python",
   "nbconvert_exporter": "python",
   "pygments_lexer": "ipython3",
   "version": "3.13.5"
  }
 },
 "nbformat": 4,
 "nbformat_minor": 5
}
