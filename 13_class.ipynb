{
 "cells": [
  {
   "cell_type": "markdown",
   "id": "5115b288",
   "metadata": {},
   "source": [
    "### 13. 클래스(class)\n",
    " - 데이터와 기능을 하나로 묶는 구조\n",
    " - 개념적(기능적)으로 유사한 관계에 있는 것들을 묶어줌"
   ]
  },
  {
   "cell_type": "code",
   "execution_count": null,
   "id": "c46ca758",
   "metadata": {},
   "outputs": [
    {
     "name": "stdout",
     "output_type": "stream",
     "text": [
      "이 인스턴스의 이름은 내 인스턴스입니다.\n",
      "이 인스턴스의 이름은 다른 인스턴스입니다.\n"
     ]
    }
   ],
   "source": [
    "# 클래스 기본 문법\n",
    "# 클래스의 정의 \n",
    "class ClassName:\n",
    "    # 생성자(Constructor): 인스턴스가 생성될 때 호출\n",
    "    # 인스턴스 변수를 초기화, 기본 상태 설정\n",
    "    # 하나의 클래스에서 하나만 정의 가능\n",
    "    def __init__(self, name):\n",
    "        # 인스턴스 변수\n",
    "        # self : 인스턴스 자기 자신을 가리킴\n",
    "        self.name = name\n",
    "        self.age = 0\n",
    "    # (인스턴스) 메서드\n",
    "    def method_name(self):\n",
    "        print(f\"이 인스턴스의 이름은 {self.name}입니다.\")\n",
    "\n",
    "# 인스턴스의 생성\n",
    "my_instance = ClassName(\"내 인스턴스\")\n",
    "my_instance.name\n",
    "my_instance.method_name()\n",
    "\n",
    "another_instance = ClassName(\"다른 인스턴스\")\n",
    "another_instance.method_name()"
   ]
  },
  {
   "cell_type": "code",
   "execution_count": 4,
   "id": "15f5f1f7",
   "metadata": {},
   "outputs": [
    {
     "name": "stdout",
     "output_type": "stream",
     "text": [
      "안녕하세요, 저는 ian입니다. 나이는 15살입니다.\n",
      "사는 곳은 창동이구요, 취미는 책읽기입니다.\n",
      "나이를 한 살 더 먹었습니다. 현재나이: 16\n",
      "안녕하세요, 저는 ian입니다. 나이는 16살입니다.\n",
      "사는 곳은 창동이구요, 취미는 책읽기입니다.\n",
      "\n",
      "안녕하세요, 저는 codingowl입니다. 나이는 5살입니다.\n",
      "사는 곳은 염리동이구요, 취미는 코딩입니다.\n",
      "나이를 한 살 더 먹었습니다. 현재나이: 6\n",
      "안녕하세요, 저는 codingowl입니다. 나이는 6살입니다.\n",
      "사는 곳은 염리동이구요, 취미는 코딩입니다.\n"
     ]
    }
   ],
   "source": [
    "class Person:\n",
    "    def __init__(self, name, age, address, hobby):\n",
    "        self.name = name\n",
    "        self.age = age\n",
    "        self.address = address\n",
    "        self.hobby = hobby\n",
    "\n",
    "    def inroduce(self):\n",
    "        print(f\"안녕하세요, 저는 {self.name}입니다. 나이는 {self.age}살입니다.\")\n",
    "        print(f\"사는 곳은 {self.address}이구요, 취미는 {self.hobby}입니다.\")\n",
    "\n",
    "    def add_age(self):\n",
    "        self.age += 1 \n",
    "        print(f\"나이를 한 살 더 먹었습니다. 현재나이: {self.age}\")\n",
    "\n",
    "p1 = Person(\"ian\", 15 , \"창동\", \"책읽기\")\n",
    "p1.inroduce()\n",
    "p1.add_age()\n",
    "p1.inroduce()\n",
    "print()\n",
    "\n",
    "p2 = Person(\"codingowl\", 5 , \"염리동\", \"코딩\")\n",
    "p2.inroduce()\n",
    "p2.add_age()\n",
    "p2.inroduce()\n",
    "        "
   ]
  },
  {
   "cell_type": "code",
   "execution_count": null,
   "id": "3f049616",
   "metadata": {},
   "outputs": [
    {
     "name": "stdout",
     "output_type": "stream",
     "text": [
      "📕 책 제목: 🌌COSMOS🌟\n",
      "✍ 작가: 🌏Carl Sagon🪐\n",
      "👓 300페이지를 읽었습니다. (현재 300/365페이지)\n",
      "📖 읽기 진행률: 82.2%\n"
     ]
    }
   ],
   "source": [
    "\n",
    "# 실습. class 기본 문법 연습\n",
    "\n",
    "# 문제1. 책 클래스 만들기\n",
    "class Book:\n",
    "    def __init__(self, title, author, total_pages, current_pages):        \n",
    "        self.title = title\n",
    "        self.author = author\n",
    "        self.total_pages = total_pages\n",
    "        self.current_page = current_pages  \n",
    "    \n",
    "    def read_page(self, pages):\n",
    "        self.current_page += pages\n",
    "        if pages < 0:\n",
    "            print(\"읽을 페이지 수는 0 이상이어야 합니다.\")\n",
    "            return\n",
    "        \n",
    "        if self.current_page > self.total_pages:\n",
    "            self.current_page = self.total_pages\n",
    "            print(f\"책을 끝까지 다 읽었어요.\")\n",
    "            return\n",
    "        \n",
    "        else:\n",
    "            print(f\"👓 {pages}페이지를 읽었습니다. (현재 {self.current_page}/{self.total_pages}페이지)\")\n",
    "    \n",
    "    def progress(self):\n",
    "        percentage = (self.current_page / self.total_pages) * 100        \n",
    "        print(f\"📖 읽기 진행률: {percentage:.1f}%\")\n",
    "    \n",
    "B1 = Book(\"🌌COSMOS🌟\", \"🌏Carl Sagon🪐\" , 365, 0)\n",
    "print(f\"📕 책 제목: {B1.title}\")\n",
    "print(f\"✍ 작가: {B1.author}\")\n",
    "\n",
    "B1.read_page(300)\n",
    "B1.progress()\n",
    "    "
   ]
  },
  {
   "cell_type": "code",
   "execution_count": 31,
   "id": "57008fbe",
   "metadata": {},
   "outputs": [
    {
     "name": "stdout",
     "output_type": "stream",
     "text": [
      "사각형의 넓이는 20입니다.\n"
     ]
    }
   ],
   "source": [
    "# 문제2. Rectangle 클래스 구현\n",
    "class Rectangle:\n",
    "    def __init__(self, width, height):        \n",
    "        self.width = width\n",
    "        self.height = height\n",
    "\n",
    "    def area(self):\n",
    "        return self.width * self.height\n",
    "    \n",
    "w = int(input(\"너비를 입력하세요.\"))\n",
    "h = int(input(\"높이를 입력하세요.\"))\n",
    "\n",
    "my_rect = Rectangle(w,h)\n",
    "\n",
    "print(f\"사각형의 넓이는 {my_rect.area()}입니다.\")"
   ]
  },
  {
   "cell_type": "code",
   "execution_count": 33,
   "id": "fde1e9bb",
   "metadata": {},
   "outputs": [
    {
     "name": "stdout",
     "output_type": "stream",
     "text": [
      "인1: 강아지\n",
      "인2: 강아지\n",
      "클래스: 강아지\n"
     ]
    }
   ],
   "source": [
    "# 클래스 변수\n",
    "# 클래스가 가지고 있는 변수\n",
    "# 모든 인스턴스가 공유할 수 있음\n",
    "\n",
    "class Dog:\n",
    "    kind = \"강아지\"\n",
    "\n",
    "    def __init__(self, species, name, age):\n",
    "        self.species = species\n",
    "        self.name = name\n",
    "        self.age = age\n",
    "\n",
    "dog1 = Dog(\"포메라니안\", \"리치\", 12)\n",
    "dog2 = Dog(\"비숑\", \"구름\", 10)\n",
    "\n",
    "print(\"인1:\", dog1.kind)\n",
    "print(\"인2:\", dog2.kind)\n",
    "print(\"클래스:\", Dog.kind)"
   ]
  },
  {
   "cell_type": "code",
   "execution_count": null,
   "id": "d30245b8",
   "metadata": {},
   "outputs": [
    {
     "name": "stdout",
     "output_type": "stream",
     "text": [
      "1\n",
      "2\n",
      "현재 2권의 책을 가지고 계십니다.\n"
     ]
    }
   ],
   "source": [
    "# 클래스 메서드\n",
    "# 클래스 자체를 대상으로 동작하는 메서드\n",
    "# 클래스의 데이터를 조작하는데 사용\n",
    "\n",
    "class Book:\n",
    "    book_count = 0\n",
    "\n",
    "    def __init__(self, title, author):        \n",
    "        Book.book_count += 1 \n",
    "        self.title = title\n",
    "        self.author = author\n",
    "    \n",
    "    @classmethod    # 데코레이터\n",
    "    def get_count(cls):\n",
    "        print(f\"현재 {cls.book_count}권의 책을 가지고 계십니다.\")\n",
    "\n",
    "book1 = Book(\"넥서스\", \"유발 하라리\")\n",
    "print(Book.book_count)\n",
    "book2 = Book(\"맹자\", \"맹자\")\n",
    "print(Book.book_count)\n",
    "Book.get_count()\n",
    "       "
   ]
  },
  {
   "cell_type": "code",
   "execution_count": 39,
   "id": "26d3c145",
   "metadata": {},
   "outputs": [
    {
     "data": {
      "text/plain": [
       "30"
      ]
     },
     "execution_count": 39,
     "metadata": {},
     "output_type": "execute_result"
    }
   ],
   "source": [
    "# 정적 메서드\n",
    "# 클래스나 인스턴스의 데이터를 조작하지 않는 클래스 함수\n",
    "# 클래스나 인스턴스의 상태에 의존하지 않는 일반 함수\n",
    "# 개념적으로는 클래스와 연관이 있으나, 클래스나 인스턴스의 데이터를 조작하지 않는 함수를 정의\n",
    "\n",
    "class OperationTool:\n",
    "    @staticmethod  # 데코레이터\n",
    "    def add(a, b):\n",
    "        return a + b\n",
    "    \n",
    "OperationTool.add(10,20)"
   ]
  },
  {
   "cell_type": "code",
   "execution_count": 2,
   "id": "063a7457",
   "metadata": {},
   "outputs": [
    {
     "name": "stdout",
     "output_type": "stream",
     "text": [
      "😎Username: 👸Queen\n",
      "💰Points: 70\n",
      "💵포인트 8 추가\n",
      "🌟레벨: Bronze🥉\n",
      "👾총 유저 수: 1\n",
      "\n",
      "😎Username: 🥛Wilk\n",
      "💰Points: 995\n",
      "💵포인트 5 추가\n",
      "🌟레벨: Gold🥇\n",
      "👾총 유저 수: 2\n"
     ]
    }
   ],
   "source": [
    "class User :\n",
    "    total_users = 0\n",
    "\n",
    "    def __init__(self, username, points):        \n",
    "        User. total_users += 1 \n",
    "        self.username = username\n",
    "        self.points = points\n",
    "    \n",
    "    def add_points(self, amount):\n",
    "        self.points += amount\n",
    "        print(f\"💵포인트 {amount} 추가\")\n",
    "        return self.points\n",
    "        \n",
    "\n",
    "    def get_level(self):\n",
    "        if self.points <= 99:\n",
    "            print(\"🌟레벨: Bronze🥉\")\n",
    "            return \"Bronze\"\n",
    "        elif self.points <= 499:\n",
    "            print(\"🌟레벨: Silver🥈\")\n",
    "            return \"Silver\"     \n",
    "        else:\n",
    "            print(\"🌟레벨: Gold🥇\")\n",
    "            return \"Gold\"\n",
    "        \n",
    "        \n",
    "    @classmethod    # 데코레이터\n",
    "    def  get_total_users(cls):\n",
    "        print(f\"👾총 유저 수: {cls. total_users}\")\n",
    "\n",
    "U1 = User(\"👸Queen\", 70)\n",
    "print(f\"😎Username: {U1.username}\")\n",
    "print(f\"💰Points: {U1.points}\")\n",
    "U1.add_points(8)\n",
    "U1.get_level()\n",
    "User.get_total_users()\n",
    "print()\n",
    "\n",
    "U2 = User(\"🥛Wilk\", 995)\n",
    "print(f\"😎Username: {U2.username}\")\n",
    "print(f\"💰Points: {U2.points}\")\n",
    "U2.add_points(5)\n",
    "U2.get_level()\n",
    "User.get_total_users()"
   ]
  },
  {
   "cell_type": "code",
   "execution_count": null,
   "id": "e42c7029",
   "metadata": {},
   "outputs": [
    {
     "data": {
      "text/plain": [
       "15"
      ]
     },
     "execution_count": 7,
     "metadata": {},
     "output_type": "execute_result"
    }
   ],
   "source": [
    "class Person:\n",
    "    def __init__(self, name, age):\n",
    "        self.name = name\n",
    "        self.__age = age\n",
    "\n",
    "    # getter\n",
    "    def get_age(self):  \n",
    "        return self.__age\n",
    "\n",
    "    # setter\n",
    "    def add_age(self):  \n",
    "        self.__age += 1\n",
    "\n",
    "p1 = Person(\"ian\", 15)\n",
    "p1.name = \"똥\"\n",
    "p1.name\n",
    "\n",
    "# 외부에서 private 요소에 접근시도 → 접근할 수 없음\n",
    "#p1.__age\n",
    "        \n",
    "p1._Person__age  # ←네임 맹글링: 권장되지 x\n",
    "\n",
    "p1.get_age()\n",
    "p1.add_age()\n",
    "p1.get_age()\n",
    "        "
   ]
  }
 ],
 "metadata": {
  "kernelspec": {
   "display_name": "python-study",
   "language": "python",
   "name": "python3"
  },
  "language_info": {
   "codemirror_mode": {
    "name": "ipython",
    "version": 3
   },
   "file_extension": ".py",
   "mimetype": "text/x-python",
   "name": "python",
   "nbconvert_exporter": "python",
   "pygments_lexer": "ipython3",
   "version": "3.13.5"
  }
 },
 "nbformat": 4,
 "nbformat_minor": 5
}
