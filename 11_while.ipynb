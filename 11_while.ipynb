{
 "cells": [
  {
   "cell_type": "markdown",
   "id": "54fbe64a",
   "metadata": {},
   "source": [
    "### 11. while문\n",
    "- 조건이 True인 동안 코드를 반복하는 반복문\n",
    "- 조건이 False가 되면 반복을 멈춤\n",
    "- 반복 횟수가 정해지지 않았을 때 사용\n"
   ]
  },
  {
   "cell_type": "code",
   "execution_count": null,
   "id": "2dbdd0eb",
   "metadata": {},
   "outputs": [],
   "source": [
    "# while문 기본 문법\n",
    "# 조건: 참/거짓을 구분할 수 있는 문장 → Ture, False를 반환하는 문장이 와야 함.\n",
    "\n",
    "#while 조건:\n",
    "    # 반복할 코드"
   ]
  },
  {
   "cell_type": "code",
   "execution_count": null,
   "id": "afbd6bf2",
   "metadata": {},
   "outputs": [],
   "source": [
    "# 무한루프\n",
    "# 사용시 주의해야 함\n",
    "# 반드시 종료조건이 있어야 함\n",
    "while True:\n",
    "    print(\"반복중\")"
   ]
  },
  {
   "cell_type": "code",
   "execution_count": 3,
   "id": "13206b22",
   "metadata": {},
   "outputs": [
    {
     "name": "stdout",
     "output_type": "stream",
     "text": [
      "계속 가세요!\n",
      "계속 가세요!\n",
      "중지!!\n"
     ]
    }
   ],
   "source": [
    "# 예제1\n",
    "light = \"green\"\n",
    "\n",
    "while light == \"green\":\n",
    "    print(\"계속 가세요!\")\n",
    "    light = input(\"신호등의 신호를 입력해주세요(green/yellow/red)\")\n",
    "print(\"중지!!\")"
   ]
  },
  {
   "cell_type": "code",
   "execution_count": 22,
   "id": "14930e25",
   "metadata": {},
   "outputs": [
    {
     "name": "stdout",
     "output_type": "stream",
     "text": [
      "0 반복\n",
      "1 반복\n",
      "2 반복\n",
      "3 반복\n",
      "4 반복\n",
      "반복 종료\n"
     ]
    }
   ],
   "source": [
    "import time\n",
    "\n",
    "# 예제2 : 별도의 반복 변수를 정의\n",
    "# 🚨반복 변수를 갱신하지 않을 시 무한루프에 빠지게 됨.\n",
    "i = 0\n",
    "\n",
    "while i < 5:\n",
    "    print(i, \"반복\")\n",
    "    i += 1\n",
    "    time.sleep(1)\n",
    "print(\"반복 종료\")"
   ]
  },
  {
   "cell_type": "code",
   "execution_count": null,
   "id": "87017a35",
   "metadata": {},
   "outputs": [
    {
     "name": "stdout",
     "output_type": "stream",
     "text": [
      "비밀 코드를 입력하세요\n",
      "비밀 코드를 입력하세요\n",
      "비밀 코드를 입력하세요\n",
      "비밀 코드를 입력하세요\n",
      "입장이 허용되었습니다!\n"
     ]
    }
   ],
   "source": [
    "# 실습. while문 연습문제(1)\n",
    "# 문제1. 비밀 코드 맞추기(1)\n",
    "secret_code = \"codingonre3\"\n",
    "user_input = \"\"\n",
    "\n",
    "while secret_code != user_input:\n",
    "    user_input = input(\"비밀 코드를 입력하세요\")\n",
    "    print(\"비밀 코드를 입력하세요\")\n",
    "print(\"입장이 허용되었습니다!\")"
   ]
  },
  {
   "cell_type": "code",
   "execution_count": 28,
   "id": "7799da23",
   "metadata": {},
   "outputs": [
    {
     "name": "stdout",
     "output_type": "stream",
     "text": [
      "정답이 입력한 숫자보다는 커요\n",
      "정답이 입력한 숫자보다는 작아요\n",
      "정답이 입력한 숫자보다는 커요\n",
      "정답이 입력한 숫자보다는 커요\n",
      "정답이 입력한 숫자보다는 작아요\n",
      "6번 만에 정답을 맞췄습니다.\n"
     ]
    }
   ],
   "source": [
    "import random\n",
    "\n",
    "# 문제2. 업다운 게임\n",
    "answer = random.randint(1,100)\n",
    "num = 0 # 사용자 입력 받을 변수\n",
    "time = 0 # 시행횟수를 저장할 변수\n",
    "\n",
    "# 사용자 입력과 정답이 같지 않을 때 반복\n",
    "while num != answer:\n",
    "    num = int(input(\"1~100 사이의 수를 입력해주세요.\"))\n",
    "    time += 1\n",
    "\n",
    "    if num < answer:\n",
    "        print(\"정답이 입력한 숫자보다는 커요\")\n",
    "\n",
    "    elif num > answer:\n",
    "        print(\"정답이 입력한 숫자보다는 작아요\")\n",
    "\n",
    "print(f\"{time}번 만에 정답을 맞췄습니다.\")"
   ]
  },
  {
   "cell_type": "code",
   "execution_count": null,
   "id": "210aad8f",
   "metadata": {},
   "outputs": [],
   "source": [
    "# 루프 제어문\n",
    "\n",
    "runnig = True\n",
    "while running:\n",
    "    if 조건1:\n",
    "        running = False\n",
    "    if 조건2:\n",
    "        running = False\n",
    "\n",
    "# break\n",
    "while True:\n",
    "    if 조건:\n",
    "        break"
   ]
  },
  {
   "cell_type": "code",
   "execution_count": null,
   "id": "3fc2601c",
   "metadata": {},
   "outputs": [
    {
     "name": "stdout",
     "output_type": "stream",
     "text": [
      "0 실행\n",
      "1 실행\n",
      "2 실행\n",
      "3 실행\n",
      "반복문 종료\n"
     ]
    }
   ],
   "source": [
    "# 예제 1-1\n",
    "i = 0\n",
    "\n",
    "while True:\n",
    "    print(i, \"실행\")\n",
    "    my_select = input(\"메뉴를 골라주세요:\")\n",
    "\n",
    "    if my_select == \"종료\":\n",
    "        break\n",
    "\n",
    "    if i > 5:\n",
    "        break\n",
    "    i += 1\n",
    "print(\"반복문 종료\")\n"
   ]
  },
  {
   "cell_type": "code",
   "execution_count": null,
   "metadata": {},
   "outputs": [
    {
     "name": "stdout",
     "output_type": "stream",
     "text": [
      "1 실행\n",
      "2 실행\n",
      "3 실행\n",
      "4 실행\n",
      "5 실행\n",
      "반복문 종료\n"
     ]
    }
   ],
   "source": [
    "# 예제 1-2\n",
    "i = 0\n",
    "\n",
    "while True:\n",
    "    i += 1    \n",
    "    if i > 5:\n",
    "        break\n",
    "    \n",
    "    print(i, \"실행\")\n",
    "print(\"반복문 종료\")"
   ]
  },
  {
   "cell_type": "code",
   "execution_count": null,
   "id": "e20780f9",
   "metadata": {},
   "outputs": [
    {
     "name": "stdout",
     "output_type": "stream",
     "text": [
      "1 실행\n",
      "2 실행\n",
      "3 실행\n",
      "4 실행\n",
      "5 실행\n",
      "반복문 종료\n"
     ]
    }
   ],
   "source": [
    "# 예제 1-3\n",
    "i = 0\n",
    "\n",
    "while i < 6:\n",
    "    i += 1    \n",
    "    if i > 5:\n",
    "        break\n",
    "    \n",
    "    print(i, \"실행\")\n",
    "print(\"반복문 종료\")\n",
    "\n",
    "# 일반적으로 while의 조건에 따라 while 문을 종료시키면 실행블록이 끝까지 실행된 후 종료되지만\n",
    "# break로 종료를 시키면, 이후 실행블록의 코드는 무시되고 바로 반복문을 탈출함."
   ]
  },
  {
   "cell_type": "code",
   "execution_count": 3,
   "id": "39292845",
   "metadata": {},
   "outputs": [
    {
     "name": "stdout",
     "output_type": "stream",
     "text": [
      "1\n",
      "3\n",
      "5\n",
      "반복종료\n"
     ]
    }
   ],
   "source": [
    "# continue\n",
    "# 예제 2\n",
    "i = 0\n",
    "while i < 5:\n",
    "    i += 1\n",
    "    if i % 2 == 0:\n",
    "        continue\n",
    "    print(i)\n",
    "print(\"반복종료\")"
   ]
  },
  {
   "cell_type": "code",
   "execution_count": null,
   "id": "f8caa26e",
   "metadata": {},
   "outputs": [
    {
     "name": "stdout",
     "output_type": "stream",
     "text": [
      "비밀코드가 틀렸습니다. 다시 시도하세요.\n",
      "입장이 허용되었습니다!\n"
     ]
    }
   ],
   "source": [
    "# 실습. while문 연습문제(2)\n",
    "\n",
    "# 문제1. 비밀 코드 맞추기(2)\n",
    "secret_code = \"codingonre3\"\n",
    "user_input = \"\"\n",
    "\n",
    "while True:\n",
    "    user_input = input(\"비밀 코드를 입력하세요\")\n",
    "\n",
    "    if user_input == secret_code:        \n",
    "        print(\"입장이 허용되었습니다!\")\n",
    "        break    \n",
    "    else:\n",
    "        print(\"비밀코드가 틀렸습니다. 다시 시도하세요.\")\n"
   ]
  },
  {
   "cell_type": "code",
   "execution_count": null,
   "id": "cdd9de45",
   "metadata": {},
   "outputs": [
    {
     "name": "stdout",
     "output_type": "stream",
     "text": [
      "1 70\n",
      "2 50\n",
      "3 30\n",
      "4 40\n",
      "5 60\n",
      "총 나이 합계는 250, 평균은 50.0 입니다.\n"
     ]
    }
   ],
   "source": [
    "# 문제2. 유효한 나이만 평균 내기(내가 푼 거)\n",
    "times = 1\n",
    "age_list = []\n",
    "\n",
    "while True:\n",
    "    \n",
    "    age = int(input(\"나이를 입력하세요: \"))    \n",
    "    age_list.append(age)\n",
    "    if age < 0:\n",
    "        continue\n",
    "    if age > 120:\n",
    "        continue\n",
    "    print(times, age)\n",
    "\n",
    "    times += 1\n",
    "    if times > 5:\n",
    "        break\n",
    "    \n",
    "print(f\"총 나이 합계는 {sum(age_list)}, 평균은 {sum(age_list)/len(age_list)} 입니다.\")"
   ]
  },
  {
   "cell_type": "code",
   "execution_count": 14,
   "id": "d091f5db",
   "metadata": {},
   "outputs": [
    {
     "name": "stdout",
     "output_type": "stream",
     "text": [
      "총 나이 합계는 172, 평균은 34.4 입니다.\n"
     ]
    }
   ],
   "source": [
    "# 문제2. 유효한 나이만 평균 내기(정답)\n",
    "cnt = 0\n",
    "sum_age = 0\n",
    "\n",
    "while cnt < 5:\n",
    "    age = int(input(\"나이를 입력하세요: \"))\n",
    "\n",
    "    if age <=0 or age > 120:\n",
    "        continue\n",
    "\n",
    "    cnt += 1\n",
    "    sum_age += age\n",
    "\n",
    "print(f\"총 나이 합계는 {sum_age}, 평균은 {sum_age / cnt} 입니다.\")"
   ]
  },
  {
   "cell_type": "code",
   "execution_count": 12,
   "id": "680f9faa",
   "metadata": {},
   "outputs": [
    {
     "name": "stdout",
     "output_type": "stream",
     "text": [
      "2단\n",
      "2 x 1 = 2\n",
      "2 x 2 = 4\n",
      "2 x 3 = 6\n",
      "2 x 4 = 8\n",
      "2 x 5 = 10\n",
      "2 x 6 = 12\n",
      "2 x 7 = 14\n",
      "2 x 8 = 16\n",
      "2 x 9 = 18\n",
      "\n",
      "3단\n",
      "3 x 1 = 3\n",
      "3 x 2 = 6\n",
      "3 x 3 = 9\n",
      "3 x 4 = 12\n",
      "3 x 5 = 15\n",
      "3 x 6 = 18\n",
      "3 x 7 = 21\n",
      "3 x 8 = 24\n",
      "3 x 9 = 27\n",
      "\n",
      "4단\n",
      "4 x 1 = 4\n",
      "4 x 2 = 8\n",
      "4 x 3 = 12\n",
      "4 x 4 = 16\n",
      "4 x 5 = 20\n",
      "4 x 6 = 24\n",
      "4 x 7 = 28\n",
      "4 x 8 = 32\n",
      "4 x 9 = 36\n",
      "\n",
      "5단\n",
      "5 x 1 = 5\n",
      "5 x 2 = 10\n",
      "5 x 3 = 15\n",
      "5 x 4 = 20\n",
      "5 x 5 = 25\n",
      "5 x 6 = 30\n",
      "5 x 7 = 35\n",
      "5 x 8 = 40\n",
      "5 x 9 = 45\n",
      "\n",
      "6단\n",
      "6 x 1 = 6\n",
      "6 x 2 = 12\n",
      "6 x 3 = 18\n",
      "6 x 4 = 24\n",
      "6 x 5 = 30\n",
      "6 x 6 = 36\n",
      "6 x 7 = 42\n",
      "6 x 8 = 48\n",
      "6 x 9 = 54\n",
      "\n",
      "7단\n",
      "7 x 1 = 7\n",
      "7 x 2 = 14\n",
      "7 x 3 = 21\n",
      "7 x 4 = 28\n",
      "7 x 5 = 35\n",
      "7 x 6 = 42\n",
      "7 x 7 = 49\n",
      "7 x 8 = 56\n",
      "7 x 9 = 63\n",
      "\n",
      "8단\n",
      "8 x 1 = 8\n",
      "8 x 2 = 16\n",
      "8 x 3 = 24\n",
      "8 x 4 = 32\n",
      "8 x 5 = 40\n",
      "8 x 6 = 48\n",
      "8 x 7 = 56\n",
      "8 x 8 = 64\n",
      "8 x 9 = 72\n",
      "\n",
      "9단\n",
      "9 x 1 = 9\n",
      "9 x 2 = 18\n",
      "9 x 3 = 27\n",
      "9 x 4 = 36\n",
      "9 x 5 = 45\n",
      "9 x 6 = 54\n",
      "9 x 7 = 63\n",
      "9 x 8 = 72\n",
      "9 x 9 = 81\n",
      "\n"
     ]
    }
   ],
   "source": [
    "# 중첩 while문\n",
    "# 예제\n",
    "\n",
    "dan = 2\n",
    "while dan <= 9:\n",
    "    num = 1\n",
    "    print(f\"{dan}단\")\n",
    "    while num <= 9:\n",
    "        print(f\"{dan} x {num} = {dan * num}\")\n",
    "        num += 1\n",
    "    print()\n",
    "    dan += 1"
   ]
  },
  {
   "cell_type": "code",
   "execution_count": null,
   "id": "feda755e",
   "metadata": {},
   "outputs": [
    {
     "name": "stdout",
     "output_type": "stream",
     "text": [
      "로그인 성공!\n"
     ]
    }
   ],
   "source": [
    "# 실습. 중첩 while문 연습문제\n",
    "# 로그인 시스템 구현\n",
    "\n",
    "user_id = \"codingon\"\n",
    "user_pw = \"abc123\"\n",
    "\n",
    "while True:\n",
    "  # 아이디 확인\n",
    "  id_input = input(\"ID를 입력하세요: \")\n",
    "\n",
    "  # 아이디가 일치하지 않을시\n",
    "  if id_input != user_id:\n",
    "    print(\"ID가 일치하지 않습니다.\")\n",
    "    continue\n",
    "\n",
    "  while True:\n",
    "    # 비밀번호 확인\n",
    "    pw_input = input(\"비밀번호를 입력하세요: \")\n",
    "\n",
    "    if pw_input != user_pw:\n",
    "      print(\"비밀번호가 일치하지 않습니다.\")\n",
    "      continue\n",
    "\n",
    "    print(\"로그인 성공!\")\n",
    "    break\n",
    "\n",
    "    # if pw_input == user_pw:\n",
    "    #   print(\"로그인 성공\")\n",
    "    #   break\n",
    "\n",
    "    # print(\"비밀번호가 일치하지 않습니다.\")\n",
    "    # continue\n",
    "  \n",
    "  break"
   ]
  }
 ],
 "metadata": {
  "kernelspec": {
   "display_name": "python-study",
   "language": "python",
   "name": "python3"
  },
  "language_info": {
   "codemirror_mode": {
    "name": "ipython",
    "version": 3
   },
   "file_extension": ".py",
   "mimetype": "text/x-python",
   "name": "python",
   "nbconvert_exporter": "python",
   "pygments_lexer": "ipython3",
   "version": "3.13.5"
  }
 },
 "nbformat": 4,
 "nbformat_minor": 5
}
