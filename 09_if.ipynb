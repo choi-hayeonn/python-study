{
 "cells": [
  {
   "cell_type": "markdown",
   "id": "9ecacfda",
   "metadata": {},
   "source": [
    "### 9. 조건문\n",
    " - 조건에 따라 프로그램의 실행 흐름을 분기시키는 제어문\n",
    " - 조건 : 참/거짓을 구분할 수 있는 문장"
   ]
  },
  {
   "cell_type": "code",
   "execution_count": 2,
   "id": "2ff69ec7",
   "metadata": {},
   "outputs": [
    {
     "name": "stdout",
     "output_type": "stream",
     "text": [
      "a는 10보다 커요\n",
      "조건문 종료\n"
     ]
    }
   ],
   "source": [
    "# 조건문의 기초 문법\n",
    "# if + 조건 → 조건이 참이면 실행\n",
    "a = int(input())\n",
    "if a >10: \n",
    "    print(\"a는 10보다 커요\")\n",
    "print(\"조건문 종료\")"
   ]
  },
  {
   "cell_type": "code",
   "execution_count": null,
   "id": "3212bbc2",
   "metadata": {},
   "outputs": [
    {
     "ename": "IndentationError",
     "evalue": "expected an indented block after 'if' statement on line 1 (940522720.py, line 2)",
     "output_type": "error",
     "traceback": [
      "  \u001b[36mCell\u001b[39m\u001b[36m \u001b[39m\u001b[32mIn[3]\u001b[39m\u001b[32m, line 2\u001b[39m\n\u001b[31m    \u001b[39m\u001b[31mprint(\"a는 10보다 커요\") #indent 에러\u001b[39m\n    ^\n\u001b[31mIndentationError\u001b[39m\u001b[31m:\u001b[39m expected an indented block after 'if' statement on line 1\n"
     ]
    }
   ],
   "source": [
    "# 들여쓰기 에러\n",
    "if a >10: \n",
    "print(\"a는 10보다 커요\") #indent 에러"
   ]
  },
  {
   "cell_type": "code",
   "execution_count": 4,
   "id": "b2c56e8b",
   "metadata": {},
   "outputs": [],
   "source": [
    "# 조건문에 실행할 코드를 작성하지 않았을 때\n",
    "# pass로 해당 조건문을 넘어갈 수 있음\n",
    "if a > 100:\n",
    "    pass"
   ]
  },
  {
   "cell_type": "code",
   "execution_count": 11,
   "id": "4f7b7ee9",
   "metadata": {},
   "outputs": [
    {
     "name": "stdout",
     "output_type": "stream",
     "text": [
      "참이라면 실행\n"
     ]
    }
   ],
   "source": [
    "# 조건식의 평가(Truthy, Falsy한 값)\n",
    "Falsy = \"\"\n",
    "if Falsy:\n",
    "    print(\"참이면 실행\")\n",
    "\n",
    "Truthy = \"10\"\n",
    "if Truthy:\n",
    "    print(\"참이라면 실행\")"
   ]
  },
  {
   "cell_type": "code",
   "execution_count": 16,
   "id": "83735cc7",
   "metadata": {},
   "outputs": [
    {
     "name": "stdout",
     "output_type": "stream",
     "text": [
      "선크림을 바르세요!🌞\n"
     ]
    }
   ],
   "source": [
    "# 실습. 날씨에 따른 준비물 안내\n",
    "\n",
    "weather = input(\"오늘 날씨를 입력하세요 (비/맑음): \")\n",
    "\n",
    "# 비가 오는 경우\n",
    "if weather == \"비\": \n",
    "    print(\"우산을 챙기세요!🌂\")\n",
    "\n",
    "# 맑은 경우\n",
    "if weather == \"맑음\": \n",
    "    print(\"선크림을 바르세요!🌞\")\n",
    "\n"
   ]
  },
  {
   "cell_type": "code",
   "execution_count": 20,
   "id": "748ad753",
   "metadata": {},
   "outputs": [
    {
     "name": "stdout",
     "output_type": "stream",
     "text": [
      "a는 10보다 작아요.\n"
     ]
    }
   ],
   "source": [
    "# if - else 문\n",
    "# 조건이 참일 때는 if문을 조건이 거짓일 때는 else문을 실행\n",
    "# else : '아니라면'의 의미 → 조건이 필요X, if문과 반드시 같이 나와야 함.\n",
    "\n",
    "a = int(input())\n",
    "if a > 10:\n",
    "    print(\"a는 10보다 커요.\")\n",
    "else:\n",
    "    print(\"a는 10보다 작아요.\")"
   ]
  },
  {
   "cell_type": "code",
   "execution_count": 24,
   "id": "a2211e8a",
   "metadata": {},
   "outputs": [
    {
     "name": "stdout",
     "output_type": "stream",
     "text": [
      "짝수입니다.\n"
     ]
    }
   ],
   "source": [
    "# 실습. 짝수 홀수 판별기\n",
    "\n",
    "a = int(input(\"정수를 입력해 주세요.\"))\n",
    "if a%2 == 0:\n",
    "    print(\"짝수입니다.\")\n",
    "else:\n",
    "    print(\"홀수입니다.\")"
   ]
  },
  {
   "cell_type": "code",
   "execution_count": 26,
   "id": "2a9f0507",
   "metadata": {},
   "outputs": [
    {
     "name": "stdout",
     "output_type": "stream",
     "text": [
      "C\n"
     ]
    }
   ],
   "source": [
    "# if - elif - else 구문\n",
    "# elif : else if 의 약자, 그게 아니라 만약 ~ 라면\n",
    "# 조건을 반드시 기록\n",
    "# if가 있어야만 사용할 수 있음\n",
    "\n",
    "score = int(input(\"정수를 입력해 주세요.\"))\n",
    "if score >= 90:\n",
    "    print(\"A\")\n",
    "elif score >= 80:\n",
    "    print(\"B\")\n",
    "elif score >= 70:\n",
    "    print(\"C\")\n",
    "elif score >= 60:\n",
    "    print(\"D\")\n",
    "else:\n",
    "    print(\"F\")"
   ]
  },
  {
   "cell_type": "code",
   "execution_count": 27,
   "id": "5d0596eb",
   "metadata": {},
   "outputs": [
    {
     "name": "stdout",
     "output_type": "stream",
     "text": [
      "C\n",
      "D\n"
     ]
    }
   ],
   "source": [
    "score = int(input(\"정수를 입력해 주세요.\"))\n",
    "if score >= 90:\n",
    "    print(\"A\")\n",
    "if score >= 80:\n",
    "    print(\"B\")\n",
    "if score >= 70:\n",
    "    print(\"C\")\n",
    "if score >= 60:\n",
    "    print(\"D\")"
   ]
  },
  {
   "cell_type": "code",
   "execution_count": null,
   "id": "af6cbe35",
   "metadata": {},
   "outputs": [
    {
     "name": "stdout",
     "output_type": "stream",
     "text": [
      "15세 이상 관람가\n"
     ]
    }
   ],
   "source": [
    "# 실습. 나이에 따른 영화 관람 가능 여부\n",
    "\n",
    "age = int(input(\"나이를 입력해 주세요.\"))\n",
    "\n",
    "if age <= 12 :\n",
    "    print(\"전체 관람가\")\n",
    "elif age <= 15 :\n",
    "    print(\"15세 이상 관람가\")\n",
    "elif age <= 18:\n",
    "    print(\"15세 이상 관람가\")\n",
    "else:\n",
    "    print(\"청소년 관람불가 가능\")\n"
   ]
  },
  {
   "cell_type": "code",
   "execution_count": 51,
   "id": "29a88428",
   "metadata": {},
   "outputs": [
    {
     "name": "stdout",
     "output_type": "stream",
     "text": [
      "로그인 성공!\n"
     ]
    }
   ],
   "source": [
    "\n",
    "# 중첩 조건문\n",
    "# 하나의 if문 안에 또 다른 if문을 사용하는 것\n",
    "\n",
    "# 로그인 프로세스\n",
    "username = input(\"관리자 아이디를 입력하세요:\")\n",
    "\n",
    "if username == \"admin\":\n",
    "    password = input(\"비밀번호를 입력하세요:\")\n",
    "    if password == \"1234\":\n",
    "        print(\"로그인 성공!\")\n",
    "    else:\n",
    "     print(\"잘못된 비밀번호에요.\")\n",
    "else: \n",
    "    print(\"존재하지 않은 사용자입니다\")"
   ]
  },
  {
   "cell_type": "code",
   "execution_count": null,
   "id": "c2cbbf00",
   "metadata": {},
   "outputs": [],
   "source": [
    "username = input(\"관리자 아이디를 입력하세요:\")\n",
    "password = input(\"비밀번호를 입력하세요:\")\n",
    "\n",
    "if username == \"admin\" and password = \"abcd\":\n",
    "    print(\"로그인 성공!\")\n",
    "  else:\n",
    "    print(\"잘못된 비밀번호에요.\")\n",
    "\n",
    "else: \n",
    "    print(\"잘못된 관리자 계정입니다\")"
   ]
  },
  {
   "cell_type": "code",
   "execution_count": 34,
   "id": "7fcd676b",
   "metadata": {},
   "outputs": [
    {
     "name": "stdout",
     "output_type": "stream",
     "text": [
      "구매 성공!\n"
     ]
    }
   ],
   "source": [
    "# 실습. 편의점 도시락 구매하기\n",
    "price = int(input(\"금액:\"))\n",
    "food = input(\"상품명:\")\n",
    "\n",
    "if price < 1500:\n",
    "   print(\"금액이 부족합니다.\") \n",
    "elif price < 2500:\n",
    "    if food == \"삼각김밥\":\n",
    "        print(\"구매 성공!\") \n",
    "    else:\n",
    "        print(\"금액이 부족합니다.\") \n",
    "elif price < 4000:\n",
    "    if food == \"도시락\":\n",
    "        print(\"금액이 부족합니다.\") \n",
    "    else:\n",
    "        print(\"구매 성공!\") \n",
    "else:\n",
    "    print(\"구매 성공!\") "
   ]
  },
  {
   "cell_type": "code",
   "execution_count": null,
   "id": "6ccc27d1",
   "metadata": {},
   "outputs": [
    {
     "name": "stdout",
     "output_type": "stream",
     "text": [
      "도시락을 구입했습니다.\n"
     ]
    }
   ],
   "source": [
    "# 실습. 편의점 도시락 구매하기!!\n",
    "money = int(input(\"금액:\"))\n",
    "item = input(\"상품명:\")\n",
    "김밥, 삼각김밥, 도시락 = 1500, 2500, 4000\n",
    "\n",
    "if item == \"김밥\":\n",
    "    if money >= 김밥:\n",
    "        print(\"김밥을 구입했습니다.\")\n",
    "    else:\n",
    "        print(\"금액이 부족해요.\")\n",
    "elif item == \"삼각김밥\":\n",
    "    if money >= 삼각김밥:\n",
    "        print(\"삼각김밥을 구입했습니다.\")\n",
    "    else:\n",
    "        print(\"금액이 부족해요.\")\n",
    "elif item == \"도시락\":\n",
    "    if money >= 도시락:\n",
    "        print(\"도시락을 구입했습니다.\")\n",
    "    else:\n",
    "        print(\"금액이 부족해요.\")\n",
    "else:\n",
    "    print(\"입력이 잘못되었습니다.\")\n"
   ]
  },
  {
   "cell_type": "code",
   "execution_count": null,
   "id": "dd6b373e",
   "metadata": {},
   "outputs": [
    {
     "name": "stdout",
     "output_type": "stream",
     "text": [
      "1시 18분 20초\n"
     ]
    }
   ],
   "source": [
    "# 실습. 조건문을 이용해서 초를 입력하면 시, 분, 초로 나누어 알려주는 프로그램을 만들어봅시다.\n",
    "\n",
    "time = int(input(\"시간:\"))\n",
    "\n",
    "hour = time//3600\n",
    "minute = time%3600//60\n",
    "second = time%3600%60\n",
    "\n",
    "if time >= 3600:\n",
    "    print(f\"{hour}시 {minute}분 {second}초\")\n",
    "elif time >= 60:\n",
    "     print(f\"{minute}분 {second}초\")\n",
    "else:\n",
    "    print(f\"{second}초\")\n",
    " "
   ]
  },
  {
   "cell_type": "code",
   "execution_count": null,
   "id": "16097562",
   "metadata": {},
   "outputs": [
    {
     "name": "stdout",
     "output_type": "stream",
     "text": [
      "12시간 38분 0초\n"
     ]
    }
   ],
   "source": [
    "# 실습. 조건문을 이용해서 초를 입력하면 시, 분, 초로 나누어 알려주는 프로그램을 만들어봅시다!!\n",
    "hour, minute, second = 0, 0, 0\n",
    "\n",
    "input_second = int(input())\n",
    "\n",
    "minute = input_second // 60\n",
    "second == input_second % 60\n",
    "\n",
    "hour = minute // 60\n",
    "minute %= 60\n",
    "\n",
    "if hour > 0:\n",
    "    print(f\"{hour}시간 {minute}분 {second}초\")\n",
    "elif minute > 0:\n",
    "    print(f\"{minute}분 {second}초\")\n",
    "else:\n",
    "     print(f\"{second}초\")\n"
   ]
  }
 ],
 "metadata": {
  "kernelspec": {
   "display_name": "python-study",
   "language": "python",
   "name": "python3"
  },
  "language_info": {
   "codemirror_mode": {
    "name": "ipython",
    "version": 3
   },
   "file_extension": ".py",
   "mimetype": "text/x-python",
   "name": "python",
   "nbconvert_exporter": "python",
   "pygments_lexer": "ipython3",
   "version": "3.13.5"
  }
 },
 "nbformat": 4,
 "nbformat_minor": 5
}
