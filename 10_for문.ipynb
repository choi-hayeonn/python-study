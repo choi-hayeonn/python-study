{
 "cells": [
  {
   "cell_type": "markdown",
   "id": "439cc9fd",
   "metadata": {},
   "source": [
    "### 10. for문\n",
    " - 이터러블의 요소를 하나씩 꺼내서 실행 블록에 전달하는 반복문"
   ]
  },
  {
   "cell_type": "code",
   "execution_count": 2,
   "id": "e59ed098",
   "metadata": {},
   "outputs": [
    {
     "name": "stdout",
     "output_type": "stream",
     "text": [
      "가\n",
      "나\n",
      "다\n",
      "라\n"
     ]
    }
   ],
   "source": [
    "import time\n",
    "\n",
    "# for문 기본 문법\n",
    "\n",
    "for 반복변수 in [\"가\", \"나\", \"다\", \"라\"]:\n",
    "    # 반복할 코드\n",
    "    print(반복변수)\n",
    "    time.sleep(1)"
   ]
  },
  {
   "cell_type": "code",
   "execution_count": null,
   "id": "c0020138",
   "metadata": {},
   "outputs": [
    {
     "name": "stdout",
     "output_type": "stream",
     "text": [
      "사과🍎\n",
      "딸기🍓\n",
      "복숭아🍑\n",
      "포도🍇\n",
      "수박🍉\n"
     ]
    }
   ],
   "source": [
    "# 리스트로 반복\n",
    "\n",
    "fruits = [\"사과🍎\", \"딸기🍓\", \"복숭아🍑\", \"포도🍇\", \"수박🍉\"]\n",
    "\n",
    "for fruit in fruits:\n",
    "    print(fruit)\n",
    "    time.sleep(0.5)"
   ]
  },
  {
   "cell_type": "code",
   "execution_count": null,
   "id": "2abb9c31",
   "metadata": {},
   "outputs": [
    {
     "name": "stdout",
     "output_type": "stream",
     "text": [
      "C\n",
      "o\n",
      "d\n",
      "i\n",
      "n\n",
      "O\n",
      "n\n"
     ]
    }
   ],
   "source": [
    "# 문자열로 반복\n",
    "\n",
    "my_str = \"CodinOn\"\n",
    "\n",
    "for char in my_str:\n",
    "    print(char)"
   ]
  },
  {
   "cell_type": "code",
   "execution_count": 8,
   "id": "0b626b67",
   "metadata": {},
   "outputs": [
    {
     "name": "stdout",
     "output_type": "stream",
     "text": [
      "x좌표: 1, y좌표: 2\n",
      "x좌표: 10, y좌표: 20\n",
      "x좌표: -6, y좌표: 8\n"
     ]
    }
   ],
   "source": [
    "# 튜플을 활용한 반복\n",
    "\n",
    "좌표 = [(1,2), (10,20), (-6,8)]\n",
    "\n",
    "for x,y in 좌표:\n",
    "    print(f\"x좌표: {x}, y좌표: {y}\")\n",
    "    time.sleep(1)"
   ]
  },
  {
   "cell_type": "code",
   "execution_count": 9,
   "id": "1dd0b2d1",
   "metadata": {},
   "outputs": [
    {
     "name": "stdout",
     "output_type": "stream",
     "text": [
      "x좌표: 1, y좌표: 2\n",
      "x좌표: 10, y좌표: 20\n",
      "x좌표: -6, y좌표: 8\n"
     ]
    }
   ],
   "source": [
    "좌표 = [[1,2], [10,20], [-6,8]]\n",
    "\n",
    "for x,y in 좌표:\n",
    "    print(f\"x좌표: {x}, y좌표: {y}\")\n",
    "    time.sleep(1)"
   ]
  }
 ],
 "metadata": {
  "kernelspec": {
   "display_name": "python-study",
   "language": "python",
   "name": "python3"
  },
  "language_info": {
   "codemirror_mode": {
    "name": "ipython",
    "version": 3
   },
   "file_extension": ".py",
   "mimetype": "text/x-python",
   "name": "python",
   "nbconvert_exporter": "python",
   "pygments_lexer": "ipython3",
   "version": "3.13.5"
  }
 },
 "nbformat": 4,
 "nbformat_minor": 5
}
